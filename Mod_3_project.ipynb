{
 "cells": [
  {
   "cell_type": "code",
   "execution_count": 1,
   "metadata": {},
   "outputs": [],
   "source": [
    "import pandas as pd\n",
    "import numpy as np\n",
    "import matplotlib.pyplot as plt\n",
    "import seaborn as sns\n",
    "from sklearn.model_selection import train_test_split\n",
    "from sklearn import metrics\n",
    "from sklearn.preprocessing import PolynomialFeatures\n",
    "from sklearn.preprocessing import StandardScaler\n",
    "import warnings\n",
    "warnings.filterwarnings('ignore')\n",
    "from sklearn.neighbors import KNeighborsClassifier\n",
    "from sklearn.tree import DecisionTreeClassifier\n",
    "from sklearn.preprocessing import StandardScaler\n",
    "from sklearn.linear_model import LogisticRegression\n",
    "from sklearn.feature_selection import SelectKBest, f_regression,mutual_info_regression\n",
    "from sklearn.metrics import precision_score, recall_score, accuracy_score, f1_score\n",
    "from sklearn.model_selection import GridSearchCV\n",
    "from sklearn.model_selection import RandomizedSearchCV\n",
    "from sklearn.metrics import classification_report\n",
    "from sklearn.ensemble import BaggingClassifier, RandomForestClassifier\n",
    "import xgboost as xgb\n",
    "import os\n",
    "os.environ['KMP_DUPLICATE_LIB_OK']= 'True'"
   ]
  },
  {
   "cell_type": "code",
   "execution_count": 2,
   "metadata": {},
   "outputs": [],
   "source": [
    "df = pd.read_csv('data_sets/mod3p1.csv', encoding='latin-1')"
   ]
  },
  {
   "cell_type": "code",
   "execution_count": 3,
   "metadata": {},
   "outputs": [
    {
     "name": "stdout",
     "output_type": "stream",
     "text": [
      "32526\n",
      "14803\n"
     ]
    }
   ],
   "source": [
    "print (len(df))\n",
    "print (df['Zip_Code'].nunique())"
   ]
  },
  {
   "cell_type": "code",
   "execution_count": 4,
   "metadata": {
    "scrolled": true
   },
   "outputs": [
    {
     "data": {
      "text/html": [
       "<div>\n",
       "<style scoped>\n",
       "    .dataframe tbody tr th:only-of-type {\n",
       "        vertical-align: middle;\n",
       "    }\n",
       "\n",
       "    .dataframe tbody tr th {\n",
       "        vertical-align: top;\n",
       "    }\n",
       "\n",
       "    .dataframe thead th {\n",
       "        text-align: right;\n",
       "    }\n",
       "</style>\n",
       "<table border=\"1\" class=\"dataframe\">\n",
       "  <thead>\n",
       "    <tr style=\"text-align: right;\">\n",
       "      <th></th>\n",
       "      <th>id</th>\n",
       "      <th>State_Code</th>\n",
       "      <th>State_Name</th>\n",
       "      <th>State_ab</th>\n",
       "      <th>County</th>\n",
       "      <th>City</th>\n",
       "      <th>Place</th>\n",
       "      <th>Type</th>\n",
       "      <th>Primary</th>\n",
       "      <th>Zip_Code</th>\n",
       "      <th>Area_Code</th>\n",
       "      <th>ALand</th>\n",
       "      <th>AWater</th>\n",
       "      <th>Lat</th>\n",
       "      <th>Lon</th>\n",
       "      <th>Mean</th>\n",
       "      <th>Median</th>\n",
       "      <th>Stdev</th>\n",
       "      <th>sum_w</th>\n",
       "    </tr>\n",
       "  </thead>\n",
       "  <tbody>\n",
       "    <tr>\n",
       "      <th>32481</th>\n",
       "      <td>72026</td>\n",
       "      <td>72</td>\n",
       "      <td>Puerto Rico</td>\n",
       "      <td>PR</td>\n",
       "      <td>Adjuntas Municipio</td>\n",
       "      <td>Adjuntas</td>\n",
       "      <td>Adjuntas</td>\n",
       "      <td>Track</td>\n",
       "      <td>Track</td>\n",
       "      <td>601</td>\n",
       "      <td>787</td>\n",
       "      <td>42529236</td>\n",
       "      <td>210360</td>\n",
       "      <td>18.155582</td>\n",
       "      <td>-66.701046</td>\n",
       "      <td>24000</td>\n",
       "      <td>15004</td>\n",
       "      <td>29483</td>\n",
       "      <td>1243.880991</td>\n",
       "    </tr>\n",
       "    <tr>\n",
       "      <th>32519</th>\n",
       "      <td>7202946</td>\n",
       "      <td>72</td>\n",
       "      <td>Puerto Rico</td>\n",
       "      <td>PR</td>\n",
       "      <td>Adjuntas Municipio</td>\n",
       "      <td>Adjuntas</td>\n",
       "      <td>Adjuntas</td>\n",
       "      <td>Track</td>\n",
       "      <td>Track</td>\n",
       "      <td>601</td>\n",
       "      <td>787</td>\n",
       "      <td>44833906</td>\n",
       "      <td>90659</td>\n",
       "      <td>18.204166</td>\n",
       "      <td>-66.737830</td>\n",
       "      <td>19807</td>\n",
       "      <td>9378</td>\n",
       "      <td>21654</td>\n",
       "      <td>524.345149</td>\n",
       "    </tr>\n",
       "  </tbody>\n",
       "</table>\n",
       "</div>"
      ],
      "text/plain": [
       "            id  State_Code   State_Name State_ab              County  \\\n",
       "32481    72026          72  Puerto Rico       PR  Adjuntas Municipio   \n",
       "32519  7202946          72  Puerto Rico       PR  Adjuntas Municipio   \n",
       "\n",
       "           City     Place   Type Primary  Zip_Code Area_Code     ALand  \\\n",
       "32481  Adjuntas  Adjuntas  Track   Track       601       787  42529236   \n",
       "32519  Adjuntas  Adjuntas  Track   Track       601       787  44833906   \n",
       "\n",
       "       AWater        Lat        Lon   Mean  Median  Stdev        sum_w  \n",
       "32481  210360  18.155582 -66.701046  24000   15004  29483  1243.880991  \n",
       "32519   90659  18.204166 -66.737830  19807    9378  21654   524.345149  "
      ]
     },
     "execution_count": 4,
     "metadata": {},
     "output_type": "execute_result"
    }
   ],
   "source": [
    "df.sort_values('Zip_Code',ascending=True).head(2)"
   ]
  },
  {
   "cell_type": "code",
   "execution_count": 5,
   "metadata": {},
   "outputs": [
    {
     "data": {
      "text/plain": [
       "14803"
      ]
     },
     "execution_count": 5,
     "metadata": {},
     "output_type": "execute_result"
    }
   ],
   "source": [
    "df = df.drop_duplicates(subset='Zip_Code', keep='first')\n",
    "len(df)"
   ]
  },
  {
   "cell_type": "code",
   "execution_count": 6,
   "metadata": {},
   "outputs": [],
   "source": [
    "df = df.drop(['id','State_ab','Primary','Area_Code','Lat','Lon','County','State_Code','Place','sum_w','City'],axis = 1)"
   ]
  },
  {
   "cell_type": "code",
   "execution_count": 7,
   "metadata": {},
   "outputs": [
    {
     "data": {
      "text/html": [
       "<div>\n",
       "<style scoped>\n",
       "    .dataframe tbody tr th:only-of-type {\n",
       "        vertical-align: middle;\n",
       "    }\n",
       "\n",
       "    .dataframe tbody tr th {\n",
       "        vertical-align: top;\n",
       "    }\n",
       "\n",
       "    .dataframe thead th {\n",
       "        text-align: right;\n",
       "    }\n",
       "</style>\n",
       "<table border=\"1\" class=\"dataframe\">\n",
       "  <thead>\n",
       "    <tr style=\"text-align: right;\">\n",
       "      <th></th>\n",
       "      <th>State_Name</th>\n",
       "      <th>Type</th>\n",
       "      <th>Zip_Code</th>\n",
       "      <th>ALand</th>\n",
       "      <th>AWater</th>\n",
       "      <th>Mean</th>\n",
       "      <th>Median</th>\n",
       "      <th>Stdev</th>\n",
       "    </tr>\n",
       "  </thead>\n",
       "  <tbody>\n",
       "    <tr>\n",
       "      <th>0</th>\n",
       "      <td>Alabama</td>\n",
       "      <td>City</td>\n",
       "      <td>36611</td>\n",
       "      <td>10894952</td>\n",
       "      <td>909156</td>\n",
       "      <td>38773</td>\n",
       "      <td>30506</td>\n",
       "      <td>33101</td>\n",
       "    </tr>\n",
       "    <tr>\n",
       "      <th>1</th>\n",
       "      <td>Alabama</td>\n",
       "      <td>City</td>\n",
       "      <td>36048</td>\n",
       "      <td>26070325</td>\n",
       "      <td>23254</td>\n",
       "      <td>37725</td>\n",
       "      <td>19528</td>\n",
       "      <td>43789</td>\n",
       "    </tr>\n",
       "  </tbody>\n",
       "</table>\n",
       "</div>"
      ],
      "text/plain": [
       "  State_Name  Type  Zip_Code     ALand  AWater   Mean  Median  Stdev\n",
       "0    Alabama  City     36611  10894952  909156  38773   30506  33101\n",
       "1    Alabama  City     36048  26070325   23254  37725   19528  43789"
      ]
     },
     "execution_count": 7,
     "metadata": {},
     "output_type": "execute_result"
    }
   ],
   "source": [
    "df.head(2)"
   ]
  },
  {
   "cell_type": "code",
   "execution_count": 8,
   "metadata": {},
   "outputs": [
    {
     "name": "stdout",
     "output_type": "stream",
     "text": [
      "<class 'pandas.core.frame.DataFrame'>\n",
      "Int64Index: 14803 entries, 0 to 32483\n",
      "Data columns (total 8 columns):\n",
      "State_Name    14803 non-null object\n",
      "Type          14803 non-null object\n",
      "Zip_Code      14803 non-null int64\n",
      "ALand         14803 non-null int64\n",
      "AWater        14803 non-null int64\n",
      "Mean          14803 non-null int64\n",
      "Median        14803 non-null int64\n",
      "Stdev         14803 non-null int64\n",
      "dtypes: int64(6), object(2)\n",
      "memory usage: 1.0+ MB\n"
     ]
    }
   ],
   "source": [
    "df.info()"
   ]
  },
  {
   "cell_type": "code",
   "execution_count": 9,
   "metadata": {},
   "outputs": [],
   "source": [
    "df1 = pd.read_csv('data_sets/pop-by-zip-code.csv')"
   ]
  },
  {
   "cell_type": "code",
   "execution_count": 10,
   "metadata": {},
   "outputs": [
    {
     "data": {
      "text/html": [
       "<div>\n",
       "<style scoped>\n",
       "    .dataframe tbody tr th:only-of-type {\n",
       "        vertical-align: middle;\n",
       "    }\n",
       "\n",
       "    .dataframe tbody tr th {\n",
       "        vertical-align: top;\n",
       "    }\n",
       "\n",
       "    .dataframe thead th {\n",
       "        text-align: right;\n",
       "    }\n",
       "</style>\n",
       "<table border=\"1\" class=\"dataframe\">\n",
       "  <thead>\n",
       "    <tr style=\"text-align: right;\">\n",
       "      <th></th>\n",
       "      <th>zip_code</th>\n",
       "      <th>y-2016</th>\n",
       "    </tr>\n",
       "  </thead>\n",
       "  <tbody>\n",
       "    <tr>\n",
       "      <th>0</th>\n",
       "      <td>601</td>\n",
       "      <td>17800</td>\n",
       "    </tr>\n",
       "    <tr>\n",
       "      <th>1</th>\n",
       "      <td>602</td>\n",
       "      <td>39716</td>\n",
       "    </tr>\n",
       "  </tbody>\n",
       "</table>\n",
       "</div>"
      ],
      "text/plain": [
       "   zip_code  y-2016\n",
       "0       601   17800\n",
       "1       602   39716"
      ]
     },
     "execution_count": 10,
     "metadata": {},
     "output_type": "execute_result"
    }
   ],
   "source": [
    "df1.head(2)"
   ]
  },
  {
   "cell_type": "code",
   "execution_count": 11,
   "metadata": {},
   "outputs": [
    {
     "name": "stdout",
     "output_type": "stream",
     "text": [
      "33120\n",
      "33120\n"
     ]
    }
   ],
   "source": [
    "print (len(df1))\n",
    "print (df1['zip_code'].nunique())"
   ]
  },
  {
   "cell_type": "code",
   "execution_count": 12,
   "metadata": {},
   "outputs": [
    {
     "data": {
      "text/plain": [
       "322072436"
      ]
     },
     "execution_count": 12,
     "metadata": {},
     "output_type": "execute_result"
    }
   ],
   "source": [
    "df1['y-2016'].sum()"
   ]
  },
  {
   "cell_type": "code",
   "execution_count": 13,
   "metadata": {},
   "outputs": [
    {
     "data": {
      "text/html": [
       "<div>\n",
       "<style scoped>\n",
       "    .dataframe tbody tr th:only-of-type {\n",
       "        vertical-align: middle;\n",
       "    }\n",
       "\n",
       "    .dataframe tbody tr th {\n",
       "        vertical-align: top;\n",
       "    }\n",
       "\n",
       "    .dataframe thead th {\n",
       "        text-align: right;\n",
       "    }\n",
       "</style>\n",
       "<table border=\"1\" class=\"dataframe\">\n",
       "  <thead>\n",
       "    <tr style=\"text-align: right;\">\n",
       "      <th></th>\n",
       "      <th>Zip_Code</th>\n",
       "      <th>Population</th>\n",
       "    </tr>\n",
       "  </thead>\n",
       "  <tbody>\n",
       "    <tr>\n",
       "      <th>0</th>\n",
       "      <td>601</td>\n",
       "      <td>17800</td>\n",
       "    </tr>\n",
       "  </tbody>\n",
       "</table>\n",
       "</div>"
      ],
      "text/plain": [
       "   Zip_Code  Population\n",
       "0       601       17800"
      ]
     },
     "execution_count": 13,
     "metadata": {},
     "output_type": "execute_result"
    }
   ],
   "source": [
    "df1 = df1.rename(index=str, columns={\"zip_code\": \"Zip_Code\",'y-2016':'Population'})\n",
    "df1.head(1)"
   ]
  },
  {
   "cell_type": "code",
   "execution_count": 14,
   "metadata": {},
   "outputs": [
    {
     "data": {
      "image/png": "[encoded data removed]",
      "text/plain": [
       "<Figure size 1440x720 with 1 Axes>"
      ]
     },
     "metadata": {
      "needs_background": "light"
     },
     "output_type": "display_data"
    }
   ],
   "source": [
    "plt.figure(figsize=(20, 10))\n",
    "df1.boxplot(column=['Population'])\n",
    "plt.show();"
   ]
  },
  {
   "cell_type": "code",
   "execution_count": 15,
   "metadata": {},
   "outputs": [
    {
     "data": {
      "text/plain": [
       "Zip_Code      10144\n",
       "Population    10144\n",
       "dtype: int64"
      ]
     },
     "execution_count": 15,
     "metadata": {},
     "output_type": "execute_result"
    }
   ],
   "source": [
    "df1[df1['Population']<1000].count()\n"
   ]
  },
  {
   "cell_type": "code",
   "execution_count": 16,
   "metadata": {},
   "outputs": [],
   "source": [
    "df1 = df1[df1['Population']>1000]"
   ]
  },
  {
   "cell_type": "code",
   "execution_count": 17,
   "metadata": {},
   "outputs": [
    {
     "name": "stdout",
     "output_type": "stream",
     "text": [
      "<class 'pandas.core.frame.DataFrame'>\n",
      "Index: 22968 entries, 0 to 33119\n",
      "Data columns (total 2 columns):\n",
      "Zip_Code      22968 non-null int64\n",
      "Population    22968 non-null int64\n",
      "dtypes: int64(2)\n",
      "memory usage: 538.3+ KB\n"
     ]
    }
   ],
   "source": [
    "df1.info()"
   ]
  },
  {
   "cell_type": "code",
   "execution_count": 18,
   "metadata": {},
   "outputs": [],
   "source": [
    "df3 = pd.merge(df, df1, on='Zip_Code', how='inner')"
   ]
  },
  {
   "cell_type": "code",
   "execution_count": 19,
   "metadata": {},
   "outputs": [
    {
     "data": {
      "text/plain": [
       "13754"
      ]
     },
     "execution_count": 19,
     "metadata": {},
     "output_type": "execute_result"
    }
   ],
   "source": [
    "len(df3)"
   ]
  },
  {
   "cell_type": "code",
   "execution_count": 20,
   "metadata": {},
   "outputs": [
    {
     "data": {
      "text/plain": [
       "State_Name    0\n",
       "Type          0\n",
       "Zip_Code      0\n",
       "ALand         0\n",
       "AWater        0\n",
       "Mean          0\n",
       "Median        0\n",
       "Stdev         0\n",
       "Population    0\n",
       "dtype: int64"
      ]
     },
     "execution_count": 20,
     "metadata": {},
     "output_type": "execute_result"
    }
   ],
   "source": [
    "df3.isnull().sum()"
   ]
  },
  {
   "cell_type": "code",
   "execution_count": 21,
   "metadata": {
    "scrolled": false
   },
   "outputs": [
    {
     "data": {
      "text/html": [
       "<div>\n",
       "<style scoped>\n",
       "    .dataframe tbody tr th:only-of-type {\n",
       "        vertical-align: middle;\n",
       "    }\n",
       "\n",
       "    .dataframe tbody tr th {\n",
       "        vertical-align: top;\n",
       "    }\n",
       "\n",
       "    .dataframe thead th {\n",
       "        text-align: right;\n",
       "    }\n",
       "</style>\n",
       "<table border=\"1\" class=\"dataframe\">\n",
       "  <thead>\n",
       "    <tr style=\"text-align: right;\">\n",
       "      <th></th>\n",
       "      <th>Number of beneficiaries with benefits in current-payment status and total monthly benefits, December 2017</th>\n",
       "      <th>Unnamed: 1</th>\n",
       "      <th>Unnamed: 2</th>\n",
       "      <th>Unnamed: 3</th>\n",
       "      <th>Unnamed: 4</th>\n",
       "      <th>Unnamed: 5</th>\n",
       "      <th>Unnamed: 6</th>\n",
       "      <th>Unnamed: 7</th>\n",
       "      <th>Unnamed: 8</th>\n",
       "      <th>Unnamed: 9</th>\n",
       "      <th>Unnamed: 10</th>\n",
       "      <th>Unnamed: 11</th>\n",
       "    </tr>\n",
       "  </thead>\n",
       "  <tbody>\n",
       "    <tr>\n",
       "      <th>0</th>\n",
       "      <td>State or area</td>\n",
       "      <td>ZIP Code</td>\n",
       "      <td>Number</td>\n",
       "      <td>NaN</td>\n",
       "      <td>NaN</td>\n",
       "      <td>NaN</td>\n",
       "      <td>NaN</td>\n",
       "      <td>NaN</td>\n",
       "      <td>Total monthly benefits\\n(thousands of dollars)</td>\n",
       "      <td>NaN</td>\n",
       "      <td>NaN</td>\n",
       "      <td>Number of OASDI beneficiaries aged 65 or older</td>\n",
       "    </tr>\n",
       "    <tr>\n",
       "      <th>1</th>\n",
       "      <td>NaN</td>\n",
       "      <td>NaN</td>\n",
       "      <td>Total</td>\n",
       "      <td>Retired workers</td>\n",
       "      <td>Disabled workers</td>\n",
       "      <td>Widow(er)s and parents</td>\n",
       "      <td>Spouses</td>\n",
       "      <td>Children</td>\n",
       "      <td>All beneficiaries</td>\n",
       "      <td>Retired workers</td>\n",
       "      <td>Widow(er)s and parents</td>\n",
       "      <td>NaN</td>\n",
       "    </tr>\n",
       "  </tbody>\n",
       "</table>\n",
       "</div>"
      ],
      "text/plain": [
       "  Number of beneficiaries with benefits in current-payment status and total monthly benefits, December 2017  \\\n",
       "0                                      State or area                                                          \n",
       "1                                                NaN                                                          \n",
       "\n",
       "  Unnamed: 1 Unnamed: 2       Unnamed: 3        Unnamed: 4  \\\n",
       "0   ZIP Code     Number              NaN               NaN   \n",
       "1        NaN      Total  Retired workers  Disabled workers   \n",
       "\n",
       "               Unnamed: 5 Unnamed: 6 Unnamed: 7  \\\n",
       "0                     NaN        NaN        NaN   \n",
       "1  Widow(er)s and parents    Spouses   Children   \n",
       "\n",
       "                                       Unnamed: 8       Unnamed: 9  \\\n",
       "0  Total monthly benefits\\n(thousands of dollars)              NaN   \n",
       "1                               All beneficiaries  Retired workers   \n",
       "\n",
       "              Unnamed: 10                                     Unnamed: 11  \n",
       "0                     NaN  Number of OASDI beneficiaries aged 65 or older  \n",
       "1  Widow(er)s and parents                                             NaN  "
      ]
     },
     "execution_count": 21,
     "metadata": {},
     "output_type": "execute_result"
    }
   ],
   "source": [
    "df4=pd.read_excel('data_sets/tableAll.xlsx')\n",
    "df4.head(2)"
   ]
  },
  {
   "cell_type": "code",
   "execution_count": 22,
   "metadata": {},
   "outputs": [],
   "source": [
    "df4 = df4.drop(['Unnamed: 2','Unnamed: 8'],axis = 1)"
   ]
  },
  {
   "cell_type": "code",
   "execution_count": 23,
   "metadata": {},
   "outputs": [],
   "source": [
    "df4.at[1, 'Number of beneficiaries with benefits in current-payment status and total monthly benefits, December 2017'] = 'State or area'\n",
    "df4.at[1, 'Unnamed: 1'] = 'Zip_Code'\n",
    "df4.at[1, 'Unnamed: 11'] ='Number of OASDI beneficiaries aged 65 or older'\n",
    "df4.at[1,'Unnamed: 3'] = 'Retired_workers_number'\n",
    "df4.at[1,'Unnamed: 5'] = 'Widow(er)s_and_parents_number'"
   ]
  },
  {
   "cell_type": "code",
   "execution_count": 24,
   "metadata": {},
   "outputs": [
    {
     "data": {
      "text/html": [
       "<div>\n",
       "<style scoped>\n",
       "    .dataframe tbody tr th:only-of-type {\n",
       "        vertical-align: middle;\n",
       "    }\n",
       "\n",
       "    .dataframe tbody tr th {\n",
       "        vertical-align: top;\n",
       "    }\n",
       "\n",
       "    .dataframe thead th {\n",
       "        text-align: right;\n",
       "    }\n",
       "</style>\n",
       "<table border=\"1\" class=\"dataframe\">\n",
       "  <thead>\n",
       "    <tr style=\"text-align: right;\">\n",
       "      <th></th>\n",
       "      <th>Number of beneficiaries with benefits in current-payment status and total monthly benefits, December 2017</th>\n",
       "      <th>Unnamed: 1</th>\n",
       "      <th>Unnamed: 3</th>\n",
       "      <th>Unnamed: 4</th>\n",
       "      <th>Unnamed: 5</th>\n",
       "      <th>Unnamed: 6</th>\n",
       "      <th>Unnamed: 7</th>\n",
       "      <th>Unnamed: 9</th>\n",
       "      <th>Unnamed: 10</th>\n",
       "      <th>Unnamed: 11</th>\n",
       "    </tr>\n",
       "  </thead>\n",
       "  <tbody>\n",
       "    <tr>\n",
       "      <th>0</th>\n",
       "      <td>State or area</td>\n",
       "      <td>ZIP Code</td>\n",
       "      <td>NaN</td>\n",
       "      <td>NaN</td>\n",
       "      <td>NaN</td>\n",
       "      <td>NaN</td>\n",
       "      <td>NaN</td>\n",
       "      <td>NaN</td>\n",
       "      <td>NaN</td>\n",
       "      <td>Number of OASDI beneficiaries aged 65 or older</td>\n",
       "    </tr>\n",
       "    <tr>\n",
       "      <th>1</th>\n",
       "      <td>State or area</td>\n",
       "      <td>Zip_Code</td>\n",
       "      <td>Retired_workers_number</td>\n",
       "      <td>Disabled workers</td>\n",
       "      <td>Widow(er)s_and_parents_number</td>\n",
       "      <td>Spouses</td>\n",
       "      <td>Children</td>\n",
       "      <td>Retired workers</td>\n",
       "      <td>Widow(er)s and parents</td>\n",
       "      <td>Number of OASDI beneficiaries aged 65 or older</td>\n",
       "    </tr>\n",
       "  </tbody>\n",
       "</table>\n",
       "</div>"
      ],
      "text/plain": [
       "  Number of beneficiaries with benefits in current-payment status and total monthly benefits, December 2017  \\\n",
       "0                                      State or area                                                          \n",
       "1                                      State or area                                                          \n",
       "\n",
       "  Unnamed: 1              Unnamed: 3        Unnamed: 4  \\\n",
       "0   ZIP Code                     NaN               NaN   \n",
       "1   Zip_Code  Retired_workers_number  Disabled workers   \n",
       "\n",
       "                      Unnamed: 5 Unnamed: 6 Unnamed: 7       Unnamed: 9  \\\n",
       "0                            NaN        NaN        NaN              NaN   \n",
       "1  Widow(er)s_and_parents_number    Spouses   Children  Retired workers   \n",
       "\n",
       "              Unnamed: 10                                     Unnamed: 11  \n",
       "0                     NaN  Number of OASDI beneficiaries aged 65 or older  \n",
       "1  Widow(er)s and parents  Number of OASDI beneficiaries aged 65 or older  "
      ]
     },
     "execution_count": 24,
     "metadata": {},
     "output_type": "execute_result"
    }
   ],
   "source": [
    "df4.head(2)"
   ]
  },
  {
   "cell_type": "code",
   "execution_count": 25,
   "metadata": {},
   "outputs": [
    {
     "data": {
      "text/html": [
       "<div>\n",
       "<style scoped>\n",
       "    .dataframe tbody tr th:only-of-type {\n",
       "        vertical-align: middle;\n",
       "    }\n",
       "\n",
       "    .dataframe tbody tr th {\n",
       "        vertical-align: top;\n",
       "    }\n",
       "\n",
       "    .dataframe thead th {\n",
       "        text-align: right;\n",
       "    }\n",
       "</style>\n",
       "<table border=\"1\" class=\"dataframe\">\n",
       "  <thead>\n",
       "    <tr style=\"text-align: right;\">\n",
       "      <th></th>\n",
       "      <th>State or area</th>\n",
       "      <th>Zip_Code</th>\n",
       "      <th>Retired_workers_number</th>\n",
       "      <th>Disabled workers</th>\n",
       "      <th>Widow(er)s_and_parents_number</th>\n",
       "      <th>Spouses</th>\n",
       "      <th>Children</th>\n",
       "      <th>Retired workers</th>\n",
       "      <th>Widow(er)s and parents</th>\n",
       "      <th>Number of OASDI beneficiaries aged 65 or older</th>\n",
       "    </tr>\n",
       "  </thead>\n",
       "  <tbody>\n",
       "    <tr>\n",
       "      <th>0</th>\n",
       "      <td>State or area</td>\n",
       "      <td>ZIP Code</td>\n",
       "      <td>NaN</td>\n",
       "      <td>NaN</td>\n",
       "      <td>NaN</td>\n",
       "      <td>NaN</td>\n",
       "      <td>NaN</td>\n",
       "      <td>NaN</td>\n",
       "      <td>NaN</td>\n",
       "      <td>Number of OASDI beneficiaries aged 65 or older</td>\n",
       "    </tr>\n",
       "    <tr>\n",
       "      <th>1</th>\n",
       "      <td>State or area</td>\n",
       "      <td>Zip_Code</td>\n",
       "      <td>Retired_workers_number</td>\n",
       "      <td>Disabled workers</td>\n",
       "      <td>Widow(er)s_and_parents_number</td>\n",
       "      <td>Spouses</td>\n",
       "      <td>Children</td>\n",
       "      <td>Retired workers</td>\n",
       "      <td>Widow(er)s and parents</td>\n",
       "      <td>Number of OASDI beneficiaries aged 65 or older</td>\n",
       "    </tr>\n",
       "  </tbody>\n",
       "</table>\n",
       "</div>"
      ],
      "text/plain": [
       "   State or area  Zip_Code  Retired_workers_number  Disabled workers  \\\n",
       "0  State or area  ZIP Code                     NaN               NaN   \n",
       "1  State or area  Zip_Code  Retired_workers_number  Disabled workers   \n",
       "\n",
       "   Widow(er)s_and_parents_number  Spouses  Children  Retired workers  \\\n",
       "0                            NaN      NaN       NaN              NaN   \n",
       "1  Widow(er)s_and_parents_number  Spouses  Children  Retired workers   \n",
       "\n",
       "   Widow(er)s and parents  Number of OASDI beneficiaries aged 65 or older  \n",
       "0                     NaN  Number of OASDI beneficiaries aged 65 or older  \n",
       "1  Widow(er)s and parents  Number of OASDI beneficiaries aged 65 or older  "
      ]
     },
     "execution_count": 25,
     "metadata": {},
     "output_type": "execute_result"
    }
   ],
   "source": [
    "df4.columns = df4.iloc[1].values\n",
    "df4.head(2)"
   ]
  },
  {
   "cell_type": "code",
   "execution_count": 26,
   "metadata": {},
   "outputs": [
    {
     "data": {
      "text/html": [
       "<div>\n",
       "<style scoped>\n",
       "    .dataframe tbody tr th:only-of-type {\n",
       "        vertical-align: middle;\n",
       "    }\n",
       "\n",
       "    .dataframe tbody tr th {\n",
       "        vertical-align: top;\n",
       "    }\n",
       "\n",
       "    .dataframe thead th {\n",
       "        text-align: right;\n",
       "    }\n",
       "</style>\n",
       "<table border=\"1\" class=\"dataframe\">\n",
       "  <thead>\n",
       "    <tr style=\"text-align: right;\">\n",
       "      <th></th>\n",
       "      <th>State or area</th>\n",
       "      <th>Zip_Code</th>\n",
       "      <th>Retired_workers_number</th>\n",
       "      <th>Disabled workers</th>\n",
       "      <th>Widow(er)s_and_parents_number</th>\n",
       "      <th>Spouses</th>\n",
       "      <th>Children</th>\n",
       "      <th>Retired workers</th>\n",
       "      <th>Widow(er)s and parents</th>\n",
       "      <th>Number of OASDI beneficiaries aged 65 or older</th>\n",
       "    </tr>\n",
       "  </thead>\n",
       "  <tbody>\n",
       "    <tr>\n",
       "      <th>2</th>\n",
       "      <td>Alabama</td>\n",
       "      <td>35004</td>\n",
       "      <td>1410</td>\n",
       "      <td>385</td>\n",
       "      <td>160</td>\n",
       "      <td>70</td>\n",
       "      <td>210</td>\n",
       "      <td>2070</td>\n",
       "      <td>218</td>\n",
       "      <td>1510</td>\n",
       "    </tr>\n",
       "  </tbody>\n",
       "</table>\n",
       "</div>"
      ],
      "text/plain": [
       "  State or area Zip_Code Retired_workers_number Disabled workers  \\\n",
       "2       Alabama    35004                   1410              385   \n",
       "\n",
       "  Widow(er)s_and_parents_number Spouses Children Retired workers  \\\n",
       "2                           160      70      210            2070   \n",
       "\n",
       "  Widow(er)s and parents Number of OASDI beneficiaries aged 65 or older  \n",
       "2                    218                                           1510  "
      ]
     },
     "execution_count": 26,
     "metadata": {},
     "output_type": "execute_result"
    }
   ],
   "source": [
    "df4 = df4.drop([0, 1])\n",
    "df4.head(1)"
   ]
  },
  {
   "cell_type": "code",
   "execution_count": 27,
   "metadata": {},
   "outputs": [],
   "source": [
    "df4 = df4.drop(['Retired workers', 'Widow(er)s and parents'],axis = 1)"
   ]
  },
  {
   "cell_type": "code",
   "execution_count": 28,
   "metadata": {},
   "outputs": [
    {
     "name": "stdout",
     "output_type": "stream",
     "text": [
      "<class 'pandas.core.frame.DataFrame'>\n",
      "Int64Index: 37327 entries, 2 to 37328\n",
      "Data columns (total 8 columns):\n",
      "State or area                                     37324 non-null object\n",
      "Zip_Code                                          37320 non-null object\n",
      "Retired_workers_number                            37320 non-null object\n",
      "Disabled workers                                  37320 non-null object\n",
      "Widow(er)s_and_parents_number                     37320 non-null object\n",
      "Spouses                                           37320 non-null object\n",
      "Children                                          37320 non-null object\n",
      "Number of OASDI beneficiaries aged 65 or older    37320 non-null object\n",
      "dtypes: object(8)\n",
      "memory usage: 2.6+ MB\n"
     ]
    }
   ],
   "source": [
    "df4.info()"
   ]
  },
  {
   "cell_type": "code",
   "execution_count": 29,
   "metadata": {},
   "outputs": [
    {
     "data": {
      "text/html": [
       "<div>\n",
       "<style scoped>\n",
       "    .dataframe tbody tr th:only-of-type {\n",
       "        vertical-align: middle;\n",
       "    }\n",
       "\n",
       "    .dataframe tbody tr th {\n",
       "        vertical-align: top;\n",
       "    }\n",
       "\n",
       "    .dataframe thead th {\n",
       "        text-align: right;\n",
       "    }\n",
       "</style>\n",
       "<table border=\"1\" class=\"dataframe\">\n",
       "  <thead>\n",
       "    <tr style=\"text-align: right;\">\n",
       "      <th></th>\n",
       "      <th>Zip_Code</th>\n",
       "      <th>Retired_workers_number</th>\n",
       "      <th>Disabled workers</th>\n",
       "      <th>Widow(er)s_and_parents_number</th>\n",
       "      <th>Spouses</th>\n",
       "      <th>Children</th>\n",
       "      <th>Number of OASDI beneficiaries aged 65 or older</th>\n",
       "    </tr>\n",
       "  </thead>\n",
       "  <tbody>\n",
       "    <tr>\n",
       "      <th>2</th>\n",
       "      <td>35004</td>\n",
       "      <td>1410</td>\n",
       "      <td>385</td>\n",
       "      <td>160</td>\n",
       "      <td>70</td>\n",
       "      <td>210</td>\n",
       "      <td>1510</td>\n",
       "    </tr>\n",
       "  </tbody>\n",
       "</table>\n",
       "</div>"
      ],
      "text/plain": [
       "  Zip_Code Retired_workers_number Disabled workers  \\\n",
       "2    35004                   1410              385   \n",
       "\n",
       "  Widow(er)s_and_parents_number Spouses Children  \\\n",
       "2                           160      70      210   \n",
       "\n",
       "  Number of OASDI beneficiaries aged 65 or older  \n",
       "2                                           1510  "
      ]
     },
     "execution_count": 29,
     "metadata": {},
     "output_type": "execute_result"
    }
   ],
   "source": [
    "df4 = df4.drop('State or area',axis =1)\n",
    "df4.head(1)"
   ]
  },
  {
   "cell_type": "code",
   "execution_count": 30,
   "metadata": {},
   "outputs": [
    {
     "data": {
      "text/plain": [
       "Zip_Code                                          7\n",
       "Retired_workers_number                            7\n",
       "Disabled workers                                  7\n",
       "Widow(er)s_and_parents_number                     7\n",
       "Spouses                                           7\n",
       "Children                                          7\n",
       "Number of OASDI beneficiaries aged 65 or older    7\n",
       "dtype: int64"
      ]
     },
     "execution_count": 30,
     "metadata": {},
     "output_type": "execute_result"
    }
   ],
   "source": [
    "df4.isnull().sum()"
   ]
  },
  {
   "cell_type": "code",
   "execution_count": 31,
   "metadata": {},
   "outputs": [
    {
     "data": {
      "text/plain": [
       "Zip_Code                                          0\n",
       "Retired_workers_number                            0\n",
       "Disabled workers                                  0\n",
       "Widow(er)s_and_parents_number                     0\n",
       "Spouses                                           0\n",
       "Children                                          0\n",
       "Number of OASDI beneficiaries aged 65 or older    0\n",
       "dtype: int64"
      ]
     },
     "execution_count": 31,
     "metadata": {},
     "output_type": "execute_result"
    }
   ],
   "source": [
    "df4.dropna(axis='rows',inplace=True)\n",
    "df4.isnull().sum()"
   ]
  },
  {
   "cell_type": "code",
   "execution_count": 32,
   "metadata": {},
   "outputs": [],
   "source": [
    "for col in df4.columns:\n",
    "    df4[col] = df4[col].astype(int)\n",
    "    "
   ]
  },
  {
   "cell_type": "code",
   "execution_count": 33,
   "metadata": {},
   "outputs": [
    {
     "name": "stdout",
     "output_type": "stream",
     "text": [
      "<class 'pandas.core.frame.DataFrame'>\n",
      "Int64Index: 37320 entries, 2 to 37321\n",
      "Data columns (total 7 columns):\n",
      "Zip_Code                                          37320 non-null int64\n",
      "Retired_workers_number                            37320 non-null int64\n",
      "Disabled workers                                  37320 non-null int64\n",
      "Widow(er)s_and_parents_number                     37320 non-null int64\n",
      "Spouses                                           37320 non-null int64\n",
      "Children                                          37320 non-null int64\n",
      "Number of OASDI beneficiaries aged 65 or older    37320 non-null int64\n",
      "dtypes: int64(7)\n",
      "memory usage: 2.3 MB\n"
     ]
    }
   ],
   "source": [
    "df4.info()"
   ]
  },
  {
   "cell_type": "code",
   "execution_count": 34,
   "metadata": {},
   "outputs": [
    {
     "data": {
      "image/png": "[encoded data removed]",
      "text/plain": [
       "<Figure size 1440x720 with 1 Axes>"
      ]
     },
     "metadata": {
      "needs_background": "light"
     },
     "output_type": "display_data"
    }
   ],
   "source": [
    "list_for_box = list(df4.columns.values)\n",
    "list_for_box.pop(0)\n",
    "\n",
    "# Create a Box Whisker Plot of each column\n",
    "plt.figure(figsize=(20, 10))\n",
    "plt.boxplot([df4[col] for col in df4.columns if col!='Zip_Code' ])\n",
    "plt.title(\"Box Whisker Plot of Each Column in Dataset\")\n",
    "plt.xticks(range(len(df4.columns.values)), ['']+list_for_box, rotation=60)\n",
    "plt.show()"
   ]
  },
  {
   "cell_type": "code",
   "execution_count": 35,
   "metadata": {},
   "outputs": [
    {
     "data": {
      "text/plain": [
       "24452"
      ]
     },
     "execution_count": 35,
     "metadata": {},
     "output_type": "execute_result"
    }
   ],
   "source": [
    "for col in df4.columns:\n",
    "    df4 = df4[df4[col] > 5]\n",
    "    \n",
    "len(df4)"
   ]
  },
  {
   "cell_type": "code",
   "execution_count": 36,
   "metadata": {},
   "outputs": [
    {
     "data": {
      "text/html": [
       "<div>\n",
       "<style scoped>\n",
       "    .dataframe tbody tr th:only-of-type {\n",
       "        vertical-align: middle;\n",
       "    }\n",
       "\n",
       "    .dataframe tbody tr th {\n",
       "        vertical-align: top;\n",
       "    }\n",
       "\n",
       "    .dataframe thead th {\n",
       "        text-align: right;\n",
       "    }\n",
       "</style>\n",
       "<table border=\"1\" class=\"dataframe\">\n",
       "  <thead>\n",
       "    <tr style=\"text-align: right;\">\n",
       "      <th></th>\n",
       "      <th>State_Name</th>\n",
       "      <th>Type</th>\n",
       "      <th>Zip_Code</th>\n",
       "      <th>ALand</th>\n",
       "      <th>AWater</th>\n",
       "      <th>Mean</th>\n",
       "      <th>Median</th>\n",
       "      <th>Stdev</th>\n",
       "      <th>Population</th>\n",
       "      <th>Retired_workers_number</th>\n",
       "      <th>Disabled workers</th>\n",
       "      <th>Widow(er)s_and_parents_number</th>\n",
       "      <th>Spouses</th>\n",
       "      <th>Children</th>\n",
       "      <th>Number of OASDI beneficiaries aged 65 or older</th>\n",
       "    </tr>\n",
       "  </thead>\n",
       "  <tbody>\n",
       "    <tr>\n",
       "      <th>0</th>\n",
       "      <td>Alabama</td>\n",
       "      <td>City</td>\n",
       "      <td>36611</td>\n",
       "      <td>10894952</td>\n",
       "      <td>909156</td>\n",
       "      <td>38773</td>\n",
       "      <td>30506</td>\n",
       "      <td>33101</td>\n",
       "      <td>5955</td>\n",
       "      <td>735</td>\n",
       "      <td>325</td>\n",
       "      <td>130</td>\n",
       "      <td>40</td>\n",
       "      <td>125</td>\n",
       "      <td>835</td>\n",
       "    </tr>\n",
       "    <tr>\n",
       "      <th>1</th>\n",
       "      <td>Alabama</td>\n",
       "      <td>City</td>\n",
       "      <td>36048</td>\n",
       "      <td>26070325</td>\n",
       "      <td>23254</td>\n",
       "      <td>37725</td>\n",
       "      <td>19528</td>\n",
       "      <td>43789</td>\n",
       "      <td>1430</td>\n",
       "      <td>310</td>\n",
       "      <td>125</td>\n",
       "      <td>40</td>\n",
       "      <td>10</td>\n",
       "      <td>50</td>\n",
       "      <td>330</td>\n",
       "    </tr>\n",
       "  </tbody>\n",
       "</table>\n",
       "</div>"
      ],
      "text/plain": [
       "  State_Name  Type  Zip_Code     ALand  AWater   Mean  Median  Stdev  \\\n",
       "0    Alabama  City     36611  10894952  909156  38773   30506  33101   \n",
       "1    Alabama  City     36048  26070325   23254  37725   19528  43789   \n",
       "\n",
       "   Population  Retired_workers_number  Disabled workers  \\\n",
       "0        5955                     735               325   \n",
       "1        1430                     310               125   \n",
       "\n",
       "   Widow(er)s_and_parents_number  Spouses  Children  \\\n",
       "0                            130       40       125   \n",
       "1                             40       10        50   \n",
       "\n",
       "   Number of OASDI beneficiaries aged 65 or older  \n",
       "0                                             835  \n",
       "1                                             330  "
      ]
     },
     "execution_count": 36,
     "metadata": {},
     "output_type": "execute_result"
    }
   ],
   "source": [
    "df5 = pd.merge(df3, df4, on='Zip_Code', how='inner')\n",
    "df5.head(2)"
   ]
  },
  {
   "cell_type": "code",
   "execution_count": 37,
   "metadata": {},
   "outputs": [
    {
     "name": "stdout",
     "output_type": "stream",
     "text": [
      "<class 'pandas.core.frame.DataFrame'>\n",
      "Int64Index: 13528 entries, 0 to 13527\n",
      "Data columns (total 15 columns):\n",
      "State_Name                                        13528 non-null object\n",
      "Type                                              13528 non-null object\n",
      "Zip_Code                                          13528 non-null int64\n",
      "ALand                                             13528 non-null int64\n",
      "AWater                                            13528 non-null int64\n",
      "Mean                                              13528 non-null int64\n",
      "Median                                            13528 non-null int64\n",
      "Stdev                                             13528 non-null int64\n",
      "Population                                        13528 non-null int64\n",
      "Retired_workers_number                            13528 non-null int64\n",
      "Disabled workers                                  13528 non-null int64\n",
      "Widow(er)s_and_parents_number                     13528 non-null int64\n",
      "Spouses                                           13528 non-null int64\n",
      "Children                                          13528 non-null int64\n",
      "Number of OASDI beneficiaries aged 65 or older    13528 non-null int64\n",
      "dtypes: int64(13), object(2)\n",
      "memory usage: 1.7+ MB\n"
     ]
    }
   ],
   "source": [
    "df5.info()"
   ]
  },
  {
   "cell_type": "code",
   "execution_count": 38,
   "metadata": {},
   "outputs": [
    {
     "data": {
      "image/png": "[encoded data removed]",
      "text/plain": [
       "<Figure size 1440x720 with 1 Axes>"
      ]
     },
     "metadata": {
      "needs_background": "light"
     },
     "output_type": "display_data"
    }
   ],
   "source": [
    "plt.figure(figsize=(20, 10))\n",
    "boxplot = df5.boxplot(column=['Mean', 'Median','Stdev'])\n",
    "plt.show();"
   ]
  },
  {
   "cell_type": "code",
   "execution_count": 39,
   "metadata": {},
   "outputs": [
    {
     "data": {
      "text/plain": [
       "13528"
      ]
     },
     "execution_count": 39,
     "metadata": {},
     "output_type": "execute_result"
    }
   ],
   "source": [
    "len(df5)"
   ]
  },
  {
   "cell_type": "code",
   "execution_count": 40,
   "metadata": {},
   "outputs": [],
   "source": [
    "df5 = df5[df5.Median != 300000]\n",
    "df5 = df5[df5.Median>1000]"
   ]
  },
  {
   "cell_type": "code",
   "execution_count": 41,
   "metadata": {},
   "outputs": [
    {
     "data": {
      "text/plain": [
       "11620"
      ]
     },
     "execution_count": 41,
     "metadata": {},
     "output_type": "execute_result"
    }
   ],
   "source": [
    "len(df5)"
   ]
  },
  {
   "cell_type": "code",
   "execution_count": 42,
   "metadata": {},
   "outputs": [
    {
     "data": {
      "image/png": "[encoded data removed]",
      "text/plain": [
       "<Figure size 1440x720 with 1 Axes>"
      ]
     },
     "metadata": {
      "needs_background": "light"
     },
     "output_type": "display_data"
    }
   ],
   "source": [
    "plt.figure(figsize=(20, 10))\n",
    "boxplot = df5.boxplot(column=['Mean', 'Median'])\n",
    "plt.show();"
   ]
  },
  {
   "cell_type": "code",
   "execution_count": 43,
   "metadata": {
    "scrolled": true
   },
   "outputs": [
    {
     "data": {
      "text/html": [
       "<div>\n",
       "<style scoped>\n",
       "    .dataframe tbody tr th:only-of-type {\n",
       "        vertical-align: middle;\n",
       "    }\n",
       "\n",
       "    .dataframe tbody tr th {\n",
       "        vertical-align: top;\n",
       "    }\n",
       "\n",
       "    .dataframe thead th {\n",
       "        text-align: right;\n",
       "    }\n",
       "</style>\n",
       "<table border=\"1\" class=\"dataframe\">\n",
       "  <thead>\n",
       "    <tr style=\"text-align: right;\">\n",
       "      <th></th>\n",
       "      <th>State_Name</th>\n",
       "      <th>Type</th>\n",
       "      <th>Zip_Code</th>\n",
       "      <th>ALand</th>\n",
       "      <th>AWater</th>\n",
       "      <th>Mean</th>\n",
       "      <th>Median</th>\n",
       "      <th>Stdev</th>\n",
       "      <th>Population</th>\n",
       "      <th>Retired_workers_number</th>\n",
       "      <th>Disabled workers</th>\n",
       "      <th>Widow(er)s_and_parents_number</th>\n",
       "      <th>Spouses</th>\n",
       "      <th>Children</th>\n",
       "      <th>Number of OASDI beneficiaries aged 65 or older</th>\n",
       "    </tr>\n",
       "  </thead>\n",
       "  <tbody>\n",
       "    <tr>\n",
       "      <th>0</th>\n",
       "      <td>Alabama</td>\n",
       "      <td>City</td>\n",
       "      <td>36611</td>\n",
       "      <td>10894952</td>\n",
       "      <td>909156</td>\n",
       "      <td>38773</td>\n",
       "      <td>30506</td>\n",
       "      <td>33101</td>\n",
       "      <td>5955</td>\n",
       "      <td>735</td>\n",
       "      <td>325</td>\n",
       "      <td>130</td>\n",
       "      <td>40</td>\n",
       "      <td>125</td>\n",
       "      <td>835</td>\n",
       "    </tr>\n",
       "    <tr>\n",
       "      <th>1</th>\n",
       "      <td>Alabama</td>\n",
       "      <td>City</td>\n",
       "      <td>36048</td>\n",
       "      <td>26070325</td>\n",
       "      <td>23254</td>\n",
       "      <td>37725</td>\n",
       "      <td>19528</td>\n",
       "      <td>43789</td>\n",
       "      <td>1430</td>\n",
       "      <td>310</td>\n",
       "      <td>125</td>\n",
       "      <td>40</td>\n",
       "      <td>10</td>\n",
       "      <td>50</td>\n",
       "      <td>330</td>\n",
       "    </tr>\n",
       "  </tbody>\n",
       "</table>\n",
       "</div>"
      ],
      "text/plain": [
       "  State_Name  Type  Zip_Code     ALand  AWater   Mean  Median  Stdev  \\\n",
       "0    Alabama  City     36611  10894952  909156  38773   30506  33101   \n",
       "1    Alabama  City     36048  26070325   23254  37725   19528  43789   \n",
       "\n",
       "   Population  Retired_workers_number  Disabled workers  \\\n",
       "0        5955                     735               325   \n",
       "1        1430                     310               125   \n",
       "\n",
       "   Widow(er)s_and_parents_number  Spouses  Children  \\\n",
       "0                            130       40       125   \n",
       "1                             40       10        50   \n",
       "\n",
       "   Number of OASDI beneficiaries aged 65 or older  \n",
       "0                                             835  \n",
       "1                                             330  "
      ]
     },
     "execution_count": 43,
     "metadata": {},
     "output_type": "execute_result"
    }
   ],
   "source": [
    "df5.head(2)"
   ]
  },
  {
   "cell_type": "code",
   "execution_count": 44,
   "metadata": {},
   "outputs": [
    {
     "data": {
      "image/png": "[encoded data removed]",
      "text/plain": [
       "<Figure size 432x288 with 1 Axes>"
      ]
     },
     "metadata": {
      "needs_background": "light"
     },
     "output_type": "display_data"
    }
   ],
   "source": [
    "sns.distplot(df5['Median']);\n",
    "sns.distplot(df5['Mean']);"
   ]
  },
  {
   "cell_type": "code",
   "execution_count": 45,
   "metadata": {},
   "outputs": [
    {
     "data": {
      "image/png": "[encoded data removed]",
      "text/plain": [
       "<Figure size 432x288 with 1 Axes>"
      ]
     },
     "metadata": {
      "needs_background": "light"
     },
     "output_type": "display_data"
    }
   ],
   "source": [
    "sns.distplot(df5['Stdev']);"
   ]
  },
  {
   "cell_type": "code",
   "execution_count": 46,
   "metadata": {},
   "outputs": [
    {
     "data": {
      "text/plain": [
       "Track           9548\n",
       "City             807\n",
       "CDP              543\n",
       "Town             318\n",
       "Village          284\n",
       "Borough           95\n",
       "Community         14\n",
       "Urban              8\n",
       "County             2\n",
       "Municipality       1\n",
       "Name: Type, dtype: int64"
      ]
     },
     "execution_count": 46,
     "metadata": {},
     "output_type": "execute_result"
    }
   ],
   "source": [
    "df5['Type'].value_counts()\n"
   ]
  },
  {
   "cell_type": "code",
   "execution_count": 47,
   "metadata": {},
   "outputs": [],
   "source": [
    "df5['Type'] = df5['Type'].replace(['Municipality', 'County'], 'Community')\n",
    "df5['Type'] = df5['Type'].replace(['Urban'], 'City')"
   ]
  },
  {
   "cell_type": "code",
   "execution_count": 48,
   "metadata": {},
   "outputs": [
    {
     "data": {
      "text/plain": [
       "Track        9548\n",
       "City          815\n",
       "CDP           543\n",
       "Town          318\n",
       "Village       284\n",
       "Borough        95\n",
       "Community      17\n",
       "Name: Type, dtype: int64"
      ]
     },
     "execution_count": 48,
     "metadata": {},
     "output_type": "execute_result"
    }
   ],
   "source": [
    "df5['Type'].value_counts()"
   ]
  },
  {
   "cell_type": "code",
   "execution_count": 49,
   "metadata": {},
   "outputs": [
    {
     "data": {
      "text/html": [
       "<div>\n",
       "<style scoped>\n",
       "    .dataframe tbody tr th:only-of-type {\n",
       "        vertical-align: middle;\n",
       "    }\n",
       "\n",
       "    .dataframe tbody tr th {\n",
       "        vertical-align: top;\n",
       "    }\n",
       "\n",
       "    .dataframe thead th {\n",
       "        text-align: right;\n",
       "    }\n",
       "</style>\n",
       "<table border=\"1\" class=\"dataframe\">\n",
       "  <thead>\n",
       "    <tr style=\"text-align: right;\">\n",
       "      <th></th>\n",
       "      <th>Zip_Code</th>\n",
       "      <th>ALand</th>\n",
       "      <th>AWater</th>\n",
       "      <th>Mean</th>\n",
       "      <th>Median</th>\n",
       "      <th>Stdev</th>\n",
       "      <th>Population</th>\n",
       "      <th>Retired_workers_number</th>\n",
       "      <th>Disabled workers</th>\n",
       "      <th>Widow(er)s_and_parents_number</th>\n",
       "      <th>Spouses</th>\n",
       "      <th>Children</th>\n",
       "      <th>Number of OASDI beneficiaries aged 65 or older</th>\n",
       "    </tr>\n",
       "  </thead>\n",
       "  <tbody>\n",
       "    <tr>\n",
       "      <th>count</th>\n",
       "      <td>11620.000000</td>\n",
       "      <td>1.162000e+04</td>\n",
       "      <td>1.162000e+04</td>\n",
       "      <td>11620.000000</td>\n",
       "      <td>11620.000000</td>\n",
       "      <td>11620.000000</td>\n",
       "      <td>11620.000000</td>\n",
       "      <td>11620.000000</td>\n",
       "      <td>11620.000000</td>\n",
       "      <td>11620.000000</td>\n",
       "      <td>11620.000000</td>\n",
       "      <td>11620.000000</td>\n",
       "      <td>11620.000000</td>\n",
       "    </tr>\n",
       "    <tr>\n",
       "      <th>mean</th>\n",
       "      <td>48898.890103</td>\n",
       "      <td>1.217729e+08</td>\n",
       "      <td>3.073862e+06</td>\n",
       "      <td>63595.035112</td>\n",
       "      <td>53263.228227</td>\n",
       "      <td>46915.822375</td>\n",
       "      <td>19828.621429</td>\n",
       "      <td>2477.926850</td>\n",
       "      <td>525.301635</td>\n",
       "      <td>238.198795</td>\n",
       "      <td>140.240103</td>\n",
       "      <td>248.698795</td>\n",
       "      <td>2667.808090</td>\n",
       "    </tr>\n",
       "    <tr>\n",
       "      <th>std</th>\n",
       "      <td>27908.066422</td>\n",
       "      <td>6.484929e+08</td>\n",
       "      <td>2.317899e+07</td>\n",
       "      <td>26564.874206</td>\n",
       "      <td>27592.104233</td>\n",
       "      <td>15098.199318</td>\n",
       "      <td>17026.341719</td>\n",
       "      <td>2007.081888</td>\n",
       "      <td>456.906433</td>\n",
       "      <td>189.034663</td>\n",
       "      <td>135.714308</td>\n",
       "      <td>215.206309</td>\n",
       "      <td>2159.126751</td>\n",
       "    </tr>\n",
       "    <tr>\n",
       "      <th>min</th>\n",
       "      <td>601.000000</td>\n",
       "      <td>6.909400e+04</td>\n",
       "      <td>0.000000e+00</td>\n",
       "      <td>6804.000000</td>\n",
       "      <td>5252.000000</td>\n",
       "      <td>5600.000000</td>\n",
       "      <td>1002.000000</td>\n",
       "      <td>35.000000</td>\n",
       "      <td>10.000000</td>\n",
       "      <td>10.000000</td>\n",
       "      <td>10.000000</td>\n",
       "      <td>10.000000</td>\n",
       "      <td>40.000000</td>\n",
       "    </tr>\n",
       "    <tr>\n",
       "      <th>25%</th>\n",
       "      <td>27842.750000</td>\n",
       "      <td>2.577235e+06</td>\n",
       "      <td>0.000000e+00</td>\n",
       "      <td>45446.000000</td>\n",
       "      <td>35094.750000</td>\n",
       "      <td>36358.750000</td>\n",
       "      <td>5828.000000</td>\n",
       "      <td>855.000000</td>\n",
       "      <td>175.000000</td>\n",
       "      <td>85.000000</td>\n",
       "      <td>45.000000</td>\n",
       "      <td>85.000000</td>\n",
       "      <td>920.000000</td>\n",
       "    </tr>\n",
       "    <tr>\n",
       "      <th>50%</th>\n",
       "      <td>46952.500000</td>\n",
       "      <td>8.634226e+06</td>\n",
       "      <td>7.824600e+04</td>\n",
       "      <td>57901.000000</td>\n",
       "      <td>47281.500000</td>\n",
       "      <td>45304.000000</td>\n",
       "      <td>15393.000000</td>\n",
       "      <td>1995.000000</td>\n",
       "      <td>400.000000</td>\n",
       "      <td>195.000000</td>\n",
       "      <td>100.000000</td>\n",
       "      <td>190.000000</td>\n",
       "      <td>2147.500000</td>\n",
       "    </tr>\n",
       "    <tr>\n",
       "      <th>75%</th>\n",
       "      <td>73031.000000</td>\n",
       "      <td>7.130567e+07</td>\n",
       "      <td>8.814038e+05</td>\n",
       "      <td>76192.250000</td>\n",
       "      <td>64521.500000</td>\n",
       "      <td>56089.250000</td>\n",
       "      <td>29410.000000</td>\n",
       "      <td>3615.000000</td>\n",
       "      <td>750.000000</td>\n",
       "      <td>345.000000</td>\n",
       "      <td>195.000000</td>\n",
       "      <td>355.000000</td>\n",
       "      <td>3890.000000</td>\n",
       "    </tr>\n",
       "    <tr>\n",
       "      <th>max</th>\n",
       "      <td>99926.000000</td>\n",
       "      <td>4.685105e+10</td>\n",
       "      <td>1.396368e+09</td>\n",
       "      <td>200012.000000</td>\n",
       "      <td>228723.000000</td>\n",
       "      <td>103836.000000</td>\n",
       "      <td>115104.000000</td>\n",
       "      <td>37440.000000</td>\n",
       "      <td>3490.000000</td>\n",
       "      <td>1895.000000</td>\n",
       "      <td>1645.000000</td>\n",
       "      <td>1825.000000</td>\n",
       "      <td>38455.000000</td>\n",
       "    </tr>\n",
       "  </tbody>\n",
       "</table>\n",
       "</div>"
      ],
      "text/plain": [
       "           Zip_Code         ALand        AWater           Mean         Median  \\\n",
       "count  11620.000000  1.162000e+04  1.162000e+04   11620.000000   11620.000000   \n",
       "mean   48898.890103  1.217729e+08  3.073862e+06   63595.035112   53263.228227   \n",
       "std    27908.066422  6.484929e+08  2.317899e+07   26564.874206   27592.104233   \n",
       "min      601.000000  6.909400e+04  0.000000e+00    6804.000000    5252.000000   \n",
       "25%    27842.750000  2.577235e+06  0.000000e+00   45446.000000   35094.750000   \n",
       "50%    46952.500000  8.634226e+06  7.824600e+04   57901.000000   47281.500000   \n",
       "75%    73031.000000  7.130567e+07  8.814038e+05   76192.250000   64521.500000   \n",
       "max    99926.000000  4.685105e+10  1.396368e+09  200012.000000  228723.000000   \n",
       "\n",
       "               Stdev     Population  Retired_workers_number  Disabled workers  \\\n",
       "count   11620.000000   11620.000000            11620.000000      11620.000000   \n",
       "mean    46915.822375   19828.621429             2477.926850        525.301635   \n",
       "std     15098.199318   17026.341719             2007.081888        456.906433   \n",
       "min      5600.000000    1002.000000               35.000000         10.000000   \n",
       "25%     36358.750000    5828.000000              855.000000        175.000000   \n",
       "50%     45304.000000   15393.000000             1995.000000        400.000000   \n",
       "75%     56089.250000   29410.000000             3615.000000        750.000000   \n",
       "max    103836.000000  115104.000000            37440.000000       3490.000000   \n",
       "\n",
       "       Widow(er)s_and_parents_number       Spouses      Children  \\\n",
       "count                   11620.000000  11620.000000  11620.000000   \n",
       "mean                      238.198795    140.240103    248.698795   \n",
       "std                       189.034663    135.714308    215.206309   \n",
       "min                        10.000000     10.000000     10.000000   \n",
       "25%                        85.000000     45.000000     85.000000   \n",
       "50%                       195.000000    100.000000    190.000000   \n",
       "75%                       345.000000    195.000000    355.000000   \n",
       "max                      1895.000000   1645.000000   1825.000000   \n",
       "\n",
       "       Number of OASDI beneficiaries aged 65 or older  \n",
       "count                                    11620.000000  \n",
       "mean                                      2667.808090  \n",
       "std                                       2159.126751  \n",
       "min                                         40.000000  \n",
       "25%                                        920.000000  \n",
       "50%                                       2147.500000  \n",
       "75%                                       3890.000000  \n",
       "max                                      38455.000000  "
      ]
     },
     "execution_count": 49,
     "metadata": {},
     "output_type": "execute_result"
    }
   ],
   "source": [
    "df5.describe()"
   ]
  },
  {
   "cell_type": "code",
   "execution_count": 50,
   "metadata": {},
   "outputs": [],
   "source": [
    "df5 = pd.get_dummies(df5, columns=['Type'])\n",
    "df5 = pd.get_dummies(df5, columns=['State_Name'])"
   ]
  },
  {
   "cell_type": "code",
   "execution_count": 51,
   "metadata": {},
   "outputs": [],
   "source": [
    "df5.reset_index(drop=True, inplace = True)"
   ]
  },
  {
   "cell_type": "code",
   "execution_count": 52,
   "metadata": {},
   "outputs": [
    {
     "data": {
      "text/html": [
       "<div>\n",
       "<style scoped>\n",
       "    .dataframe tbody tr th:only-of-type {\n",
       "        vertical-align: middle;\n",
       "    }\n",
       "\n",
       "    .dataframe tbody tr th {\n",
       "        vertical-align: top;\n",
       "    }\n",
       "\n",
       "    .dataframe thead th {\n",
       "        text-align: right;\n",
       "    }\n",
       "</style>\n",
       "<table border=\"1\" class=\"dataframe\">\n",
       "  <thead>\n",
       "    <tr style=\"text-align: right;\">\n",
       "      <th></th>\n",
       "      <th>Zip_Code</th>\n",
       "      <th>ALand</th>\n",
       "      <th>AWater</th>\n",
       "      <th>Mean</th>\n",
       "      <th>Median</th>\n",
       "      <th>Stdev</th>\n",
       "      <th>Population</th>\n",
       "      <th>Retired_workers_number</th>\n",
       "      <th>Disabled workers</th>\n",
       "      <th>Widow(er)s_and_parents_number</th>\n",
       "      <th>...</th>\n",
       "      <th>State_Name_South Dakota</th>\n",
       "      <th>State_Name_Tennessee</th>\n",
       "      <th>State_Name_Texas</th>\n",
       "      <th>State_Name_Utah</th>\n",
       "      <th>State_Name_Vermont</th>\n",
       "      <th>State_Name_Virginia</th>\n",
       "      <th>State_Name_Washington</th>\n",
       "      <th>State_Name_West Virginia</th>\n",
       "      <th>State_Name_Wisconsin</th>\n",
       "      <th>State_Name_Wyoming</th>\n",
       "    </tr>\n",
       "  </thead>\n",
       "  <tbody>\n",
       "    <tr>\n",
       "      <th>0</th>\n",
       "      <td>36611</td>\n",
       "      <td>10894952</td>\n",
       "      <td>909156</td>\n",
       "      <td>38773</td>\n",
       "      <td>30506</td>\n",
       "      <td>33101</td>\n",
       "      <td>5955</td>\n",
       "      <td>735</td>\n",
       "      <td>325</td>\n",
       "      <td>130</td>\n",
       "      <td>...</td>\n",
       "      <td>0</td>\n",
       "      <td>0</td>\n",
       "      <td>0</td>\n",
       "      <td>0</td>\n",
       "      <td>0</td>\n",
       "      <td>0</td>\n",
       "      <td>0</td>\n",
       "      <td>0</td>\n",
       "      <td>0</td>\n",
       "      <td>0</td>\n",
       "    </tr>\n",
       "    <tr>\n",
       "      <th>1</th>\n",
       "      <td>36048</td>\n",
       "      <td>26070325</td>\n",
       "      <td>23254</td>\n",
       "      <td>37725</td>\n",
       "      <td>19528</td>\n",
       "      <td>43789</td>\n",
       "      <td>1430</td>\n",
       "      <td>310</td>\n",
       "      <td>125</td>\n",
       "      <td>40</td>\n",
       "      <td>...</td>\n",
       "      <td>0</td>\n",
       "      <td>0</td>\n",
       "      <td>0</td>\n",
       "      <td>0</td>\n",
       "      <td>0</td>\n",
       "      <td>0</td>\n",
       "      <td>0</td>\n",
       "      <td>0</td>\n",
       "      <td>0</td>\n",
       "      <td>0</td>\n",
       "    </tr>\n",
       "  </tbody>\n",
       "</table>\n",
       "<p>2 rows × 72 columns</p>\n",
       "</div>"
      ],
      "text/plain": [
       "   Zip_Code     ALand  AWater   Mean  Median  Stdev  Population  \\\n",
       "0     36611  10894952  909156  38773   30506  33101        5955   \n",
       "1     36048  26070325   23254  37725   19528  43789        1430   \n",
       "\n",
       "   Retired_workers_number  Disabled workers  Widow(er)s_and_parents_number  \\\n",
       "0                     735               325                            130   \n",
       "1                     310               125                             40   \n",
       "\n",
       "   ...  State_Name_South Dakota  State_Name_Tennessee  State_Name_Texas  \\\n",
       "0  ...                        0                     0                 0   \n",
       "1  ...                        0                     0                 0   \n",
       "\n",
       "   State_Name_Utah  State_Name_Vermont  State_Name_Virginia  \\\n",
       "0                0                   0                    0   \n",
       "1                0                   0                    0   \n",
       "\n",
       "   State_Name_Washington  State_Name_West Virginia  State_Name_Wisconsin  \\\n",
       "0                      0                         0                     0   \n",
       "1                      0                         0                     0   \n",
       "\n",
       "   State_Name_Wyoming  \n",
       "0                   0  \n",
       "1                   0  \n",
       "\n",
       "[2 rows x 72 columns]"
      ]
     },
     "execution_count": 52,
     "metadata": {},
     "output_type": "execute_result"
    }
   ],
   "source": [
    "df5.head(2)"
   ]
  },
  {
   "cell_type": "code",
   "execution_count": 53,
   "metadata": {},
   "outputs": [],
   "source": [
    "df5['Median_Target'] = np.where(df5['Median']>49000,1,0)"
   ]
  },
  {
   "cell_type": "code",
   "execution_count": 54,
   "metadata": {},
   "outputs": [
    {
     "data": {
      "text/plain": [
       "0    6167\n",
       "1    5453\n",
       "Name: Median_Target, dtype: int64"
      ]
     },
     "execution_count": 54,
     "metadata": {},
     "output_type": "execute_result"
    }
   ],
   "source": [
    "df5.Median_Target.value_counts()"
   ]
  },
  {
   "cell_type": "code",
   "execution_count": 55,
   "metadata": {},
   "outputs": [],
   "source": [
    "Target = df5['Median_Target']"
   ]
  },
  {
   "cell_type": "code",
   "execution_count": 56,
   "metadata": {},
   "outputs": [
    {
     "data": {
      "text/html": [
       "<div>\n",
       "<style scoped>\n",
       "    .dataframe tbody tr th:only-of-type {\n",
       "        vertical-align: middle;\n",
       "    }\n",
       "\n",
       "    .dataframe tbody tr th {\n",
       "        vertical-align: top;\n",
       "    }\n",
       "\n",
       "    .dataframe thead th {\n",
       "        text-align: right;\n",
       "    }\n",
       "</style>\n",
       "<table border=\"1\" class=\"dataframe\">\n",
       "  <thead>\n",
       "    <tr style=\"text-align: right;\">\n",
       "      <th></th>\n",
       "      <th>ALand</th>\n",
       "      <th>AWater</th>\n",
       "      <th>Population</th>\n",
       "      <th>Retired_workers_number</th>\n",
       "      <th>Disabled workers</th>\n",
       "      <th>Widow(er)s_and_parents_number</th>\n",
       "      <th>Spouses</th>\n",
       "      <th>Children</th>\n",
       "      <th>Number of OASDI beneficiaries aged 65 or older</th>\n",
       "      <th>Type_Borough</th>\n",
       "      <th>...</th>\n",
       "      <th>State_Name_South Dakota</th>\n",
       "      <th>State_Name_Tennessee</th>\n",
       "      <th>State_Name_Texas</th>\n",
       "      <th>State_Name_Utah</th>\n",
       "      <th>State_Name_Vermont</th>\n",
       "      <th>State_Name_Virginia</th>\n",
       "      <th>State_Name_Washington</th>\n",
       "      <th>State_Name_West Virginia</th>\n",
       "      <th>State_Name_Wisconsin</th>\n",
       "      <th>State_Name_Wyoming</th>\n",
       "    </tr>\n",
       "  </thead>\n",
       "  <tbody>\n",
       "    <tr>\n",
       "      <th>0</th>\n",
       "      <td>10894952</td>\n",
       "      <td>909156</td>\n",
       "      <td>5955</td>\n",
       "      <td>735</td>\n",
       "      <td>325</td>\n",
       "      <td>130</td>\n",
       "      <td>40</td>\n",
       "      <td>125</td>\n",
       "      <td>835</td>\n",
       "      <td>0</td>\n",
       "      <td>...</td>\n",
       "      <td>0</td>\n",
       "      <td>0</td>\n",
       "      <td>0</td>\n",
       "      <td>0</td>\n",
       "      <td>0</td>\n",
       "      <td>0</td>\n",
       "      <td>0</td>\n",
       "      <td>0</td>\n",
       "      <td>0</td>\n",
       "      <td>0</td>\n",
       "    </tr>\n",
       "  </tbody>\n",
       "</table>\n",
       "<p>1 rows × 68 columns</p>\n",
       "</div>"
      ],
      "text/plain": [
       "      ALand  AWater  Population  Retired_workers_number  Disabled workers  \\\n",
       "0  10894952  909156        5955                     735               325   \n",
       "\n",
       "   Widow(er)s_and_parents_number  Spouses  Children  \\\n",
       "0                            130       40       125   \n",
       "\n",
       "   Number of OASDI beneficiaries aged 65 or older  Type_Borough  ...  \\\n",
       "0                                             835             0  ...   \n",
       "\n",
       "   State_Name_South Dakota  State_Name_Tennessee  State_Name_Texas  \\\n",
       "0                        0                     0                 0   \n",
       "\n",
       "   State_Name_Utah  State_Name_Vermont  State_Name_Virginia  \\\n",
       "0                0                   0                    0   \n",
       "\n",
       "   State_Name_Washington  State_Name_West Virginia  State_Name_Wisconsin  \\\n",
       "0                      0                         0                     0   \n",
       "\n",
       "   State_Name_Wyoming  \n",
       "0                   0  \n",
       "\n",
       "[1 rows x 68 columns]"
      ]
     },
     "execution_count": 56,
     "metadata": {},
     "output_type": "execute_result"
    }
   ],
   "source": [
    "df5 = df5.drop([\"Zip_Code\",'Median','Mean','Stdev','Median_Target'],axis=1)\n",
    "df5.head(1)"
   ]
  },
  {
   "cell_type": "code",
   "execution_count": 57,
   "metadata": {},
   "outputs": [
    {
     "data": {
      "text/plain": [
       "(11620, 68)"
      ]
     },
     "execution_count": 57,
     "metadata": {},
     "output_type": "execute_result"
    }
   ],
   "source": [
    "df5.shape"
   ]
  },
  {
   "cell_type": "code",
   "execution_count": 58,
   "metadata": {},
   "outputs": [
    {
     "name": "stdout",
     "output_type": "stream",
     "text": [
      "(9296, 68)\n",
      "(2324, 68)\n",
      "(9296,)\n",
      "(2324,)\n"
     ]
    }
   ],
   "source": [
    "\n",
    "X_train_b, X_test_b, y_train_b, y_test_b = train_test_split(df5, Target, test_size=0.2)\n",
    "print(X_train_b.shape)\n",
    "print(X_test_b.shape)\n",
    "print(y_train_b.shape)\n",
    "print(y_test_b.shape)"
   ]
  },
  {
   "cell_type": "code",
   "execution_count": 59,
   "metadata": {},
   "outputs": [],
   "source": [
    "def print_metrics(labels, preds):\n",
    "    print(\"Precision Score: {}\".format(precision_score(labels, preds)))\n",
    "    print(\"Recall Score: {}\".format(recall_score(labels, preds)))\n",
    "    print(\"Accuracy Score: {}\".format(accuracy_score(labels, preds)))\n",
    "    print(\"F1 Score: {}\".format(f1_score(labels, preds)))"
   ]
  },
  {
   "cell_type": "code",
   "execution_count": 60,
   "metadata": {},
   "outputs": [
    {
     "name": "stdout",
     "output_type": "stream",
     "text": [
      "baseline Logistic\n",
      "-------------------\n",
      "Precision Score: 0.0\n",
      "Recall Score: 0.0\n",
      "Accuracy Score: 0.5236660929432013\n",
      "F1 Score: 0.0\n",
      "-------------------\n",
      "True Positives: 0\n",
      "True Negatives: 1217\n",
      "False Positives: 0\n",
      "False Negatives: 1107\n"
     ]
    }
   ],
   "source": [
    "\n",
    "#baseline logistic \n",
    "print('baseline Logistic')\n",
    "print('-------------------')\n",
    "lm = LogisticRegression()\n",
    "lm.fit(X_train_b, y_train_b)\n",
    "test_preds = lm.predict(X_test_b)\n",
    "print_metrics(y_test_b, test_preds)\n",
    "\n",
    "print('-------------------')\n",
    "confusion = metrics.confusion_matrix(y_test_b, test_preds)\n",
    "TP = confusion[1][1]\n",
    "TN = confusion[0][0]\n",
    "FP = confusion[0][1]\n",
    "FN = confusion[1][0]\n",
    "\n",
    "print ('True Positives:', TP)\n",
    "print ('True Negatives:', TN)\n",
    "print ('False Positives:', FP)\n",
    "print ('False Negatives:', FN)"
   ]
  },
  {
   "cell_type": "code",
   "execution_count": 61,
   "metadata": {},
   "outputs": [],
   "source": [
    "#create polynomial features and interaction terms\n",
    "poly = PolynomialFeatures(degree=2)\n",
    "poly.fit(df5)\n",
    "column_names = poly.get_feature_names(df5.columns)\n",
    "feature_poly= pd.DataFrame(poly.transform(df5), columns=column_names)"
   ]
  },
  {
   "cell_type": "code",
   "execution_count": 62,
   "metadata": {},
   "outputs": [
    {
     "data": {
      "text/plain": [
       "(11620, 2415)"
      ]
     },
     "execution_count": 62,
     "metadata": {},
     "output_type": "execute_result"
    }
   ],
   "source": [
    "feature_poly.shape"
   ]
  },
  {
   "cell_type": "code",
   "execution_count": 63,
   "metadata": {},
   "outputs": [
    {
     "name": "stdout",
     "output_type": "stream",
     "text": [
      "(9296, 2415)\n",
      "(2324, 2415)\n",
      "(9296,)\n",
      "(2324,)\n"
     ]
    }
   ],
   "source": [
    "X_train, X_test, y_train, y_test = train_test_split(feature_poly, Target, test_size=0.2)\n",
    "print(X_train.shape)\n",
    "print(X_test.shape)\n",
    "print(y_train.shape)\n",
    "print(y_test.shape)"
   ]
  },
  {
   "cell_type": "code",
   "execution_count": 64,
   "metadata": {},
   "outputs": [],
   "source": [
    "#scale data\n",
    "sc=StandardScaler()\n",
    "#firt model to training data - not testing data\n",
    "X_train_scaled= sc.fit_transform(X_train)\n",
    "X_test_scaled = sc.transform(X_test)"
   ]
  },
  {
   "cell_type": "code",
   "execution_count": 68,
   "metadata": {},
   "outputs": [],
   "source": [
    "X_train_scaled = pd.DataFrame(X_train_scaled, columns = X_train.columns)\n",
    "X_test_scaled = pd.DataFrame(X_test_scaled, columns = X_test.columns)"
   ]
  },
  {
   "cell_type": "code",
   "execution_count": 69,
   "metadata": {},
   "outputs": [
    {
     "data": {
      "text/plain": [
       "SelectKBest(k=48, score_func=<function f_regression at 0x1a20f09b70>)"
      ]
     },
     "execution_count": 69,
     "metadata": {},
     "output_type": "execute_result"
    }
   ],
   "source": [
    "#Use F test for feature Selection\n",
    "selector = SelectKBest(f_regression, k=48)\n",
    "selector.fit(X_train_scaled, y_train)"
   ]
  },
  {
   "cell_type": "code",
   "execution_count": null,
   "metadata": {},
   "outputs": [],
   "source": [
    "# X_train_scaled = pd.DataFrame(X_train_scaled)\n",
    "# X_test_scaled = pd.DataFrame(X_test_scaled)\n",
    "# X_train_scaled.head()"
   ]
  },
  {
   "cell_type": "code",
   "execution_count": 70,
   "metadata": {},
   "outputs": [
    {
     "data": {
      "text/plain": [
       "(9296, 2415)"
      ]
     },
     "execution_count": 70,
     "metadata": {},
     "output_type": "execute_result"
    }
   ],
   "source": [
    "selected_columns = X_train_scaled.columns[selector.get_support()]\n",
    "removed_columns = X_train_scaled.columns[~selector.get_support()]\n",
    "X_train_scaled = X_train_scaled[selected_columns]\n",
    "X_test_scaled = X_test_scaled[selected_columns]\n"
   ]
  },
  {
   "cell_type": "code",
   "execution_count": 71,
   "metadata": {},
   "outputs": [
    {
     "data": {
      "text/plain": [
       "Index(['Population', 'Retired_workers_number', 'Disabled workers', 'Spouses',\n",
       "       'Children', 'Number of OASDI beneficiaries aged 65 or older',\n",
       "       'State_Name_Connecticut', 'State_Name_Maryland',\n",
       "       'State_Name_Massachusetts', 'State_Name_New Jersey',\n",
       "       'State_Name_New York', 'State_Name_North Carolina',\n",
       "       'State_Name_Puerto Rico', 'ALand State_Name_Massachusetts',\n",
       "       'Population Retired_workers_number',\n",
       "       'Population Number of OASDI beneficiaries aged 65 or older',\n",
       "       'Population Type_Track', 'Population State_Name_New Jersey',\n",
       "       'Retired_workers_number^2', 'Retired_workers_number Spouses',\n",
       "       'Retired_workers_number Number of OASDI beneficiaries aged 65 or older',\n",
       "       'Retired_workers_number Type_Track',\n",
       "       'Retired_workers_number State_Name_New Jersey', 'Disabled workers^2',\n",
       "       'Disabled workers Widow(er)s_and_parents_number',\n",
       "       'Disabled workers Children', 'Disabled workers Type_Track',\n",
       "       'Disabled workers State_Name_Puerto Rico',\n",
       "       'Widow(er)s_and_parents_number State_Name_New Jersey',\n",
       "       'Spouses Number of OASDI beneficiaries aged 65 or older',\n",
       "       'Spouses Type_Track', 'Spouses State_Name_New Jersey',\n",
       "       'Spouses State_Name_Puerto Rico', 'Children^2',\n",
       "       'Children State_Name_Puerto Rico',\n",
       "       'Number of OASDI beneficiaries aged 65 or older^2',\n",
       "       'Number of OASDI beneficiaries aged 65 or older Type_Track',\n",
       "       'Number of OASDI beneficiaries aged 65 or older State_Name_New Jersey',\n",
       "       'Type_Track State_Name_Massachusetts',\n",
       "       'Type_Track State_Name_New Jersey', 'Type_Track State_Name_New York',\n",
       "       'State_Name_Connecticut^2', 'State_Name_Maryland^2',\n",
       "       'State_Name_Massachusetts^2', 'State_Name_New Jersey^2',\n",
       "       'State_Name_New York^2', 'State_Name_North Carolina^2',\n",
       "       'State_Name_Puerto Rico^2'],\n",
       "      dtype='object')"
      ]
     },
     "execution_count": 71,
     "metadata": {},
     "output_type": "execute_result"
    }
   ],
   "source": [
    "X_test_scaled.columns"
   ]
  },
  {
   "cell_type": "code",
   "execution_count": null,
   "metadata": {},
   "outputs": [],
   "source": []
  },
  {
   "cell_type": "code",
   "execution_count": 72,
   "metadata": {},
   "outputs": [
    {
     "name": "stdout",
     "output_type": "stream",
     "text": [
      "baseline Logistic\n",
      "-------------------\n",
      "Precision Score: 0.7332601536772777\n",
      "Recall Score: 0.6034327009936766\n",
      "Accuracy Score: 0.7065404475043029\n",
      "F1 Score: 0.6620416253716551\n",
      "-------------------\n",
      "True Positives: 668\n",
      "True Negatives: 974\n",
      "False Positives: 243\n",
      "False Negatives: 439\n"
     ]
    }
   ],
   "source": [
    "#baseline logistic - use scaled data\n",
    "print('baseline Logistic')\n",
    "print('-------------------')\n",
    "lm = LogisticRegression()\n",
    "lm.fit(X_train_scaled, y_train)\n",
    "test_preds = lm.predict(X_test_scaled)\n",
    "print_metrics(y_test, test_preds)\n",
    "\n",
    "print('-------------------')\n",
    "confusion = metrics.confusion_matrix(y_test, test_preds)\n",
    "TP = confusion[1][1]\n",
    "TN = confusion[0][0]\n",
    "FP = confusion[0][1]\n",
    "FN = confusion[1][0]\n",
    "\n",
    "print ('True Positives:', TP)\n",
    "print ('True Negatives:', TN)\n",
    "print ('False Positives:', FP)\n",
    "print ('False Negatives:', FN)"
   ]
  },
  {
   "cell_type": "code",
   "execution_count": 73,
   "metadata": {},
   "outputs": [
    {
     "name": "stdout",
     "output_type": "stream",
     "text": [
      "[LibLinear][LibLinear][LibLinear][LibLinear][LibLinear][LibLinear][LibLinear][LibLinear][LibLinear][LibLinear][LibLinear][LibLinear][LibLinear][LibLinear][LibLinear][LibLinear][LibLinear][LibLinear][LibLinear][LibLinear][LibLinear][LibLinear][LibLinear][LibLinear][LibLinear][LibLinear][LibLinear][LibLinear][LibLinear][LibLinear][LibLinear][LibLinear][LibLinear][LibLinear][LibLinear][LibLinear][LibLinear][LibLinear][LibLinear][LibLinear][LibLinear][LibLinear][LibLinear][LibLinear][LibLinear][LibLinear][LibLinear][LibLinear][LibLinear][LibLinear][LibLinear][LibLinear][LibLinear][LibLinear][LibLinear][LibLinear][LibLinear][LibLinear][LibLinear][LibLinear][LibLinear]0.6533999805996532\n",
      "{'C': 5, 'penalty': 'l1'}\n",
      "LogisticRegression(C=5, class_weight=None, dual=False, fit_intercept=True,\n",
      "          intercept_scaling=1, max_iter=100, multi_class='warn', n_jobs=-1,\n",
      "          penalty='l1', random_state=None, solver='warn', tol=0.0001,\n",
      "          verbose=1, warm_start=False)\n"
     ]
    }
   ],
   "source": [
    "grid_params_lr = [{'penalty': ['l1', 'l2'], \n",
    "                    'C' : [0.001,0.01,0.1,1,2,5,6,7]}] \n",
    "\n",
    "# 'fit_intercept': [True,False]\n",
    "gs_lr = GridSearchCV(estimator=LogisticRegression(n_jobs=-1,verbose = 1),\n",
    "                    param_grid=grid_params_lr,\n",
    "                    scoring='f1',\n",
    "                    cv=5)\n",
    "gs_lr.fit(X_train_scaled, y_train)\n",
    "# examine the best model\n",
    "\n",
    "# Single best score achieved across all params (min_samples_split)\n",
    "print(gs_lr.best_score_)\n",
    "\n",
    "# Dictionary containing the parameters (min_samples_split) used to generate that score\n",
    "print(gs_lr.best_params_)\n",
    "\n",
    "# Actual model object fit with those best parameters\n",
    "# Shows default parameters that we did not specify\n",
    "print(gs_lr.best_estimator_)"
   ]
  },
  {
   "cell_type": "code",
   "execution_count": 77,
   "metadata": {},
   "outputs": [
    {
     "name": "stdout",
     "output_type": "stream",
     "text": [
      "[LibLinear][LibLinear][LibLinear][LibLinear][LibLinear][LibLinear][LibLinear][LibLinear][LibLinear][LibLinear][LibLinear][LibLinear][LibLinear][LibLinear][LibLinear][LibLinear][LibLinear][LibLinear][LibLinear][LibLinear][LibLinear][LibLinear][LibLinear][LibLinear][LibLinear][LibLinear][LibLinear][LibLinear][LibLinear][LibLinear][LibLinear]0.6759011659715306\n",
      "{'C': 5, 'fit_intercept': False, 'penalty': 'l1'}\n",
      "LogisticRegression(C=5, class_weight=None, dual=False, fit_intercept=False,\n",
      "          intercept_scaling=1, max_iter=100, multi_class='warn', n_jobs=-1,\n",
      "          penalty='l1', random_state=None, solver='warn', tol=0.0001,\n",
      "          verbose=1, warm_start=False)\n"
     ]
    }
   ],
   "source": [
    "grid_params_lr = [{'penalty': ['l1'], \n",
    "                    'C' : [5,6,10],'fit_intercept':[True,False]}] \n",
    "\n",
    "# 'fit_intercept': [True,False]\n",
    "gs_lr = GridSearchCV(estimator=LogisticRegression(n_jobs=-1,verbose = 1),\n",
    "                    param_grid=grid_params_lr,\n",
    "                    scoring='f1',\n",
    "                    cv=5)\n",
    "gs_lr.fit(X_train_scaled, y_train)\n",
    "# examine the best model\n",
    "\n",
    "# Single best score achieved across all params (min_samples_split)\n",
    "print(gs_lr.best_score_)\n",
    "\n",
    "# Dictionary containing the parameters (min_samples_split) used to generate that score\n",
    "print(gs_lr.best_params_)\n",
    "\n",
    "# Actual model object fit with those best parameters\n",
    "# Shows default parameters that we did not specify\n",
    "print(gs_lr.best_estimator_)"
   ]
  },
  {
   "cell_type": "code",
   "execution_count": 79,
   "metadata": {},
   "outputs": [
    {
     "name": "stdout",
     "output_type": "stream",
     "text": [
      "Improved Logistic\n",
      "-------------------\n",
      "Precision Score: 0.7149853085210578\n",
      "Recall Score: 0.6594399277326106\n",
      "Accuracy Score: 0.7125645438898451\n",
      "F1 Score: 0.6860902255639098\n",
      "-------------------\n",
      "True Positives: 730\n",
      "True Negatives: 926\n",
      "False Positives: 291\n",
      "False Negatives: 377\n"
     ]
    }
   ],
   "source": [
    "#baseline logistic - use scaled data\n",
    "print('Improved Logistic')\n",
    "print('-------------------')\n",
    "lm = LogisticRegression(penalty='l1',C=5, fit_intercept=False)\n",
    "lm.fit(X_train_scaled, y_train)\n",
    "test_preds = lm.predict(X_test_scaled)\n",
    "print_metrics(y_test, test_preds)\n",
    "\n",
    "print('-------------------')\n",
    "confusion = metrics.confusion_matrix(y_test, test_preds)\n",
    "TP = confusion[1][1]\n",
    "TN = confusion[0][0]\n",
    "FP = confusion[0][1]\n",
    "FN = confusion[1][0]\n",
    "\n",
    "print ('True Positives:', TP)\n",
    "print ('True Negatives:', TN)\n",
    "print ('False Positives:', FP)\n",
    "print ('False Negatives:', FN)"
   ]
  },
  {
   "cell_type": "code",
   "execution_count": null,
   "metadata": {},
   "outputs": [],
   "source": []
  },
  {
   "cell_type": "code",
   "execution_count": null,
   "metadata": {},
   "outputs": [],
   "source": []
  },
  {
   "cell_type": "code",
   "execution_count": 80,
   "metadata": {},
   "outputs": [
    {
     "name": "stdout",
     "output_type": "stream",
     "text": [
      "baseline Decision Tree\n",
      "-------------------\n",
      "Precision Score: 0.6157989228007181\n",
      "Recall Score: 0.6196928635953026\n",
      "Accuracy Score: 0.6346815834767642\n",
      "F1 Score: 0.6177397568662764\n",
      "-------------------\n",
      "True Positives: 686\n",
      "True Negatives: 789\n",
      "False Positives: 428\n",
      "False Negatives: 421\n"
     ]
    }
   ],
   "source": [
    "#baseline Decision Tree - don't use scaled data\n",
    "print('baseline Decision Tree')\n",
    "print('-------------------')\n",
    "dtr = DecisionTreeClassifier()\n",
    "dtr.fit(X_train_scaled, y_train)\n",
    "test_preds = dtr.predict(X_test_scaled)\n",
    "print_metrics(y_test, test_preds)\n",
    "\n",
    "print('-------------------')\n",
    "confusion = metrics.confusion_matrix(y_test, test_preds)\n",
    "TP = confusion[1][1]\n",
    "TN = confusion[0][0]\n",
    "FP = confusion[0][1]\n",
    "FN = confusion[1][0]\n",
    "\n",
    "print ('True Positives:', TP)\n",
    "print ('True Negatives:', TN)\n",
    "print ('False Positives:', FP)\n",
    "print ('False Negatives:', FN)"
   ]
  },
  {
   "cell_type": "code",
   "execution_count": 82,
   "metadata": {},
   "outputs": [
    {
     "name": "stdout",
     "output_type": "stream",
     "text": [
      "Fitting 5 folds for each of 360 candidates, totalling 1800 fits\n"
     ]
    },
    {
     "name": "stderr",
     "output_type": "stream",
     "text": [
      "[Parallel(n_jobs=-1)]: Using backend LokyBackend with 4 concurrent workers.\n",
      "[Parallel(n_jobs=-1)]: Done  33 tasks      | elapsed:    3.4s\n",
      "[Parallel(n_jobs=-1)]: Done 274 tasks      | elapsed:    9.9s\n",
      "[Parallel(n_jobs=-1)]: Done 680 tasks      | elapsed:   26.1s\n",
      "[Parallel(n_jobs=-1)]: Done 1246 tasks      | elapsed:   49.1s\n"
     ]
    },
    {
     "name": "stdout",
     "output_type": "stream",
     "text": [
      "0.6647222034533073\n",
      "{'criterion': 'entropy', 'max_depth': 9, 'min_samples_leaf': 65}\n",
      "DecisionTreeClassifier(class_weight=None, criterion='entropy', max_depth=9,\n",
      "            max_features=None, max_leaf_nodes=None,\n",
      "            min_impurity_decrease=0.0, min_impurity_split=None,\n",
      "            min_samples_leaf=65, min_samples_split=2,\n",
      "            min_weight_fraction_leaf=0.0, presort=False, random_state=None,\n",
      "            splitter='best')\n"
     ]
    },
    {
     "name": "stderr",
     "output_type": "stream",
     "text": [
      "[Parallel(n_jobs=-1)]: Done 1800 out of 1800 | elapsed:  1.3min finished\n"
     ]
    }
   ],
   "source": [
    "grid_params_dt = [{'criterion': ['gini','entropy'], \n",
    "                    'min_samples_leaf' : range(5,100,10),\n",
    "                    'max_depth': range(2,20,1)}] \n",
    "\n",
    "gs_dt = GridSearchCV(estimator=DecisionTreeClassifier(),\n",
    "                    param_grid=grid_params_dt,\n",
    "                    scoring='f1',\n",
    "                    cv=5,n_jobs= -1, verbose=2)\n",
    "gs_dt.fit(X_train_scaled, y_train)\n",
    "# examine the best model\n",
    "\n",
    "# Single best score achieved across all params (min_samples_split)\n",
    "print(gs_dt.best_score_)\n",
    "\n",
    "# Dictionary containing the parameters (min_samples_split) used to generate that score\n",
    "print(gs_dt.best_params_)\n",
    "\n",
    "# Actual model object fit with those best parameters\n",
    "# Shows default parameters that we did not specify\n",
    "print(gs_dt.best_estimator_)"
   ]
  },
  {
   "cell_type": "code",
   "execution_count": 83,
   "metadata": {},
   "outputs": [
    {
     "name": "stdout",
     "output_type": "stream",
     "text": [
      "improved Decision Tree\n",
      "-------------------\n",
      "Precision Score: 0.6995515695067265\n",
      "Recall Score: 0.7046070460704607\n",
      "Accuracy Score: 0.7151462994836488\n",
      "F1 Score: 0.702070207020702\n",
      "-------------------\n",
      "True Positives: 780\n",
      "True Negatives: 882\n",
      "False Positives: 335\n",
      "False Negatives: 327\n"
     ]
    }
   ],
   "source": [
    "#baseline Decision Tree - don't use scaled data\n",
    "print('improved Decision Tree')\n",
    "print('-------------------')\n",
    "dtr = DecisionTreeClassifier(criterion='entropy',max_depth= 9, min_samples_leaf=65  )\n",
    "dtr.fit(X_train_scaled, y_train)\n",
    "test_preds = dtr.predict(X_test_scaled)\n",
    "print_metrics(y_test, test_preds)\n",
    "\n",
    "print('-------------------')\n",
    "confusion = metrics.confusion_matrix(y_test, test_preds)\n",
    "TP = confusion[1][1]\n",
    "TN = confusion[0][0]\n",
    "FP = confusion[0][1]\n",
    "FN = confusion[1][0]\n",
    "\n",
    "print ('True Positives:', TP)\n",
    "print ('True Negatives:', TN)\n",
    "print ('False Positives:', FP)\n",
    "print ('False Negatives:', FN)"
   ]
  },
  {
   "cell_type": "code",
   "execution_count": null,
   "metadata": {},
   "outputs": [],
   "source": []
  },
  {
   "cell_type": "code",
   "execution_count": null,
   "metadata": {},
   "outputs": [],
   "source": []
  },
  {
   "cell_type": "code",
   "execution_count": null,
   "metadata": {},
   "outputs": [],
   "source": []
  },
  {
   "cell_type": "code",
   "execution_count": 84,
   "metadata": {},
   "outputs": [
    {
     "name": "stdout",
     "output_type": "stream",
     "text": [
      "baseline KNN\n",
      "-------------------\n",
      "Precision Score: 0.6811862835959221\n",
      "Recall Score: 0.6639566395663956\n",
      "Accuracy Score: 0.6919104991394148\n",
      "F1 Score: 0.6724611161939615\n",
      "-------------------\n",
      "True Positives: 735\n",
      "True Negatives: 873\n",
      "False Positives: 344\n",
      "False Negatives: 372\n"
     ]
    }
   ],
   "source": [
    "#baseline KNN - use scaled data\n",
    "print('baseline KNN')\n",
    "print('-------------------')\n",
    "knn = KNeighborsClassifier()\n",
    "knn.fit(X_train_scaled, y_train)\n",
    "y_preds = knn.predict(X_test_scaled)\n",
    "print_metrics(y_test, y_preds)\n",
    "print('-------------------')\n",
    "confusion = metrics.confusion_matrix(y_test, y_preds)\n",
    "TP = confusion[1][1]\n",
    "TN = confusion[0][0]\n",
    "FP = confusion[0][1]\n",
    "FN = confusion[1][0]\n",
    "\n",
    "print ('True Positives:', TP)\n",
    "print ('True Negatives:', TN)\n",
    "print ('False Positives:', FP)\n",
    "print ('False Negatives:', FN)"
   ]
  },
  {
   "cell_type": "code",
   "execution_count": 85,
   "metadata": {},
   "outputs": [
    {
     "name": "stdout",
     "output_type": "stream",
     "text": [
      "0.6912103083294984\n",
      "13\n",
      "[0.6321100917431193, 0.5618101545253863, 0.6569741026805996, 0.6141078838174273, 0.6724611161939615, 0.6514172053704624, 0.6873290793072014, 0.6604696673189824, 0.6900958466453674, 0.6715257531584062, 0.6910755148741419, 0.675636713118693, 0.6912103083294984, 0.6842105263157895]\n"
     ]
    }
   ],
   "source": [
    "#find best k\n",
    "k_range = list(range(1,15))\n",
    "k_scores = []\n",
    "best_score = 0\n",
    "best_k = 0\n",
    "for k in k_range:\n",
    "    knn = KNeighborsClassifier(n_neighbors=k,n_jobs=-1)\n",
    "    knn.fit(X_train_scaled, y_train)\n",
    "    y_predict = knn.predict(X_test_scaled)\n",
    "    score = metrics.f1_score(y_test, y_predict, average='binary')\n",
    "    k_scores.append( score)\n",
    "    if score > best_score:\n",
    "        best_score = score\n",
    "        best_k = k\n",
    "        \n",
    "print(best_score)\n",
    "print(best_k)\n",
    "print(k_scores)\n"
   ]
  },
  {
   "cell_type": "code",
   "execution_count": 86,
   "metadata": {},
   "outputs": [
    {
     "name": "stdout",
     "output_type": "stream",
     "text": [
      "Fitting 5 folds for each of 6 candidates, totalling 30 fits\n",
      "[CV] p=1, weights=uniform ............................................\n"
     ]
    },
    {
     "name": "stderr",
     "output_type": "stream",
     "text": [
      "[Parallel(n_jobs=1)]: Using backend SequentialBackend with 1 concurrent workers.\n"
     ]
    },
    {
     "name": "stdout",
     "output_type": "stream",
     "text": [
      "[CV] ............................. p=1, weights=uniform, total=   0.3s\n",
      "[CV] p=1, weights=uniform ............................................\n"
     ]
    },
    {
     "name": "stderr",
     "output_type": "stream",
     "text": [
      "[Parallel(n_jobs=1)]: Done   1 out of   1 | elapsed:    1.2s remaining:    0.0s\n"
     ]
    },
    {
     "name": "stdout",
     "output_type": "stream",
     "text": [
      "[CV] ............................. p=1, weights=uniform, total=   0.3s\n",
      "[CV] p=1, weights=uniform ............................................\n",
      "[CV] ............................. p=1, weights=uniform, total=   0.3s\n",
      "[CV] p=1, weights=uniform ............................................\n",
      "[CV] ............................. p=1, weights=uniform, total=   0.3s\n",
      "[CV] p=1, weights=uniform ............................................\n",
      "[CV] ............................. p=1, weights=uniform, total=   0.5s\n",
      "[CV] p=1, weights=distance ...........................................\n",
      "[CV] ............................ p=1, weights=distance, total=   0.3s\n",
      "[CV] p=1, weights=distance ...........................................\n",
      "[CV] ............................ p=1, weights=distance, total=   0.2s\n",
      "[CV] p=1, weights=distance ...........................................\n",
      "[CV] ............................ p=1, weights=distance, total=   0.2s\n",
      "[CV] p=1, weights=distance ...........................................\n",
      "[CV] ............................ p=1, weights=distance, total=   0.3s\n",
      "[CV] p=1, weights=distance ...........................................\n",
      "[CV] ............................ p=1, weights=distance, total=   0.6s\n",
      "[CV] p=2, weights=uniform ............................................\n",
      "[CV] ............................. p=2, weights=uniform, total=   0.3s\n",
      "[CV] p=2, weights=uniform ............................................\n",
      "[CV] ............................. p=2, weights=uniform, total=   0.3s\n",
      "[CV] p=2, weights=uniform ............................................\n",
      "[CV] ............................. p=2, weights=uniform, total=   0.3s\n",
      "[CV] p=2, weights=uniform ............................................\n",
      "[CV] ............................. p=2, weights=uniform, total=   0.3s\n",
      "[CV] p=2, weights=uniform ............................................\n",
      "[CV] ............................. p=2, weights=uniform, total=   0.6s\n",
      "[CV] p=2, weights=distance ...........................................\n",
      "[CV] ............................ p=2, weights=distance, total=   0.3s\n",
      "[CV] p=2, weights=distance ...........................................\n",
      "[CV] ............................ p=2, weights=distance, total=   0.2s\n",
      "[CV] p=2, weights=distance ...........................................\n",
      "[CV] ............................ p=2, weights=distance, total=   0.2s\n",
      "[CV] p=2, weights=distance ...........................................\n",
      "[CV] ............................ p=2, weights=distance, total=   0.2s\n",
      "[CV] p=2, weights=distance ...........................................\n",
      "[CV] ............................ p=2, weights=distance, total=   0.5s\n",
      "[CV] p=3, weights=uniform ............................................\n",
      "[CV] ............................. p=3, weights=uniform, total=   1.9s\n",
      "[CV] p=3, weights=uniform ............................................\n",
      "[CV] ............................. p=3, weights=uniform, total=   1.7s\n",
      "[CV] p=3, weights=uniform ............................................\n",
      "[CV] ............................. p=3, weights=uniform, total=   2.0s\n",
      "[CV] p=3, weights=uniform ............................................\n",
      "[CV] ............................. p=3, weights=uniform, total=   1.8s\n",
      "[CV] p=3, weights=uniform ............................................\n",
      "[CV] ............................. p=3, weights=uniform, total=   4.2s\n",
      "[CV] p=3, weights=distance ...........................................\n",
      "[CV] ............................ p=3, weights=distance, total=   1.8s\n",
      "[CV] p=3, weights=distance ...........................................\n",
      "[CV] ............................ p=3, weights=distance, total=   1.6s\n",
      "[CV] p=3, weights=distance ...........................................\n",
      "[CV] ............................ p=3, weights=distance, total=   1.6s\n",
      "[CV] p=3, weights=distance ...........................................\n",
      "[CV] ............................ p=3, weights=distance, total=   1.5s\n",
      "[CV] p=3, weights=distance ...........................................\n",
      "[CV] ............................ p=3, weights=distance, total=   3.9s\n",
      "0.6811765849504096\n",
      "{'p': 1, 'weights': 'uniform'}\n",
      "KNeighborsClassifier(algorithm='auto', leaf_size=30, metric='minkowski',\n",
      "           metric_params=None, n_jobs=-1, n_neighbors=13, p=1,\n",
      "           weights='uniform')\n"
     ]
    },
    {
     "name": "stderr",
     "output_type": "stream",
     "text": [
      "[Parallel(n_jobs=1)]: Done  30 out of  30 | elapsed:  2.2min finished\n"
     ]
    },
    {
     "name": "stdout",
     "output_type": "stream",
     "text": [
      "0.6964856230031948\n"
     ]
    }
   ],
   "source": [
    "grid_params_KNN = [{'p': [1,2,3],\n",
    "                    'weights': ['uniform', 'distance']}] \n",
    "\n",
    "gs_KNN = GridSearchCV(estimator=KNeighborsClassifier(n_neighbors=13,n_jobs=-1),\n",
    "                           param_grid=grid_params_KNN,\n",
    "                           scoring='f1',\n",
    "                           cv=5, verbose = 2)\n",
    "gs_KNN.fit(X_train_scaled, y_train)\n",
    "# examine the best model\n",
    "\n",
    "# Single best score achieved across all params (min_samples_split)\n",
    "print(gs_KNN.best_score_)\n",
    "\n",
    "# Dictionary containing the parameters (min_samples_split) used to generate that score\n",
    "print(gs_KNN.best_params_)\n",
    "\n",
    "# Actual model object fit with those best parameters\n",
    "# Shows default parameters that we did not specify\n",
    "print(gs_KNN.best_estimator_)\n",
    "val_preds = gs_KNN.predict(X_test_scaled)\n",
    "print (f1_score(y_test, val_preds))"
   ]
  },
  {
   "cell_type": "code",
   "execution_count": 88,
   "metadata": {},
   "outputs": [
    {
     "name": "stdout",
     "output_type": "stream",
     "text": [
      "Improved KNN\n",
      "-------------------\n",
      "Precision Score: 0.7038745387453874\n",
      "Recall Score: 0.6892502258355917\n",
      "Accuracy Score: 0.713855421686747\n",
      "F1 Score: 0.6964856230031948\n",
      "-------------------\n",
      "True Positives: 763\n",
      "True Negatives: 896\n",
      "False Positives: 321\n",
      "False Negatives: 344\n"
     ]
    }
   ],
   "source": [
    "#baseline KNN - use scaled data\n",
    "print('Improved KNN')\n",
    "print('-------------------')\n",
    "knn = KNeighborsClassifier(n_neighbors=13,p=1)\n",
    "knn.fit(X_train_scaled, y_train)\n",
    "y_preds = knn.predict(X_test_scaled)\n",
    "print_metrics(y_test, y_preds)\n",
    "print('-------------------')\n",
    "confusion = metrics.confusion_matrix(y_test, y_preds)\n",
    "TP = confusion[1][1]\n",
    "TN = confusion[0][0]\n",
    "FP = confusion[0][1]\n",
    "FN = confusion[1][0]\n",
    "\n",
    "print ('True Positives:', TP)\n",
    "print ('True Negatives:', TN)\n",
    "print ('False Positives:', FP)\n",
    "print ('False Negatives:', FN)"
   ]
  },
  {
   "cell_type": "code",
   "execution_count": null,
   "metadata": {},
   "outputs": [],
   "source": []
  },
  {
   "cell_type": "code",
   "execution_count": null,
   "metadata": {},
   "outputs": [],
   "source": []
  },
  {
   "cell_type": "code",
   "execution_count": 89,
   "metadata": {},
   "outputs": [
    {
     "name": "stdout",
     "output_type": "stream",
     "text": [
      "Precision Score: 0.7382352941176471\n",
      "Recall Score: 0.6802168021680217\n",
      "Accuracy Score: 0.7327882960413081\n",
      "F1 Score: 0.7080394922425952\n",
      "-------------------\n",
      "True Positives: 753\n",
      "True Negatives: 950\n",
      "False Positives: 267\n",
      "False Negatives: 354\n"
     ]
    }
   ],
   "source": [
    "clf = xgb.XGBClassifier()\n",
    "clf.fit(X_train_scaled, y_train)\n",
    "training_preds = clf.predict(X_train_scaled)\n",
    "val_preds = clf.predict(X_test_scaled)\n",
    "print_metrics(y_test, val_preds)\n",
    "print('-------------------')\n",
    "confusion = metrics.confusion_matrix(y_test, val_preds)\n",
    "TP = confusion[1][1]\n",
    "TN = confusion[0][0]\n",
    "FP = confusion[0][1]\n",
    "FN = confusion[1][0]\n",
    "\n",
    "print ('True Positives:', TP)\n",
    "print ('True Negatives:', TN)\n",
    "print ('False Positives:', FP)\n",
    "print ('False Negatives:', FN)"
   ]
  },
  {
   "cell_type": "code",
   "execution_count": 91,
   "metadata": {},
   "outputs": [],
   "source": [
    "param_grid = {\n",
    "    \"learning_rate\": [0.1,0.2],\n",
    "    'max_depth': [5,6],\n",
    "    'min_child_weight': [5,10],\n",
    "    'subsample': [ 0.7,0.8],\n",
    "    'n_estimators': [5, 30, 100, 250],\n",
    "}"
   ]
  },
  {
   "cell_type": "code",
   "execution_count": 92,
   "metadata": {},
   "outputs": [
    {
     "name": "stdout",
     "output_type": "stream",
     "text": [
      "Fitting 5 folds for each of 64 candidates, totalling 320 fits\n"
     ]
    },
    {
     "name": "stderr",
     "output_type": "stream",
     "text": [
      "[Parallel(n_jobs=-1)]: Using backend LokyBackend with 4 concurrent workers.\n",
      "[Parallel(n_jobs=-1)]: Done  42 tasks      | elapsed:   34.1s\n",
      "[Parallel(n_jobs=-1)]: Done 192 tasks      | elapsed:  3.3min\n",
      "[Parallel(n_jobs=-1)]: Done 320 out of 320 | elapsed:  5.7min finished\n"
     ]
    },
    {
     "name": "stdout",
     "output_type": "stream",
     "text": [
      "Grid Search found the following optimal parameters: \n",
      "learning_rate: 0.1\n",
      "max_depth: 5\n",
      "min_child_weight: 5\n",
      "n_estimators: 100\n",
      "subsample: 0.8\n"
     ]
    }
   ],
   "source": [
    "grid_clf = GridSearchCV(clf,param_grid,scoring='f1',cv=5, n_jobs=-1,verbose = 1)\n",
    "grid_clf.fit(X_train_scaled, y_train)\n",
    "\n",
    "best_parameters = grid_clf.best_params_\n",
    "\n",
    "print(\"Grid Search found the following optimal parameters: \")\n",
    "for param_name in sorted(best_parameters.keys()):\n",
    "    print(\"%s: %r\" % (param_name, best_parameters[param_name]))\n",
    "\n",
    "training_preds = grid_clf.predict(X_train_scaled)\n",
    "val_preds = grid_clf.predict(X_test_scaled)\n",
    "\n",
    "\n"
   ]
  },
  {
   "cell_type": "code",
   "execution_count": 93,
   "metadata": {},
   "outputs": [
    {
     "name": "stdout",
     "output_type": "stream",
     "text": [
      "0.6975069081586127\n"
     ]
    }
   ],
   "source": [
    "print(grid_clf.best_score_)"
   ]
  },
  {
   "cell_type": "code",
   "execution_count": 94,
   "metadata": {},
   "outputs": [
    {
     "name": "stdout",
     "output_type": "stream",
     "text": [
      "Precision Score: 0.735050597976081\n",
      "Recall Score: 0.7217705510388437\n",
      "Accuracy Score: 0.7435456110154905\n",
      "F1 Score: 0.7283500455788514\n",
      "Improved XGB\n",
      "-------------------\n",
      "True Positives: 799\n",
      "True Negatives: 929\n",
      "False Positives: 288\n",
      "False Negatives: 308\n"
     ]
    }
   ],
   "source": [
    "clf = xgb.XGBClassifier(max_depth=5,subsample= 0.8,min_child_weight = 5)\n",
    "clf.fit(X_train_scaled, y_train)\n",
    "training_preds = clf.predict(X_train_scaled)\n",
    "val_preds = clf.predict(X_test_scaled)\n",
    "print_metrics(y_test, val_preds)\n",
    "print ('Improved XGB')\n",
    "print('-------------------')\n",
    "confusion = metrics.confusion_matrix(y_test, val_preds)\n",
    "TP = confusion[1][1]\n",
    "TN = confusion[0][0]\n",
    "FP = confusion[0][1]\n",
    "FN = confusion[1][0]\n",
    "\n",
    "print ('True Positives:', TP)\n",
    "print ('True Negatives:', TN)\n",
    "print ('False Positives:', FP)\n",
    "print ('False Negatives:', FN)"
   ]
  },
  {
   "cell_type": "code",
   "execution_count": null,
   "metadata": {},
   "outputs": [],
   "source": []
  },
  {
   "cell_type": "code",
   "execution_count": null,
   "metadata": {},
   "outputs": [],
   "source": []
  },
  {
   "cell_type": "code",
   "execution_count": null,
   "metadata": {},
   "outputs": [],
   "source": []
  },
  {
   "cell_type": "code",
   "execution_count": null,
   "metadata": {},
   "outputs": [],
   "source": []
  },
  {
   "cell_type": "code",
   "execution_count": 95,
   "metadata": {},
   "outputs": [
    {
     "name": "stderr",
     "output_type": "stream",
     "text": [
      "[Parallel(n_jobs=-1)]: Using backend ThreadingBackend with 4 concurrent workers.\n",
      "[Parallel(n_jobs=-1)]: Done  10 out of  10 | elapsed:    0.1s finished\n",
      "[Parallel(n_jobs=4)]: Using backend ThreadingBackend with 4 concurrent workers.\n",
      "[Parallel(n_jobs=4)]: Done  10 out of  10 | elapsed:    0.0s finished\n",
      "[Parallel(n_jobs=4)]: Using backend ThreadingBackend with 4 concurrent workers.\n",
      "[Parallel(n_jobs=4)]: Done  10 out of  10 | elapsed:    0.0s finished\n"
     ]
    },
    {
     "name": "stdout",
     "output_type": "stream",
     "text": [
      "Precision Score: 0.7219873150105708\n",
      "Recall Score: 0.6169828364950316\n",
      "Accuracy Score: 0.7043889845094664\n",
      "F1 Score: 0.6653677545056015\n",
      "-------------------\n",
      "True Positives: 683\n",
      "True Negatives: 954\n",
      "False Positives: 263\n",
      "False Negatives: 424\n"
     ]
    }
   ],
   "source": [
    "forest = RandomForestClassifier(n_jobs=-1,verbose=1)\n",
    "forest.fit(X_train_scaled, y_train)\n",
    "training_preds = forest.predict(X_train_scaled)\n",
    "val_preds = forest.predict(X_test_scaled)\n",
    "print_metrics(y_test, val_preds)\n",
    "print('-------------------')\n",
    "confusion = metrics.confusion_matrix(y_test, val_preds)\n",
    "TP = confusion[1][1]\n",
    "TN = confusion[0][0]\n",
    "FP = confusion[0][1]\n",
    "FN = confusion[1][0]\n",
    "\n",
    "print ('True Positives:', TP)\n",
    "print ('True Negatives:', TN)\n",
    "print ('False Positives:', FP)\n",
    "print ('False Negatives:', FN)"
   ]
  },
  {
   "cell_type": "code",
   "execution_count": 96,
   "metadata": {},
   "outputs": [
    {
     "name": "stdout",
     "output_type": "stream",
     "text": [
      "Fitting 5 folds for each of 288 candidates, totalling 1440 fits\n"
     ]
    },
    {
     "name": "stderr",
     "output_type": "stream",
     "text": [
      "[Parallel(n_jobs=-1)]: Using backend LokyBackend with 4 concurrent workers.\n",
      "[Parallel(n_jobs=-1)]: Done  42 tasks      | elapsed:   50.4s\n",
      "[Parallel(n_jobs=-1)]: Done 192 tasks      | elapsed:  3.8min\n",
      "[Parallel(n_jobs=-1)]: Done 442 tasks      | elapsed:  9.8min\n",
      "[Parallel(n_jobs=-1)]: Done 792 tasks      | elapsed: 17.5min\n",
      "[Parallel(n_jobs=-1)]: Done 1242 tasks      | elapsed: 27.1min\n",
      "[Parallel(n_jobs=-1)]: Done 1440 out of 1440 | elapsed: 32.0min finished\n"
     ]
    },
    {
     "name": "stdout",
     "output_type": "stream",
     "text": [
      "0.6897955603702806\n",
      "{'bootstrap': True, 'max_depth': 90, 'max_features': 3, 'min_samples_leaf': 3, 'min_samples_split': 12, 'n_estimators': 100}\n",
      "RandomForestClassifier(bootstrap=True, class_weight=None, criterion='gini',\n",
      "            max_depth=90, max_features=3, max_leaf_nodes=None,\n",
      "            min_impurity_decrease=0.0, min_impurity_split=None,\n",
      "            min_samples_leaf=3, min_samples_split=12,\n",
      "            min_weight_fraction_leaf=0.0, n_estimators=100, n_jobs=None,\n",
      "            oob_score=False, random_state=None, verbose=0,\n",
      "            warm_start=False)\n"
     ]
    }
   ],
   "source": [
    "param_grid_forest= {\n",
    "    'bootstrap': [True],\n",
    "    'max_depth': [80, 90, 100, 110],\n",
    "    'max_features': [2, 3],\n",
    "    'min_samples_leaf': [3, 4, 5],\n",
    "    'min_samples_split': [8, 10, 12],\n",
    "    'n_estimators': [100, 200, 300, 1000]\n",
    "}\n",
    "\n",
    "gs_forest = GridSearchCV(estimator=RandomForestClassifier(),\n",
    "                    param_grid=param_grid_forest,\n",
    "                    scoring='f1',\n",
    "                    cv=5,n_jobs=-1,verbose = 1)\n",
    "gs_forest.fit(X_train_scaled, y_train)\n",
    "# examine the best model\n",
    "\n",
    "# Single best score achieved across all params (min_samples_split)\n",
    "print(gs_forest.best_score_)\n",
    "\n",
    "# Dictionary containing the parameters (min_samples_split) used to generate that score\n",
    "print(gs_forest.best_params_)\n",
    "\n",
    "# Actual model object fit with those best parameters\n",
    "# Shows default parameters that we did not specify\n",
    "print(gs_forest.best_estimator_)\n",
    "\n",
    "\n"
   ]
  },
  {
   "cell_type": "code",
   "execution_count": 97,
   "metadata": {},
   "outputs": [
    {
     "name": "stdout",
     "output_type": "stream",
     "text": [
      "Precision Score: 0.7368421052631579\n",
      "Recall Score: 0.6955736224028907\n",
      "Accuracy Score: 0.7366609294320138\n",
      "F1 Score: 0.7156133828996282\n",
      "-------------------\n",
      "True Positives: 770\n",
      "True Negatives: 942\n",
      "False Positives: 275\n",
      "False Negatives: 337\n"
     ]
    }
   ],
   "source": [
    "forest = RandomForestClassifier(bootstrap= True, max_depth= 90, max_features= 3, min_samples_leaf=3, min_samples_split= 12, n_estimators= 100,n_jobs=-1)\n",
    "forest.fit(X_train_scaled, y_train)\n",
    "training_preds = forest.predict(X_train_scaled)\n",
    "val_preds = forest.predict(X_test_scaled)\n",
    "print_metrics(y_test, val_preds)\n",
    "print('-------------------')\n",
    "confusion = metrics.confusion_matrix(y_test, val_preds)\n",
    "TP = confusion[1][1]\n",
    "TN = confusion[0][0]\n",
    "FP = confusion[0][1]\n",
    "FN = confusion[1][0]\n",
    "\n",
    "print ('True Positives:', TP)\n",
    "print ('True Negatives:', TN)\n",
    "print ('False Positives:', FP)\n",
    "print ('False Negatives:', FN)"
   ]
  },
  {
   "cell_type": "code",
   "execution_count": null,
   "metadata": {},
   "outputs": [],
   "source": []
  },
  {
   "cell_type": "code",
   "execution_count": null,
   "metadata": {},
   "outputs": [],
   "source": []
  }
 ],
 "metadata": {
  "kernelspec": {
   "display_name": "Python 3",
   "language": "python",
   "name": "python3"
  },
  "language_info": {
   "codemirror_mode": {
    "name": "ipython",
    "version": 3
   },
   "file_extension": ".py",
   "mimetype": "text/x-python",
   "name": "python",
   "nbconvert_exporter": "python",
   "pygments_lexer": "ipython3",
   "version": "3.7.3"
  }
 },
 "nbformat": 4,
 "nbformat_minor": 2
}
