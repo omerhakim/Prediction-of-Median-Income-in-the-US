{
 "cells": [
  {
   "cell_type": "code",
   "execution_count": 1,
   "metadata": {},
   "outputs": [],
   "source": [
    "import pandas as pd\n",
    "import numpy as np\n",
    "import matplotlib.pyplot as plt\n",
    "%matplotlib inline\n",
    "import seaborn as sns\n",
    "import warnings\n",
    "warnings.filterwarnings(\"ignore\")"
   ]
  },
  {
   "cell_type": "code",
   "execution_count": 2,
   "metadata": {},
   "outputs": [],
   "source": [
    "df = pd.read_csv('data_sets/mod3p1.csv', encoding='latin-1')"
   ]
  },
  {
   "cell_type": "code",
   "execution_count": 3,
   "metadata": {},
   "outputs": [
    {
     "name": "stdout",
     "output_type": "stream",
     "text": [
      "32526\n",
      "14803\n"
     ]
    }
   ],
   "source": [
    "print (len(df))\n",
    "print (df['Zip_Code'].nunique())"
   ]
  },
  {
   "cell_type": "code",
   "execution_count": 4,
   "metadata": {
    "scrolled": true
   },
   "outputs": [
    {
     "data": {
      "text/html": [
       "<div>\n",
       "<style scoped>\n",
       "    .dataframe tbody tr th:only-of-type {\n",
       "        vertical-align: middle;\n",
       "    }\n",
       "\n",
       "    .dataframe tbody tr th {\n",
       "        vertical-align: top;\n",
       "    }\n",
       "\n",
       "    .dataframe thead th {\n",
       "        text-align: right;\n",
       "    }\n",
       "</style>\n",
       "<table border=\"1\" class=\"dataframe\">\n",
       "  <thead>\n",
       "    <tr style=\"text-align: right;\">\n",
       "      <th></th>\n",
       "      <th>id</th>\n",
       "      <th>State_Code</th>\n",
       "      <th>State_Name</th>\n",
       "      <th>State_ab</th>\n",
       "      <th>County</th>\n",
       "      <th>City</th>\n",
       "      <th>Place</th>\n",
       "      <th>Type</th>\n",
       "      <th>Primary</th>\n",
       "      <th>Zip_Code</th>\n",
       "      <th>Area_Code</th>\n",
       "      <th>ALand</th>\n",
       "      <th>AWater</th>\n",
       "      <th>Lat</th>\n",
       "      <th>Lon</th>\n",
       "      <th>Mean</th>\n",
       "      <th>Median</th>\n",
       "      <th>Stdev</th>\n",
       "      <th>sum_w</th>\n",
       "    </tr>\n",
       "  </thead>\n",
       "  <tbody>\n",
       "    <tr>\n",
       "      <th>32481</th>\n",
       "      <td>72026</td>\n",
       "      <td>72</td>\n",
       "      <td>Puerto Rico</td>\n",
       "      <td>PR</td>\n",
       "      <td>Adjuntas Municipio</td>\n",
       "      <td>Adjuntas</td>\n",
       "      <td>Adjuntas</td>\n",
       "      <td>Track</td>\n",
       "      <td>Track</td>\n",
       "      <td>601</td>\n",
       "      <td>787</td>\n",
       "      <td>42529236</td>\n",
       "      <td>210360</td>\n",
       "      <td>18.155582</td>\n",
       "      <td>-66.701046</td>\n",
       "      <td>24000</td>\n",
       "      <td>15004</td>\n",
       "      <td>29483</td>\n",
       "      <td>1243.880991</td>\n",
       "    </tr>\n",
       "    <tr>\n",
       "      <th>32519</th>\n",
       "      <td>7202946</td>\n",
       "      <td>72</td>\n",
       "      <td>Puerto Rico</td>\n",
       "      <td>PR</td>\n",
       "      <td>Adjuntas Municipio</td>\n",
       "      <td>Adjuntas</td>\n",
       "      <td>Adjuntas</td>\n",
       "      <td>Track</td>\n",
       "      <td>Track</td>\n",
       "      <td>601</td>\n",
       "      <td>787</td>\n",
       "      <td>44833906</td>\n",
       "      <td>90659</td>\n",
       "      <td>18.204166</td>\n",
       "      <td>-66.737830</td>\n",
       "      <td>19807</td>\n",
       "      <td>9378</td>\n",
       "      <td>21654</td>\n",
       "      <td>524.345149</td>\n",
       "    </tr>\n",
       "    <tr>\n",
       "      <th>32520</th>\n",
       "      <td>7202956</td>\n",
       "      <td>72</td>\n",
       "      <td>Puerto Rico</td>\n",
       "      <td>PR</td>\n",
       "      <td>Adjuntas Municipio</td>\n",
       "      <td>Adjuntas</td>\n",
       "      <td>Adjuntas</td>\n",
       "      <td>Track</td>\n",
       "      <td>Track</td>\n",
       "      <td>601</td>\n",
       "      <td>787</td>\n",
       "      <td>42529236</td>\n",
       "      <td>210360</td>\n",
       "      <td>18.155582</td>\n",
       "      <td>-66.701046</td>\n",
       "      <td>23682</td>\n",
       "      <td>15051</td>\n",
       "      <td>30309</td>\n",
       "      <td>615.289902</td>\n",
       "    </tr>\n",
       "  </tbody>\n",
       "</table>\n",
       "</div>"
      ],
      "text/plain": [
       "            id  State_Code   State_Name State_ab              County  \\\n",
       "32481    72026          72  Puerto Rico       PR  Adjuntas Municipio   \n",
       "32519  7202946          72  Puerto Rico       PR  Adjuntas Municipio   \n",
       "32520  7202956          72  Puerto Rico       PR  Adjuntas Municipio   \n",
       "\n",
       "           City     Place   Type Primary  Zip_Code Area_Code     ALand  \\\n",
       "32481  Adjuntas  Adjuntas  Track   Track       601       787  42529236   \n",
       "32519  Adjuntas  Adjuntas  Track   Track       601       787  44833906   \n",
       "32520  Adjuntas  Adjuntas  Track   Track       601       787  42529236   \n",
       "\n",
       "       AWater        Lat        Lon   Mean  Median  Stdev        sum_w  \n",
       "32481  210360  18.155582 -66.701046  24000   15004  29483  1243.880991  \n",
       "32519   90659  18.204166 -66.737830  19807    9378  21654   524.345149  \n",
       "32520  210360  18.155582 -66.701046  23682   15051  30309   615.289902  "
      ]
     },
     "execution_count": 4,
     "metadata": {},
     "output_type": "execute_result"
    }
   ],
   "source": [
    "df.sort_values('Zip_Code',ascending=True).head(3)"
   ]
  },
  {
   "cell_type": "code",
   "execution_count": 5,
   "metadata": {},
   "outputs": [
    {
     "data": {
      "text/plain": [
       "14803"
      ]
     },
     "execution_count": 5,
     "metadata": {},
     "output_type": "execute_result"
    }
   ],
   "source": [
    "df = df.drop_duplicates(subset='Zip_Code', keep='first')\n",
    "len(df)"
   ]
  },
  {
   "cell_type": "code",
   "execution_count": 6,
   "metadata": {},
   "outputs": [],
   "source": [
    "df = df.drop(['id','State_ab','Primary','Area_Code','Lat','Lon','County','State_Code','Place','sum_w','City'],axis = 1)"
   ]
  },
  {
   "cell_type": "code",
   "execution_count": 7,
   "metadata": {},
   "outputs": [
    {
     "data": {
      "text/html": [
       "<div>\n",
       "<style scoped>\n",
       "    .dataframe tbody tr th:only-of-type {\n",
       "        vertical-align: middle;\n",
       "    }\n",
       "\n",
       "    .dataframe tbody tr th {\n",
       "        vertical-align: top;\n",
       "    }\n",
       "\n",
       "    .dataframe thead th {\n",
       "        text-align: right;\n",
       "    }\n",
       "</style>\n",
       "<table border=\"1\" class=\"dataframe\">\n",
       "  <thead>\n",
       "    <tr style=\"text-align: right;\">\n",
       "      <th></th>\n",
       "      <th>State_Name</th>\n",
       "      <th>Type</th>\n",
       "      <th>Zip_Code</th>\n",
       "      <th>ALand</th>\n",
       "      <th>AWater</th>\n",
       "      <th>Mean</th>\n",
       "      <th>Median</th>\n",
       "      <th>Stdev</th>\n",
       "    </tr>\n",
       "  </thead>\n",
       "  <tbody>\n",
       "    <tr>\n",
       "      <th>0</th>\n",
       "      <td>Alabama</td>\n",
       "      <td>City</td>\n",
       "      <td>36611</td>\n",
       "      <td>10894952</td>\n",
       "      <td>909156</td>\n",
       "      <td>38773</td>\n",
       "      <td>30506</td>\n",
       "      <td>33101</td>\n",
       "    </tr>\n",
       "    <tr>\n",
       "      <th>1</th>\n",
       "      <td>Alabama</td>\n",
       "      <td>City</td>\n",
       "      <td>36048</td>\n",
       "      <td>26070325</td>\n",
       "      <td>23254</td>\n",
       "      <td>37725</td>\n",
       "      <td>19528</td>\n",
       "      <td>43789</td>\n",
       "    </tr>\n",
       "    <tr>\n",
       "      <th>2</th>\n",
       "      <td>Alabama</td>\n",
       "      <td>City</td>\n",
       "      <td>35051</td>\n",
       "      <td>44835274</td>\n",
       "      <td>261034</td>\n",
       "      <td>54606</td>\n",
       "      <td>31930</td>\n",
       "      <td>57348</td>\n",
       "    </tr>\n",
       "  </tbody>\n",
       "</table>\n",
       "</div>"
      ],
      "text/plain": [
       "  State_Name  Type  Zip_Code     ALand  AWater   Mean  Median  Stdev\n",
       "0    Alabama  City     36611  10894952  909156  38773   30506  33101\n",
       "1    Alabama  City     36048  26070325   23254  37725   19528  43789\n",
       "2    Alabama  City     35051  44835274  261034  54606   31930  57348"
      ]
     },
     "execution_count": 7,
     "metadata": {},
     "output_type": "execute_result"
    }
   ],
   "source": [
    "df.head(3)"
   ]
  },
  {
   "cell_type": "code",
   "execution_count": 8,
   "metadata": {},
   "outputs": [
    {
     "name": "stdout",
     "output_type": "stream",
     "text": [
      "<class 'pandas.core.frame.DataFrame'>\n",
      "Int64Index: 14803 entries, 0 to 32483\n",
      "Data columns (total 8 columns):\n",
      "State_Name    14803 non-null object\n",
      "Type          14803 non-null object\n",
      "Zip_Code      14803 non-null int64\n",
      "ALand         14803 non-null int64\n",
      "AWater        14803 non-null int64\n",
      "Mean          14803 non-null int64\n",
      "Median        14803 non-null int64\n",
      "Stdev         14803 non-null int64\n",
      "dtypes: int64(6), object(2)\n",
      "memory usage: 1.0+ MB\n"
     ]
    }
   ],
   "source": [
    "df.info()"
   ]
  },
  {
   "cell_type": "code",
   "execution_count": 9,
   "metadata": {},
   "outputs": [],
   "source": [
    "df1 = pd.read_csv('data_sets/pop-by-zip-code.csv')"
   ]
  },
  {
   "cell_type": "code",
   "execution_count": 10,
   "metadata": {},
   "outputs": [
    {
     "data": {
      "text/html": [
       "<div>\n",
       "<style scoped>\n",
       "    .dataframe tbody tr th:only-of-type {\n",
       "        vertical-align: middle;\n",
       "    }\n",
       "\n",
       "    .dataframe tbody tr th {\n",
       "        vertical-align: top;\n",
       "    }\n",
       "\n",
       "    .dataframe thead th {\n",
       "        text-align: right;\n",
       "    }\n",
       "</style>\n",
       "<table border=\"1\" class=\"dataframe\">\n",
       "  <thead>\n",
       "    <tr style=\"text-align: right;\">\n",
       "      <th></th>\n",
       "      <th>zip_code</th>\n",
       "      <th>y-2016</th>\n",
       "    </tr>\n",
       "  </thead>\n",
       "  <tbody>\n",
       "    <tr>\n",
       "      <th>0</th>\n",
       "      <td>601</td>\n",
       "      <td>17800</td>\n",
       "    </tr>\n",
       "    <tr>\n",
       "      <th>1</th>\n",
       "      <td>602</td>\n",
       "      <td>39716</td>\n",
       "    </tr>\n",
       "  </tbody>\n",
       "</table>\n",
       "</div>"
      ],
      "text/plain": [
       "   zip_code  y-2016\n",
       "0       601   17800\n",
       "1       602   39716"
      ]
     },
     "execution_count": 10,
     "metadata": {},
     "output_type": "execute_result"
    }
   ],
   "source": [
    "df1.head(2)"
   ]
  },
  {
   "cell_type": "code",
   "execution_count": 11,
   "metadata": {},
   "outputs": [
    {
     "name": "stdout",
     "output_type": "stream",
     "text": [
      "33120\n",
      "33120\n"
     ]
    }
   ],
   "source": [
    "print (len(df1))\n",
    "print (df1['zip_code'].nunique())"
   ]
  },
  {
   "cell_type": "code",
   "execution_count": 12,
   "metadata": {},
   "outputs": [
    {
     "data": {
      "text/plain": [
       "322072436"
      ]
     },
     "execution_count": 12,
     "metadata": {},
     "output_type": "execute_result"
    }
   ],
   "source": [
    "df1['y-2016'].sum()"
   ]
  },
  {
   "cell_type": "code",
   "execution_count": 13,
   "metadata": {},
   "outputs": [
    {
     "data": {
      "text/html": [
       "<div>\n",
       "<style scoped>\n",
       "    .dataframe tbody tr th:only-of-type {\n",
       "        vertical-align: middle;\n",
       "    }\n",
       "\n",
       "    .dataframe tbody tr th {\n",
       "        vertical-align: top;\n",
       "    }\n",
       "\n",
       "    .dataframe thead th {\n",
       "        text-align: right;\n",
       "    }\n",
       "</style>\n",
       "<table border=\"1\" class=\"dataframe\">\n",
       "  <thead>\n",
       "    <tr style=\"text-align: right;\">\n",
       "      <th></th>\n",
       "      <th>Zip_Code</th>\n",
       "      <th>Population</th>\n",
       "    </tr>\n",
       "  </thead>\n",
       "  <tbody>\n",
       "    <tr>\n",
       "      <th>0</th>\n",
       "      <td>601</td>\n",
       "      <td>17800</td>\n",
       "    </tr>\n",
       "    <tr>\n",
       "      <th>1</th>\n",
       "      <td>602</td>\n",
       "      <td>39716</td>\n",
       "    </tr>\n",
       "  </tbody>\n",
       "</table>\n",
       "</div>"
      ],
      "text/plain": [
       "   Zip_Code  Population\n",
       "0       601       17800\n",
       "1       602       39716"
      ]
     },
     "execution_count": 13,
     "metadata": {},
     "output_type": "execute_result"
    }
   ],
   "source": [
    "df1 = df1.rename(index=str, columns={\"zip_code\": \"Zip_Code\",'y-2016':'Population'})\n",
    "df1.head(2)"
   ]
  },
  {
   "cell_type": "code",
   "execution_count": 14,
   "metadata": {},
   "outputs": [
    {
     "data": {
      "image/png": "[encoded data removed]",
      "text/plain": [
       "<Figure size 1440x720 with 1 Axes>"
      ]
     },
     "metadata": {
      "needs_background": "light"
     },
     "output_type": "display_data"
    }
   ],
   "source": [
    "plt.figure(figsize=(20, 10))\n",
    "df1.boxplot(column=['Population'])\n",
    "plt.show();"
   ]
  },
  {
   "cell_type": "code",
   "execution_count": 15,
   "metadata": {},
   "outputs": [
    {
     "data": {
      "text/plain": [
       "Zip_Code      14465\n",
       "Population    14465\n",
       "dtype: int64"
      ]
     },
     "execution_count": 15,
     "metadata": {},
     "output_type": "execute_result"
    }
   ],
   "source": [
    "df1[df1['Population']<2000].count()\n"
   ]
  },
  {
   "cell_type": "code",
   "execution_count": 16,
   "metadata": {},
   "outputs": [],
   "source": [
    "df1 = df1[df1['Population']>2000]"
   ]
  },
  {
   "cell_type": "code",
   "execution_count": 17,
   "metadata": {},
   "outputs": [
    {
     "name": "stdout",
     "output_type": "stream",
     "text": [
      "<class 'pandas.core.frame.DataFrame'>\n",
      "Index: 18652 entries, 0 to 33119\n",
      "Data columns (total 2 columns):\n",
      "Zip_Code      18652 non-null int64\n",
      "Population    18652 non-null int64\n",
      "dtypes: int64(2)\n",
      "memory usage: 437.2+ KB\n"
     ]
    }
   ],
   "source": [
    "df1.info()"
   ]
  },
  {
   "cell_type": "code",
   "execution_count": 18,
   "metadata": {},
   "outputs": [],
   "source": [
    "df3 = pd.merge(df, df1, on='Zip_Code', how='inner')"
   ]
  },
  {
   "cell_type": "code",
   "execution_count": 19,
   "metadata": {},
   "outputs": [
    {
     "data": {
      "text/plain": [
       "12815"
      ]
     },
     "execution_count": 19,
     "metadata": {},
     "output_type": "execute_result"
    }
   ],
   "source": [
    "len(df3)"
   ]
  },
  {
   "cell_type": "code",
   "execution_count": 20,
   "metadata": {},
   "outputs": [
    {
     "data": {
      "text/plain": [
       "State_Name    0\n",
       "Type          0\n",
       "Zip_Code      0\n",
       "ALand         0\n",
       "AWater        0\n",
       "Mean          0\n",
       "Median        0\n",
       "Stdev         0\n",
       "Population    0\n",
       "dtype: int64"
      ]
     },
     "execution_count": 20,
     "metadata": {},
     "output_type": "execute_result"
    }
   ],
   "source": [
    "df3.isnull().sum()"
   ]
  },
  {
   "cell_type": "code",
   "execution_count": 21,
   "metadata": {
    "scrolled": true
   },
   "outputs": [
    {
     "data": {
      "text/html": [
       "<div>\n",
       "<style scoped>\n",
       "    .dataframe tbody tr th:only-of-type {\n",
       "        vertical-align: middle;\n",
       "    }\n",
       "\n",
       "    .dataframe tbody tr th {\n",
       "        vertical-align: top;\n",
       "    }\n",
       "\n",
       "    .dataframe thead th {\n",
       "        text-align: right;\n",
       "    }\n",
       "</style>\n",
       "<table border=\"1\" class=\"dataframe\">\n",
       "  <thead>\n",
       "    <tr style=\"text-align: right;\">\n",
       "      <th></th>\n",
       "      <th>Number of beneficiaries with benefits in current-payment status and total monthly benefits, December 2017</th>\n",
       "      <th>Unnamed: 1</th>\n",
       "      <th>Unnamed: 2</th>\n",
       "      <th>Unnamed: 3</th>\n",
       "      <th>Unnamed: 4</th>\n",
       "      <th>Unnamed: 5</th>\n",
       "      <th>Unnamed: 6</th>\n",
       "      <th>Unnamed: 7</th>\n",
       "      <th>Unnamed: 8</th>\n",
       "      <th>Unnamed: 9</th>\n",
       "      <th>Unnamed: 10</th>\n",
       "      <th>Unnamed: 11</th>\n",
       "    </tr>\n",
       "  </thead>\n",
       "  <tbody>\n",
       "    <tr>\n",
       "      <th>0</th>\n",
       "      <td>State or area</td>\n",
       "      <td>ZIP Code</td>\n",
       "      <td>Number</td>\n",
       "      <td>NaN</td>\n",
       "      <td>NaN</td>\n",
       "      <td>NaN</td>\n",
       "      <td>NaN</td>\n",
       "      <td>NaN</td>\n",
       "      <td>Total monthly benefits\\n(thousands of dollars)</td>\n",
       "      <td>NaN</td>\n",
       "      <td>NaN</td>\n",
       "      <td>Number of OASDI beneficiaries aged 65 or older</td>\n",
       "    </tr>\n",
       "    <tr>\n",
       "      <th>1</th>\n",
       "      <td>NaN</td>\n",
       "      <td>NaN</td>\n",
       "      <td>Total</td>\n",
       "      <td>Retired workers</td>\n",
       "      <td>Disabled workers</td>\n",
       "      <td>Widow(er)s and parents</td>\n",
       "      <td>Spouses</td>\n",
       "      <td>Children</td>\n",
       "      <td>All beneficiaries</td>\n",
       "      <td>Retired workers</td>\n",
       "      <td>Widow(er)s and parents</td>\n",
       "      <td>NaN</td>\n",
       "    </tr>\n",
       "    <tr>\n",
       "      <th>2</th>\n",
       "      <td>Alabama</td>\n",
       "      <td>35004</td>\n",
       "      <td>2235</td>\n",
       "      <td>1410</td>\n",
       "      <td>385</td>\n",
       "      <td>160</td>\n",
       "      <td>70</td>\n",
       "      <td>210</td>\n",
       "      <td>2992</td>\n",
       "      <td>2070</td>\n",
       "      <td>218</td>\n",
       "      <td>1510</td>\n",
       "    </tr>\n",
       "  </tbody>\n",
       "</table>\n",
       "</div>"
      ],
      "text/plain": [
       "  Number of beneficiaries with benefits in current-payment status and total monthly benefits, December 2017  \\\n",
       "0                                      State or area                                                          \n",
       "1                                                NaN                                                          \n",
       "2                                            Alabama                                                          \n",
       "\n",
       "  Unnamed: 1 Unnamed: 2       Unnamed: 3        Unnamed: 4  \\\n",
       "0   ZIP Code     Number              NaN               NaN   \n",
       "1        NaN      Total  Retired workers  Disabled workers   \n",
       "2      35004       2235             1410               385   \n",
       "\n",
       "               Unnamed: 5 Unnamed: 6 Unnamed: 7  \\\n",
       "0                     NaN        NaN        NaN   \n",
       "1  Widow(er)s and parents    Spouses   Children   \n",
       "2                     160         70        210   \n",
       "\n",
       "                                       Unnamed: 8       Unnamed: 9  \\\n",
       "0  Total monthly benefits\\n(thousands of dollars)              NaN   \n",
       "1                               All beneficiaries  Retired workers   \n",
       "2                                            2992             2070   \n",
       "\n",
       "              Unnamed: 10                                     Unnamed: 11  \n",
       "0                     NaN  Number of OASDI beneficiaries aged 65 or older  \n",
       "1  Widow(er)s and parents                                             NaN  \n",
       "2                     218                                            1510  "
      ]
     },
     "execution_count": 21,
     "metadata": {},
     "output_type": "execute_result"
    }
   ],
   "source": [
    "df4=pd.read_excel('data_sets/tableAll.xlsx')\n",
    "df4.head(3)"
   ]
  },
  {
   "cell_type": "code",
   "execution_count": 22,
   "metadata": {},
   "outputs": [],
   "source": [
    "df4 = df4.drop('Unnamed: 2',axis = 1)"
   ]
  },
  {
   "cell_type": "code",
   "execution_count": 23,
   "metadata": {},
   "outputs": [],
   "source": [
    "df4.at[1, 'Number of beneficiaries with benefits in current-payment status and total monthly benefits, December 2017'] = 'State or area'\n",
    "df4.at[1, 'Unnamed: 1'] = 'Zip_Code'\n",
    "df4.at[1, 'Unnamed: 11'] ='Number of OASDI beneficiaries aged 65 or older'\n",
    "df4.at[1,'Unnamed: 3'] = 'Retired_workers_number'\n",
    "df4.at[1,'Unnamed: 5'] = 'Widow(er)s_and_parents_number'"
   ]
  },
  {
   "cell_type": "code",
   "execution_count": 24,
   "metadata": {},
   "outputs": [
    {
     "data": {
      "text/html": [
       "<div>\n",
       "<style scoped>\n",
       "    .dataframe tbody tr th:only-of-type {\n",
       "        vertical-align: middle;\n",
       "    }\n",
       "\n",
       "    .dataframe tbody tr th {\n",
       "        vertical-align: top;\n",
       "    }\n",
       "\n",
       "    .dataframe thead th {\n",
       "        text-align: right;\n",
       "    }\n",
       "</style>\n",
       "<table border=\"1\" class=\"dataframe\">\n",
       "  <thead>\n",
       "    <tr style=\"text-align: right;\">\n",
       "      <th></th>\n",
       "      <th>Number of beneficiaries with benefits in current-payment status and total monthly benefits, December 2017</th>\n",
       "      <th>Unnamed: 1</th>\n",
       "      <th>Unnamed: 3</th>\n",
       "      <th>Unnamed: 4</th>\n",
       "      <th>Unnamed: 5</th>\n",
       "      <th>Unnamed: 6</th>\n",
       "      <th>Unnamed: 7</th>\n",
       "      <th>Unnamed: 8</th>\n",
       "      <th>Unnamed: 9</th>\n",
       "      <th>Unnamed: 10</th>\n",
       "      <th>Unnamed: 11</th>\n",
       "    </tr>\n",
       "  </thead>\n",
       "  <tbody>\n",
       "    <tr>\n",
       "      <th>0</th>\n",
       "      <td>State or area</td>\n",
       "      <td>ZIP Code</td>\n",
       "      <td>NaN</td>\n",
       "      <td>NaN</td>\n",
       "      <td>NaN</td>\n",
       "      <td>NaN</td>\n",
       "      <td>NaN</td>\n",
       "      <td>Total monthly benefits\\n(thousands of dollars)</td>\n",
       "      <td>NaN</td>\n",
       "      <td>NaN</td>\n",
       "      <td>Number of OASDI beneficiaries aged 65 or older</td>\n",
       "    </tr>\n",
       "    <tr>\n",
       "      <th>1</th>\n",
       "      <td>State or area</td>\n",
       "      <td>Zip_Code</td>\n",
       "      <td>Retired_workers_number</td>\n",
       "      <td>Disabled workers</td>\n",
       "      <td>Widow(er)s_and_parents_number</td>\n",
       "      <td>Spouses</td>\n",
       "      <td>Children</td>\n",
       "      <td>All beneficiaries</td>\n",
       "      <td>Retired workers</td>\n",
       "      <td>Widow(er)s and parents</td>\n",
       "      <td>Number of OASDI beneficiaries aged 65 or older</td>\n",
       "    </tr>\n",
       "  </tbody>\n",
       "</table>\n",
       "</div>"
      ],
      "text/plain": [
       "  Number of beneficiaries with benefits in current-payment status and total monthly benefits, December 2017  \\\n",
       "0                                      State or area                                                          \n",
       "1                                      State or area                                                          \n",
       "\n",
       "  Unnamed: 1              Unnamed: 3        Unnamed: 4  \\\n",
       "0   ZIP Code                     NaN               NaN   \n",
       "1   Zip_Code  Retired_workers_number  Disabled workers   \n",
       "\n",
       "                      Unnamed: 5 Unnamed: 6 Unnamed: 7  \\\n",
       "0                            NaN        NaN        NaN   \n",
       "1  Widow(er)s_and_parents_number    Spouses   Children   \n",
       "\n",
       "                                       Unnamed: 8       Unnamed: 9  \\\n",
       "0  Total monthly benefits\\n(thousands of dollars)              NaN   \n",
       "1                               All beneficiaries  Retired workers   \n",
       "\n",
       "              Unnamed: 10                                     Unnamed: 11  \n",
       "0                     NaN  Number of OASDI beneficiaries aged 65 or older  \n",
       "1  Widow(er)s and parents  Number of OASDI beneficiaries aged 65 or older  "
      ]
     },
     "execution_count": 24,
     "metadata": {},
     "output_type": "execute_result"
    }
   ],
   "source": [
    "df4.head(2)"
   ]
  },
  {
   "cell_type": "code",
   "execution_count": 25,
   "metadata": {},
   "outputs": [
    {
     "data": {
      "text/html": [
       "<div>\n",
       "<style scoped>\n",
       "    .dataframe tbody tr th:only-of-type {\n",
       "        vertical-align: middle;\n",
       "    }\n",
       "\n",
       "    .dataframe tbody tr th {\n",
       "        vertical-align: top;\n",
       "    }\n",
       "\n",
       "    .dataframe thead th {\n",
       "        text-align: right;\n",
       "    }\n",
       "</style>\n",
       "<table border=\"1\" class=\"dataframe\">\n",
       "  <thead>\n",
       "    <tr style=\"text-align: right;\">\n",
       "      <th></th>\n",
       "      <th>State or area</th>\n",
       "      <th>Zip_Code</th>\n",
       "      <th>Retired_workers_number</th>\n",
       "      <th>Disabled workers</th>\n",
       "      <th>Widow(er)s_and_parents_number</th>\n",
       "      <th>Spouses</th>\n",
       "      <th>Children</th>\n",
       "      <th>All beneficiaries</th>\n",
       "      <th>Retired workers</th>\n",
       "      <th>Widow(er)s and parents</th>\n",
       "      <th>Number of OASDI beneficiaries aged 65 or older</th>\n",
       "    </tr>\n",
       "  </thead>\n",
       "  <tbody>\n",
       "    <tr>\n",
       "      <th>0</th>\n",
       "      <td>State or area</td>\n",
       "      <td>ZIP Code</td>\n",
       "      <td>NaN</td>\n",
       "      <td>NaN</td>\n",
       "      <td>NaN</td>\n",
       "      <td>NaN</td>\n",
       "      <td>NaN</td>\n",
       "      <td>Total monthly benefits\\n(thousands of dollars)</td>\n",
       "      <td>NaN</td>\n",
       "      <td>NaN</td>\n",
       "      <td>Number of OASDI beneficiaries aged 65 or older</td>\n",
       "    </tr>\n",
       "    <tr>\n",
       "      <th>1</th>\n",
       "      <td>State or area</td>\n",
       "      <td>Zip_Code</td>\n",
       "      <td>Retired_workers_number</td>\n",
       "      <td>Disabled workers</td>\n",
       "      <td>Widow(er)s_and_parents_number</td>\n",
       "      <td>Spouses</td>\n",
       "      <td>Children</td>\n",
       "      <td>All beneficiaries</td>\n",
       "      <td>Retired workers</td>\n",
       "      <td>Widow(er)s and parents</td>\n",
       "      <td>Number of OASDI beneficiaries aged 65 or older</td>\n",
       "    </tr>\n",
       "  </tbody>\n",
       "</table>\n",
       "</div>"
      ],
      "text/plain": [
       "   State or area  Zip_Code  Retired_workers_number  Disabled workers  \\\n",
       "0  State or area  ZIP Code                     NaN               NaN   \n",
       "1  State or area  Zip_Code  Retired_workers_number  Disabled workers   \n",
       "\n",
       "   Widow(er)s_and_parents_number  Spouses  Children  \\\n",
       "0                            NaN      NaN       NaN   \n",
       "1  Widow(er)s_and_parents_number  Spouses  Children   \n",
       "\n",
       "                                All beneficiaries  Retired workers  \\\n",
       "0  Total monthly benefits\\n(thousands of dollars)              NaN   \n",
       "1                               All beneficiaries  Retired workers   \n",
       "\n",
       "   Widow(er)s and parents  Number of OASDI beneficiaries aged 65 or older  \n",
       "0                     NaN  Number of OASDI beneficiaries aged 65 or older  \n",
       "1  Widow(er)s and parents  Number of OASDI beneficiaries aged 65 or older  "
      ]
     },
     "execution_count": 25,
     "metadata": {},
     "output_type": "execute_result"
    }
   ],
   "source": [
    "df4.columns = df4.iloc[1].values\n",
    "df4.head(2)"
   ]
  },
  {
   "cell_type": "code",
   "execution_count": 26,
   "metadata": {},
   "outputs": [
    {
     "data": {
      "text/html": [
       "<div>\n",
       "<style scoped>\n",
       "    .dataframe tbody tr th:only-of-type {\n",
       "        vertical-align: middle;\n",
       "    }\n",
       "\n",
       "    .dataframe tbody tr th {\n",
       "        vertical-align: top;\n",
       "    }\n",
       "\n",
       "    .dataframe thead th {\n",
       "        text-align: right;\n",
       "    }\n",
       "</style>\n",
       "<table border=\"1\" class=\"dataframe\">\n",
       "  <thead>\n",
       "    <tr style=\"text-align: right;\">\n",
       "      <th></th>\n",
       "      <th>State or area</th>\n",
       "      <th>Zip_Code</th>\n",
       "      <th>Retired_workers_number</th>\n",
       "      <th>Disabled workers</th>\n",
       "      <th>Widow(er)s_and_parents_number</th>\n",
       "      <th>Spouses</th>\n",
       "      <th>Children</th>\n",
       "      <th>All beneficiaries</th>\n",
       "      <th>Retired workers</th>\n",
       "      <th>Widow(er)s and parents</th>\n",
       "      <th>Number of OASDI beneficiaries aged 65 or older</th>\n",
       "    </tr>\n",
       "  </thead>\n",
       "  <tbody>\n",
       "    <tr>\n",
       "      <th>2</th>\n",
       "      <td>Alabama</td>\n",
       "      <td>35004</td>\n",
       "      <td>1410</td>\n",
       "      <td>385</td>\n",
       "      <td>160</td>\n",
       "      <td>70</td>\n",
       "      <td>210</td>\n",
       "      <td>2992</td>\n",
       "      <td>2070</td>\n",
       "      <td>218</td>\n",
       "      <td>1510</td>\n",
       "    </tr>\n",
       "    <tr>\n",
       "      <th>3</th>\n",
       "      <td>Alabama</td>\n",
       "      <td>35005</td>\n",
       "      <td>1085</td>\n",
       "      <td>425</td>\n",
       "      <td>155</td>\n",
       "      <td>80</td>\n",
       "      <td>205</td>\n",
       "      <td>2423</td>\n",
       "      <td>1520</td>\n",
       "      <td>193</td>\n",
       "      <td>1200</td>\n",
       "    </tr>\n",
       "  </tbody>\n",
       "</table>\n",
       "</div>"
      ],
      "text/plain": [
       "  State or area Zip_Code Retired_workers_number Disabled workers  \\\n",
       "2       Alabama    35004                   1410              385   \n",
       "3       Alabama    35005                   1085              425   \n",
       "\n",
       "  Widow(er)s_and_parents_number Spouses Children All beneficiaries  \\\n",
       "2                           160      70      210              2992   \n",
       "3                           155      80      205              2423   \n",
       "\n",
       "  Retired workers Widow(er)s and parents  \\\n",
       "2            2070                    218   \n",
       "3            1520                    193   \n",
       "\n",
       "  Number of OASDI beneficiaries aged 65 or older  \n",
       "2                                           1510  \n",
       "3                                           1200  "
      ]
     },
     "execution_count": 26,
     "metadata": {},
     "output_type": "execute_result"
    }
   ],
   "source": [
    "df4 = df4.drop([0, 1])\n",
    "df4.head(2)"
   ]
  },
  {
   "cell_type": "code",
   "execution_count": 27,
   "metadata": {},
   "outputs": [
    {
     "data": {
      "text/html": [
       "<div>\n",
       "<style scoped>\n",
       "    .dataframe tbody tr th:only-of-type {\n",
       "        vertical-align: middle;\n",
       "    }\n",
       "\n",
       "    .dataframe tbody tr th {\n",
       "        vertical-align: top;\n",
       "    }\n",
       "\n",
       "    .dataframe thead th {\n",
       "        text-align: right;\n",
       "    }\n",
       "</style>\n",
       "<table border=\"1\" class=\"dataframe\">\n",
       "  <thead>\n",
       "    <tr style=\"text-align: right;\">\n",
       "      <th></th>\n",
       "      <th>State or area</th>\n",
       "      <th>Zip_Code</th>\n",
       "      <th>Retired_workers_number</th>\n",
       "      <th>Disabled workers</th>\n",
       "      <th>Widow(er)s_and_parents_number</th>\n",
       "      <th>Spouses</th>\n",
       "      <th>Children</th>\n",
       "      <th>All beneficiaries</th>\n",
       "      <th>Retired workers</th>\n",
       "      <th>Widow(er)s and parents</th>\n",
       "      <th>Number of OASDI beneficiaries aged 65 or older</th>\n",
       "    </tr>\n",
       "  </thead>\n",
       "  <tbody>\n",
       "    <tr>\n",
       "      <th>2</th>\n",
       "      <td>Alabama</td>\n",
       "      <td>35004</td>\n",
       "      <td>1410</td>\n",
       "      <td>385</td>\n",
       "      <td>160</td>\n",
       "      <td>70</td>\n",
       "      <td>210</td>\n",
       "      <td>2992000</td>\n",
       "      <td>2070000</td>\n",
       "      <td>218000</td>\n",
       "      <td>1510</td>\n",
       "    </tr>\n",
       "    <tr>\n",
       "      <th>3</th>\n",
       "      <td>Alabama</td>\n",
       "      <td>35005</td>\n",
       "      <td>1085</td>\n",
       "      <td>425</td>\n",
       "      <td>155</td>\n",
       "      <td>80</td>\n",
       "      <td>205</td>\n",
       "      <td>2423000</td>\n",
       "      <td>1520000</td>\n",
       "      <td>193000</td>\n",
       "      <td>1200</td>\n",
       "    </tr>\n",
       "  </tbody>\n",
       "</table>\n",
       "</div>"
      ],
      "text/plain": [
       "  State or area Zip_Code Retired_workers_number Disabled workers  \\\n",
       "2       Alabama    35004                   1410              385   \n",
       "3       Alabama    35005                   1085              425   \n",
       "\n",
       "  Widow(er)s_and_parents_number Spouses Children All beneficiaries  \\\n",
       "2                           160      70      210           2992000   \n",
       "3                           155      80      205           2423000   \n",
       "\n",
       "  Retired workers Widow(er)s and parents  \\\n",
       "2         2070000                 218000   \n",
       "3         1520000                 193000   \n",
       "\n",
       "  Number of OASDI beneficiaries aged 65 or older  \n",
       "2                                           1510  \n",
       "3                                           1200  "
      ]
     },
     "execution_count": 27,
     "metadata": {},
     "output_type": "execute_result"
    }
   ],
   "source": [
    "df4['All beneficiaries'] = df4['All beneficiaries']*1000\n",
    "df4['Retired workers'] = df4['Retired workers']*1000\n",
    "df4['Widow(er)s and parents'] = df4['Widow(er)s and parents']*1000\n",
    "df4.head(2)"
   ]
  },
  {
   "cell_type": "code",
   "execution_count": 28,
   "metadata": {},
   "outputs": [
    {
     "name": "stdout",
     "output_type": "stream",
     "text": [
      "<class 'pandas.core.frame.DataFrame'>\n",
      "Int64Index: 37327 entries, 2 to 37328\n",
      "Data columns (total 11 columns):\n",
      "State or area                                     37324 non-null object\n",
      "Zip_Code                                          37320 non-null object\n",
      "Retired_workers_number                            37320 non-null object\n",
      "Disabled workers                                  37320 non-null object\n",
      "Widow(er)s_and_parents_number                     37320 non-null object\n",
      "Spouses                                           37320 non-null object\n",
      "Children                                          37320 non-null object\n",
      "All beneficiaries                                 37320 non-null object\n",
      "Retired workers                                   37320 non-null object\n",
      "Widow(er)s and parents                            37320 non-null object\n",
      "Number of OASDI beneficiaries aged 65 or older    37320 non-null object\n",
      "dtypes: object(11)\n",
      "memory usage: 3.4+ MB\n"
     ]
    }
   ],
   "source": [
    "df4.info()"
   ]
  },
  {
   "cell_type": "code",
   "execution_count": 29,
   "metadata": {},
   "outputs": [
    {
     "data": {
      "text/html": [
       "<div>\n",
       "<style scoped>\n",
       "    .dataframe tbody tr th:only-of-type {\n",
       "        vertical-align: middle;\n",
       "    }\n",
       "\n",
       "    .dataframe tbody tr th {\n",
       "        vertical-align: top;\n",
       "    }\n",
       "\n",
       "    .dataframe thead th {\n",
       "        text-align: right;\n",
       "    }\n",
       "</style>\n",
       "<table border=\"1\" class=\"dataframe\">\n",
       "  <thead>\n",
       "    <tr style=\"text-align: right;\">\n",
       "      <th></th>\n",
       "      <th>Zip_Code</th>\n",
       "      <th>Retired_workers_number</th>\n",
       "      <th>Disabled workers</th>\n",
       "      <th>Widow(er)s_and_parents_number</th>\n",
       "      <th>Spouses</th>\n",
       "      <th>Children</th>\n",
       "      <th>All beneficiaries</th>\n",
       "      <th>Retired workers</th>\n",
       "      <th>Widow(er)s and parents</th>\n",
       "      <th>Number of OASDI beneficiaries aged 65 or older</th>\n",
       "    </tr>\n",
       "  </thead>\n",
       "  <tbody>\n",
       "    <tr>\n",
       "      <th>2</th>\n",
       "      <td>35004</td>\n",
       "      <td>1410</td>\n",
       "      <td>385</td>\n",
       "      <td>160</td>\n",
       "      <td>70</td>\n",
       "      <td>210</td>\n",
       "      <td>2992000</td>\n",
       "      <td>2070000</td>\n",
       "      <td>218000</td>\n",
       "      <td>1510</td>\n",
       "    </tr>\n",
       "    <tr>\n",
       "      <th>3</th>\n",
       "      <td>35005</td>\n",
       "      <td>1085</td>\n",
       "      <td>425</td>\n",
       "      <td>155</td>\n",
       "      <td>80</td>\n",
       "      <td>205</td>\n",
       "      <td>2423000</td>\n",
       "      <td>1520000</td>\n",
       "      <td>193000</td>\n",
       "      <td>1200</td>\n",
       "    </tr>\n",
       "  </tbody>\n",
       "</table>\n",
       "</div>"
      ],
      "text/plain": [
       "  Zip_Code Retired_workers_number Disabled workers  \\\n",
       "2    35004                   1410              385   \n",
       "3    35005                   1085              425   \n",
       "\n",
       "  Widow(er)s_and_parents_number Spouses Children All beneficiaries  \\\n",
       "2                           160      70      210           2992000   \n",
       "3                           155      80      205           2423000   \n",
       "\n",
       "  Retired workers Widow(er)s and parents  \\\n",
       "2         2070000                 218000   \n",
       "3         1520000                 193000   \n",
       "\n",
       "  Number of OASDI beneficiaries aged 65 or older  \n",
       "2                                           1510  \n",
       "3                                           1200  "
      ]
     },
     "execution_count": 29,
     "metadata": {},
     "output_type": "execute_result"
    }
   ],
   "source": [
    "df4 = df4.drop('State or area',axis =1)\n",
    "df4.head(2)"
   ]
  },
  {
   "cell_type": "code",
   "execution_count": 30,
   "metadata": {},
   "outputs": [
    {
     "data": {
      "text/plain": [
       "Zip_Code                                          7\n",
       "Retired_workers_number                            7\n",
       "Disabled workers                                  7\n",
       "Widow(er)s_and_parents_number                     7\n",
       "Spouses                                           7\n",
       "Children                                          7\n",
       "All beneficiaries                                 7\n",
       "Retired workers                                   7\n",
       "Widow(er)s and parents                            7\n",
       "Number of OASDI beneficiaries aged 65 or older    7\n",
       "dtype: int64"
      ]
     },
     "execution_count": 30,
     "metadata": {},
     "output_type": "execute_result"
    }
   ],
   "source": [
    "df4.isnull().sum()"
   ]
  },
  {
   "cell_type": "code",
   "execution_count": 31,
   "metadata": {},
   "outputs": [
    {
     "data": {
      "text/plain": [
       "Zip_Code                                          0\n",
       "Retired_workers_number                            0\n",
       "Disabled workers                                  0\n",
       "Widow(er)s_and_parents_number                     0\n",
       "Spouses                                           0\n",
       "Children                                          0\n",
       "All beneficiaries                                 0\n",
       "Retired workers                                   0\n",
       "Widow(er)s and parents                            0\n",
       "Number of OASDI beneficiaries aged 65 or older    0\n",
       "dtype: int64"
      ]
     },
     "execution_count": 31,
     "metadata": {},
     "output_type": "execute_result"
    }
   ],
   "source": [
    "df4.dropna(axis='rows',inplace=True)\n",
    "df4.isnull().sum()"
   ]
  },
  {
   "cell_type": "code",
   "execution_count": 32,
   "metadata": {},
   "outputs": [],
   "source": [
    "for col in df4.columns:\n",
    "    df4[col] = df4[col].astype(int)\n",
    "    "
   ]
  },
  {
   "cell_type": "code",
   "execution_count": 33,
   "metadata": {},
   "outputs": [
    {
     "name": "stdout",
     "output_type": "stream",
     "text": [
      "<class 'pandas.core.frame.DataFrame'>\n",
      "Int64Index: 37320 entries, 2 to 37321\n",
      "Data columns (total 10 columns):\n",
      "Zip_Code                                          37320 non-null int32\n",
      "Retired_workers_number                            37320 non-null int32\n",
      "Disabled workers                                  37320 non-null int32\n",
      "Widow(er)s_and_parents_number                     37320 non-null int32\n",
      "Spouses                                           37320 non-null int32\n",
      "Children                                          37320 non-null int32\n",
      "All beneficiaries                                 37320 non-null int32\n",
      "Retired workers                                   37320 non-null int32\n",
      "Widow(er)s and parents                            37320 non-null int32\n",
      "Number of OASDI beneficiaries aged 65 or older    37320 non-null int32\n",
      "dtypes: int32(10)\n",
      "memory usage: 1.7 MB\n"
     ]
    }
   ],
   "source": [
    "df4.info()"
   ]
  },
  {
   "cell_type": "code",
   "execution_count": 34,
   "metadata": {},
   "outputs": [
    {
     "data": {
      "image/png": "[encoded data removed]",
      "text/plain": [
       "<Figure size 1440x720 with 1 Axes>"
      ]
     },
     "metadata": {
      "needs_background": "light"
     },
     "output_type": "display_data"
    }
   ],
   "source": [
    "# Create a Box Whisker Plot of each column\n",
    "plt.figure(figsize=(20, 10))\n",
    "plt.boxplot([df4[col] for col in df4.columns])\n",
    "plt.title(\"Box Whisker Plot of Each Column in Dataset\")\n",
    "plt.xticks(range(len(df4.columns.values)+1), ['']+list(df4.columns.values), rotation=60)\n",
    "plt.show()"
   ]
  },
  {
   "cell_type": "code",
   "execution_count": 35,
   "metadata": {},
   "outputs": [
    {
     "data": {
      "text/plain": [
       "30351"
      ]
     },
     "execution_count": 35,
     "metadata": {},
     "output_type": "execute_result"
    }
   ],
   "source": [
    "for col in df4.columns:\n",
    "    df4 = df4[df4[str(col)] > 0]\n",
    "    \n",
    "len(df4)"
   ]
  },
  {
   "cell_type": "code",
   "execution_count": 36,
   "metadata": {},
   "outputs": [
    {
     "data": {
      "text/html": [
       "<div>\n",
       "<style scoped>\n",
       "    .dataframe tbody tr th:only-of-type {\n",
       "        vertical-align: middle;\n",
       "    }\n",
       "\n",
       "    .dataframe tbody tr th {\n",
       "        vertical-align: top;\n",
       "    }\n",
       "\n",
       "    .dataframe thead th {\n",
       "        text-align: right;\n",
       "    }\n",
       "</style>\n",
       "<table border=\"1\" class=\"dataframe\">\n",
       "  <thead>\n",
       "    <tr style=\"text-align: right;\">\n",
       "      <th></th>\n",
       "      <th>State_Name</th>\n",
       "      <th>Type</th>\n",
       "      <th>Zip_Code</th>\n",
       "      <th>ALand</th>\n",
       "      <th>AWater</th>\n",
       "      <th>Mean</th>\n",
       "      <th>Median</th>\n",
       "      <th>Stdev</th>\n",
       "      <th>Population</th>\n",
       "      <th>Retired_workers_number</th>\n",
       "      <th>Disabled workers</th>\n",
       "      <th>Widow(er)s_and_parents_number</th>\n",
       "      <th>Spouses</th>\n",
       "      <th>Children</th>\n",
       "      <th>All beneficiaries</th>\n",
       "      <th>Retired workers</th>\n",
       "      <th>Widow(er)s and parents</th>\n",
       "      <th>Number of OASDI beneficiaries aged 65 or older</th>\n",
       "    </tr>\n",
       "  </thead>\n",
       "  <tbody>\n",
       "    <tr>\n",
       "      <th>0</th>\n",
       "      <td>Alabama</td>\n",
       "      <td>City</td>\n",
       "      <td>36611</td>\n",
       "      <td>10894952</td>\n",
       "      <td>909156</td>\n",
       "      <td>38773</td>\n",
       "      <td>30506</td>\n",
       "      <td>33101</td>\n",
       "      <td>5955</td>\n",
       "      <td>735</td>\n",
       "      <td>325</td>\n",
       "      <td>130</td>\n",
       "      <td>40</td>\n",
       "      <td>125</td>\n",
       "      <td>1585000</td>\n",
       "      <td>977000</td>\n",
       "      <td>161000</td>\n",
       "      <td>835</td>\n",
       "    </tr>\n",
       "    <tr>\n",
       "      <th>1</th>\n",
       "      <td>Alabama</td>\n",
       "      <td>City</td>\n",
       "      <td>35051</td>\n",
       "      <td>44835274</td>\n",
       "      <td>261034</td>\n",
       "      <td>54606</td>\n",
       "      <td>31930</td>\n",
       "      <td>57348</td>\n",
       "      <td>8753</td>\n",
       "      <td>1220</td>\n",
       "      <td>390</td>\n",
       "      <td>155</td>\n",
       "      <td>60</td>\n",
       "      <td>165</td>\n",
       "      <td>2583000</td>\n",
       "      <td>1755000</td>\n",
       "      <td>201000</td>\n",
       "      <td>1310</td>\n",
       "    </tr>\n",
       "    <tr>\n",
       "      <th>2</th>\n",
       "      <td>Alabama</td>\n",
       "      <td>City</td>\n",
       "      <td>36572</td>\n",
       "      <td>36878729</td>\n",
       "      <td>2374530</td>\n",
       "      <td>63919</td>\n",
       "      <td>52814</td>\n",
       "      <td>47707</td>\n",
       "      <td>6276</td>\n",
       "      <td>1065</td>\n",
       "      <td>250</td>\n",
       "      <td>135</td>\n",
       "      <td>75</td>\n",
       "      <td>155</td>\n",
       "      <td>2298000</td>\n",
       "      <td>1602000</td>\n",
       "      <td>189000</td>\n",
       "      <td>1180</td>\n",
       "    </tr>\n",
       "  </tbody>\n",
       "</table>\n",
       "</div>"
      ],
      "text/plain": [
       "  State_Name  Type  Zip_Code     ALand   AWater   Mean  Median  Stdev  \\\n",
       "0    Alabama  City     36611  10894952   909156  38773   30506  33101   \n",
       "1    Alabama  City     35051  44835274   261034  54606   31930  57348   \n",
       "2    Alabama  City     36572  36878729  2374530  63919   52814  47707   \n",
       "\n",
       "   Population  Retired_workers_number  Disabled workers  \\\n",
       "0        5955                     735               325   \n",
       "1        8753                    1220               390   \n",
       "2        6276                    1065               250   \n",
       "\n",
       "   Widow(er)s_and_parents_number  Spouses  Children  All beneficiaries  \\\n",
       "0                            130       40       125            1585000   \n",
       "1                            155       60       165            2583000   \n",
       "2                            135       75       155            2298000   \n",
       "\n",
       "   Retired workers  Widow(er)s and parents  \\\n",
       "0           977000                  161000   \n",
       "1          1755000                  201000   \n",
       "2          1602000                  189000   \n",
       "\n",
       "   Number of OASDI beneficiaries aged 65 or older  \n",
       "0                                             835  \n",
       "1                                            1310  \n",
       "2                                            1180  "
      ]
     },
     "execution_count": 36,
     "metadata": {},
     "output_type": "execute_result"
    }
   ],
   "source": [
    "df5 = pd.merge(df3, df4, on='Zip_Code', how='inner')\n",
    "df5.head(3)"
   ]
  },
  {
   "cell_type": "code",
   "execution_count": 37,
   "metadata": {},
   "outputs": [
    {
     "name": "stdout",
     "output_type": "stream",
     "text": [
      "<class 'pandas.core.frame.DataFrame'>\n",
      "Int64Index: 12796 entries, 0 to 12795\n",
      "Data columns (total 18 columns):\n",
      "State_Name                                        12796 non-null object\n",
      "Type                                              12796 non-null object\n",
      "Zip_Code                                          12796 non-null int64\n",
      "ALand                                             12796 non-null int64\n",
      "AWater                                            12796 non-null int64\n",
      "Mean                                              12796 non-null int64\n",
      "Median                                            12796 non-null int64\n",
      "Stdev                                             12796 non-null int64\n",
      "Population                                        12796 non-null int64\n",
      "Retired_workers_number                            12796 non-null int32\n",
      "Disabled workers                                  12796 non-null int32\n",
      "Widow(er)s_and_parents_number                     12796 non-null int32\n",
      "Spouses                                           12796 non-null int32\n",
      "Children                                          12796 non-null int32\n",
      "All beneficiaries                                 12796 non-null int32\n",
      "Retired workers                                   12796 non-null int32\n",
      "Widow(er)s and parents                            12796 non-null int32\n",
      "Number of OASDI beneficiaries aged 65 or older    12796 non-null int32\n",
      "dtypes: int32(9), int64(7), object(2)\n",
      "memory usage: 1.4+ MB\n"
     ]
    }
   ],
   "source": [
    "df5.info()"
   ]
  },
  {
   "cell_type": "code",
   "execution_count": 38,
   "metadata": {},
   "outputs": [
    {
     "data": {
      "image/png": "[encoded data removed]",
      "text/plain": [
       "<Figure size 1440x720 with 1 Axes>"
      ]
     },
     "metadata": {
      "needs_background": "light"
     },
     "output_type": "display_data"
    }
   ],
   "source": [
    "plt.figure(figsize=(20, 10))\n",
    "boxplot = df5.boxplot(column=['Mean', 'Median'])\n",
    "plt.show();"
   ]
  },
  {
   "cell_type": "code",
   "execution_count": null,
   "metadata": {},
   "outputs": [],
   "source": [
    "len(df5)"
   ]
  },
  {
   "cell_type": "code",
   "execution_count": 39,
   "metadata": {},
   "outputs": [],
   "source": [
    "df5 = df5[df5.Median != 300000]\n",
    "df5 = df5[df5.Median>1000]"
   ]
  },
  {
   "cell_type": "code",
   "execution_count": 40,
   "metadata": {},
   "outputs": [
    {
     "data": {
      "text/plain": [
       "10956"
      ]
     },
     "execution_count": 40,
     "metadata": {},
     "output_type": "execute_result"
    }
   ],
   "source": [
    "len(df5)"
   ]
  },
  {
   "cell_type": "code",
   "execution_count": 41,
   "metadata": {},
   "outputs": [
    {
     "data": {
      "image/png": "[encoded data removed]",
      "text/plain": [
       "<Figure size 1440x720 with 1 Axes>"
      ]
     },
     "metadata": {
      "needs_background": "light"
     },
     "output_type": "display_data"
    }
   ],
   "source": [
    "plt.figure(figsize=(20, 10))\n",
    "boxplot = df5.boxplot(column=['Mean', 'Median'])\n",
    "plt.show();"
   ]
  },
  {
   "cell_type": "code",
   "execution_count": 42,
   "metadata": {
    "scrolled": true
   },
   "outputs": [
    {
     "data": {
      "text/html": [
       "<div>\n",
       "<style scoped>\n",
       "    .dataframe tbody tr th:only-of-type {\n",
       "        vertical-align: middle;\n",
       "    }\n",
       "\n",
       "    .dataframe tbody tr th {\n",
       "        vertical-align: top;\n",
       "    }\n",
       "\n",
       "    .dataframe thead th {\n",
       "        text-align: right;\n",
       "    }\n",
       "</style>\n",
       "<table border=\"1\" class=\"dataframe\">\n",
       "  <thead>\n",
       "    <tr style=\"text-align: right;\">\n",
       "      <th></th>\n",
       "      <th>State_Name</th>\n",
       "      <th>Type</th>\n",
       "      <th>Zip_Code</th>\n",
       "      <th>ALand</th>\n",
       "      <th>AWater</th>\n",
       "      <th>Mean</th>\n",
       "      <th>Median</th>\n",
       "      <th>Stdev</th>\n",
       "      <th>Population</th>\n",
       "      <th>Retired_workers_number</th>\n",
       "      <th>Disabled workers</th>\n",
       "      <th>Widow(er)s_and_parents_number</th>\n",
       "      <th>Spouses</th>\n",
       "      <th>Children</th>\n",
       "      <th>All beneficiaries</th>\n",
       "      <th>Retired workers</th>\n",
       "      <th>Widow(er)s and parents</th>\n",
       "      <th>Number of OASDI beneficiaries aged 65 or older</th>\n",
       "    </tr>\n",
       "  </thead>\n",
       "  <tbody>\n",
       "    <tr>\n",
       "      <th>0</th>\n",
       "      <td>Alabama</td>\n",
       "      <td>City</td>\n",
       "      <td>36611</td>\n",
       "      <td>10894952</td>\n",
       "      <td>909156</td>\n",
       "      <td>38773</td>\n",
       "      <td>30506</td>\n",
       "      <td>33101</td>\n",
       "      <td>5955</td>\n",
       "      <td>735</td>\n",
       "      <td>325</td>\n",
       "      <td>130</td>\n",
       "      <td>40</td>\n",
       "      <td>125</td>\n",
       "      <td>1585000</td>\n",
       "      <td>977000</td>\n",
       "      <td>161000</td>\n",
       "      <td>835</td>\n",
       "    </tr>\n",
       "    <tr>\n",
       "      <th>1</th>\n",
       "      <td>Alabama</td>\n",
       "      <td>City</td>\n",
       "      <td>35051</td>\n",
       "      <td>44835274</td>\n",
       "      <td>261034</td>\n",
       "      <td>54606</td>\n",
       "      <td>31930</td>\n",
       "      <td>57348</td>\n",
       "      <td>8753</td>\n",
       "      <td>1220</td>\n",
       "      <td>390</td>\n",
       "      <td>155</td>\n",
       "      <td>60</td>\n",
       "      <td>165</td>\n",
       "      <td>2583000</td>\n",
       "      <td>1755000</td>\n",
       "      <td>201000</td>\n",
       "      <td>1310</td>\n",
       "    </tr>\n",
       "    <tr>\n",
       "      <th>2</th>\n",
       "      <td>Alabama</td>\n",
       "      <td>City</td>\n",
       "      <td>36572</td>\n",
       "      <td>36878729</td>\n",
       "      <td>2374530</td>\n",
       "      <td>63919</td>\n",
       "      <td>52814</td>\n",
       "      <td>47707</td>\n",
       "      <td>6276</td>\n",
       "      <td>1065</td>\n",
       "      <td>250</td>\n",
       "      <td>135</td>\n",
       "      <td>75</td>\n",
       "      <td>155</td>\n",
       "      <td>2298000</td>\n",
       "      <td>1602000</td>\n",
       "      <td>189000</td>\n",
       "      <td>1180</td>\n",
       "    </tr>\n",
       "  </tbody>\n",
       "</table>\n",
       "</div>"
      ],
      "text/plain": [
       "  State_Name  Type  Zip_Code     ALand   AWater   Mean  Median  Stdev  \\\n",
       "0    Alabama  City     36611  10894952   909156  38773   30506  33101   \n",
       "1    Alabama  City     35051  44835274   261034  54606   31930  57348   \n",
       "2    Alabama  City     36572  36878729  2374530  63919   52814  47707   \n",
       "\n",
       "   Population  Retired_workers_number  Disabled workers  \\\n",
       "0        5955                     735               325   \n",
       "1        8753                    1220               390   \n",
       "2        6276                    1065               250   \n",
       "\n",
       "   Widow(er)s_and_parents_number  Spouses  Children  All beneficiaries  \\\n",
       "0                            130       40       125            1585000   \n",
       "1                            155       60       165            2583000   \n",
       "2                            135       75       155            2298000   \n",
       "\n",
       "   Retired workers  Widow(er)s and parents  \\\n",
       "0           977000                  161000   \n",
       "1          1755000                  201000   \n",
       "2          1602000                  189000   \n",
       "\n",
       "   Number of OASDI beneficiaries aged 65 or older  \n",
       "0                                             835  \n",
       "1                                            1310  \n",
       "2                                            1180  "
      ]
     },
     "execution_count": 42,
     "metadata": {},
     "output_type": "execute_result"
    }
   ],
   "source": [
    "df5.head(3)"
   ]
  },
  {
   "cell_type": "code",
   "execution_count": 43,
   "metadata": {},
   "outputs": [
    {
     "data": {
      "image/png": "[encoded data removed]",
      "text/plain": [
       "<Figure size 432x288 with 1 Axes>"
      ]
     },
     "metadata": {
      "needs_background": "light"
     },
     "output_type": "display_data"
    }
   ],
   "source": [
    "\n",
    "sns.distplot(df5['Median']);\n",
    "sns.distplot(df5['Mean']);"
   ]
  },
  {
   "cell_type": "code",
   "execution_count": 44,
   "metadata": {},
   "outputs": [
    {
     "data": {
      "text/html": [
       "<div>\n",
       "<style scoped>\n",
       "    .dataframe tbody tr th:only-of-type {\n",
       "        vertical-align: middle;\n",
       "    }\n",
       "\n",
       "    .dataframe tbody tr th {\n",
       "        vertical-align: top;\n",
       "    }\n",
       "\n",
       "    .dataframe thead th {\n",
       "        text-align: right;\n",
       "    }\n",
       "</style>\n",
       "<table border=\"1\" class=\"dataframe\">\n",
       "  <thead>\n",
       "    <tr style=\"text-align: right;\">\n",
       "      <th></th>\n",
       "      <th>State_Name</th>\n",
       "      <th>Type</th>\n",
       "      <th>Zip_Code</th>\n",
       "      <th>ALand</th>\n",
       "      <th>AWater</th>\n",
       "      <th>Mean</th>\n",
       "      <th>Median</th>\n",
       "      <th>Stdev</th>\n",
       "      <th>Population</th>\n",
       "      <th>Retired_workers_number</th>\n",
       "      <th>Disabled workers</th>\n",
       "      <th>Widow(er)s_and_parents_number</th>\n",
       "      <th>Spouses</th>\n",
       "      <th>Children</th>\n",
       "      <th>All beneficiaries</th>\n",
       "      <th>Retired workers</th>\n",
       "      <th>Widow(er)s and parents</th>\n",
       "      <th>Number of OASDI beneficiaries aged 65 or older</th>\n",
       "    </tr>\n",
       "  </thead>\n",
       "  <tbody>\n",
       "    <tr>\n",
       "      <th>12781</th>\n",
       "      <td>Puerto Rico</td>\n",
       "      <td>Track</td>\n",
       "      <td>921</td>\n",
       "      <td>228567</td>\n",
       "      <td>0</td>\n",
       "      <td>6804</td>\n",
       "      <td>5252</td>\n",
       "      <td>5600</td>\n",
       "      <td>36104</td>\n",
       "      <td>3990</td>\n",
       "      <td>815</td>\n",
       "      <td>715</td>\n",
       "      <td>445</td>\n",
       "      <td>440</td>\n",
       "      <td>5864000</td>\n",
       "      <td>3902000</td>\n",
       "      <td>658000</td>\n",
       "      <td>4685</td>\n",
       "    </tr>\n",
       "    <tr>\n",
       "      <th>8038</th>\n",
       "      <td>New York</td>\n",
       "      <td>Track</td>\n",
       "      <td>14206</td>\n",
       "      <td>1669444</td>\n",
       "      <td>0</td>\n",
       "      <td>19808</td>\n",
       "      <td>6524</td>\n",
       "      <td>29889</td>\n",
       "      <td>20352</td>\n",
       "      <td>2515</td>\n",
       "      <td>1135</td>\n",
       "      <td>340</td>\n",
       "      <td>110</td>\n",
       "      <td>430</td>\n",
       "      <td>5240000</td>\n",
       "      <td>3286000</td>\n",
       "      <td>419000</td>\n",
       "      <td>2715</td>\n",
       "    </tr>\n",
       "    <tr>\n",
       "      <th>1680</th>\n",
       "      <td>Colorado</td>\n",
       "      <td>Town</td>\n",
       "      <td>81125</td>\n",
       "      <td>2139228</td>\n",
       "      <td>0</td>\n",
       "      <td>10946</td>\n",
       "      <td>6808</td>\n",
       "      <td>8591</td>\n",
       "      <td>3367</td>\n",
       "      <td>335</td>\n",
       "      <td>110</td>\n",
       "      <td>35</td>\n",
       "      <td>20</td>\n",
       "      <td>35</td>\n",
       "      <td>545000</td>\n",
       "      <td>376000</td>\n",
       "      <td>33000</td>\n",
       "      <td>355</td>\n",
       "    </tr>\n",
       "    <tr>\n",
       "      <th>12041</th>\n",
       "      <td>Washington</td>\n",
       "      <td>CDP</td>\n",
       "      <td>98841</td>\n",
       "      <td>9775086</td>\n",
       "      <td>0</td>\n",
       "      <td>10964</td>\n",
       "      <td>6819</td>\n",
       "      <td>8597</td>\n",
       "      <td>8538</td>\n",
       "      <td>1565</td>\n",
       "      <td>395</td>\n",
       "      <td>160</td>\n",
       "      <td>60</td>\n",
       "      <td>145</td>\n",
       "      <td>2831000</td>\n",
       "      <td>2083000</td>\n",
       "      <td>197000</td>\n",
       "      <td>1685</td>\n",
       "    </tr>\n",
       "    <tr>\n",
       "      <th>3378</th>\n",
       "      <td>Illinois</td>\n",
       "      <td>Track</td>\n",
       "      <td>62204</td>\n",
       "      <td>2964356</td>\n",
       "      <td>0</td>\n",
       "      <td>15067</td>\n",
       "      <td>7280</td>\n",
       "      <td>21849</td>\n",
       "      <td>8295</td>\n",
       "      <td>605</td>\n",
       "      <td>345</td>\n",
       "      <td>95</td>\n",
       "      <td>25</td>\n",
       "      <td>170</td>\n",
       "      <td>1206000</td>\n",
       "      <td>689000</td>\n",
       "      <td>96000</td>\n",
       "      <td>670</td>\n",
       "    </tr>\n",
       "  </tbody>\n",
       "</table>\n",
       "</div>"
      ],
      "text/plain": [
       "        State_Name   Type  Zip_Code    ALand  AWater   Mean  Median  Stdev  \\\n",
       "12781  Puerto Rico  Track       921   228567       0   6804    5252   5600   \n",
       "8038      New York  Track     14206  1669444       0  19808    6524  29889   \n",
       "1680      Colorado   Town     81125  2139228       0  10946    6808   8591   \n",
       "12041   Washington    CDP     98841  9775086       0  10964    6819   8597   \n",
       "3378      Illinois  Track     62204  2964356       0  15067    7280  21849   \n",
       "\n",
       "       Population  Retired_workers_number  Disabled workers  \\\n",
       "12781       36104                    3990               815   \n",
       "8038        20352                    2515              1135   \n",
       "1680         3367                     335               110   \n",
       "12041        8538                    1565               395   \n",
       "3378         8295                     605               345   \n",
       "\n",
       "       Widow(er)s_and_parents_number  Spouses  Children  All beneficiaries  \\\n",
       "12781                            715      445       440            5864000   \n",
       "8038                             340      110       430            5240000   \n",
       "1680                              35       20        35             545000   \n",
       "12041                            160       60       145            2831000   \n",
       "3378                              95       25       170            1206000   \n",
       "\n",
       "       Retired workers  Widow(er)s and parents  \\\n",
       "12781          3902000                  658000   \n",
       "8038           3286000                  419000   \n",
       "1680            376000                   33000   \n",
       "12041          2083000                  197000   \n",
       "3378            689000                   96000   \n",
       "\n",
       "       Number of OASDI beneficiaries aged 65 or older  \n",
       "12781                                            4685  \n",
       "8038                                             2715  \n",
       "1680                                              355  \n",
       "12041                                            1685  \n",
       "3378                                              670  "
      ]
     },
     "execution_count": 44,
     "metadata": {},
     "output_type": "execute_result"
    }
   ],
   "source": [
    "df5.sort_values('Median').head()"
   ]
  },
  {
   "cell_type": "code",
   "execution_count": 46,
   "metadata": {},
   "outputs": [
    {
     "data": {
      "text/plain": [
       "Track           9134\n",
       "City             705\n",
       "CDP              508\n",
       "Town             265\n",
       "Village          227\n",
       "Borough           92\n",
       "Community         14\n",
       "Urban              8\n",
       "County             2\n",
       "Municipality       1\n",
       "Name: Type, dtype: int64"
      ]
     },
     "execution_count": 46,
     "metadata": {},
     "output_type": "execute_result"
    }
   ],
   "source": [
    "df5['Type'].value_counts()\n"
   ]
  },
  {
   "cell_type": "code",
   "execution_count": 47,
   "metadata": {},
   "outputs": [],
   "source": [
    "df5['Type'] = df5['Type'].replace(['Municipality', 'County'], 'Community')\n",
    "df5['Type'] = df5['Type'].replace(['Urban'], 'City')"
   ]
  },
  {
   "cell_type": "code",
   "execution_count": 48,
   "metadata": {},
   "outputs": [
    {
     "data": {
      "text/plain": [
       "Track        9134\n",
       "City          713\n",
       "CDP           508\n",
       "Town          265\n",
       "Village       227\n",
       "Borough        92\n",
       "Community      17\n",
       "Name: Type, dtype: int64"
      ]
     },
     "execution_count": 48,
     "metadata": {},
     "output_type": "execute_result"
    }
   ],
   "source": [
    "df5['Type'].value_counts()"
   ]
  },
  {
   "cell_type": "code",
   "execution_count": 49,
   "metadata": {},
   "outputs": [
    {
     "data": {
      "text/html": [
       "<div>\n",
       "<style scoped>\n",
       "    .dataframe tbody tr th:only-of-type {\n",
       "        vertical-align: middle;\n",
       "    }\n",
       "\n",
       "    .dataframe tbody tr th {\n",
       "        vertical-align: top;\n",
       "    }\n",
       "\n",
       "    .dataframe thead th {\n",
       "        text-align: right;\n",
       "    }\n",
       "</style>\n",
       "<table border=\"1\" class=\"dataframe\">\n",
       "  <thead>\n",
       "    <tr style=\"text-align: right;\">\n",
       "      <th></th>\n",
       "      <th>Zip_Code</th>\n",
       "      <th>ALand</th>\n",
       "      <th>AWater</th>\n",
       "      <th>Mean</th>\n",
       "      <th>Median</th>\n",
       "      <th>Stdev</th>\n",
       "      <th>Population</th>\n",
       "      <th>Retired_workers_number</th>\n",
       "      <th>Disabled workers</th>\n",
       "      <th>Widow(er)s_and_parents_number</th>\n",
       "      <th>Spouses</th>\n",
       "      <th>Children</th>\n",
       "      <th>All beneficiaries</th>\n",
       "      <th>Retired workers</th>\n",
       "      <th>Widow(er)s and parents</th>\n",
       "      <th>Number of OASDI beneficiaries aged 65 or older</th>\n",
       "    </tr>\n",
       "  </thead>\n",
       "  <tbody>\n",
       "    <tr>\n",
       "      <th>count</th>\n",
       "      <td>10956.000000</td>\n",
       "      <td>1.095600e+04</td>\n",
       "      <td>1.095600e+04</td>\n",
       "      <td>10956.000000</td>\n",
       "      <td>10956.000000</td>\n",
       "      <td>10956.000000</td>\n",
       "      <td>10956.000000</td>\n",
       "      <td>10956.000000</td>\n",
       "      <td>10956.000000</td>\n",
       "      <td>10956.000000</td>\n",
       "      <td>10956.000000</td>\n",
       "      <td>10956.000000</td>\n",
       "      <td>1.095600e+04</td>\n",
       "      <td>1.095600e+04</td>\n",
       "      <td>1.095600e+04</td>\n",
       "      <td>10956.000000</td>\n",
       "    </tr>\n",
       "    <tr>\n",
       "      <th>mean</th>\n",
       "      <td>48590.331690</td>\n",
       "      <td>9.697742e+07</td>\n",
       "      <td>2.714306e+06</td>\n",
       "      <td>64099.360442</td>\n",
       "      <td>53749.294268</td>\n",
       "      <td>47171.827583</td>\n",
       "      <td>20953.999726</td>\n",
       "      <td>2611.073841</td>\n",
       "      <td>553.692497</td>\n",
       "      <td>250.804126</td>\n",
       "      <td>147.632804</td>\n",
       "      <td>262.285049</td>\n",
       "      <td>4.923120e+06</td>\n",
       "      <td>3.668255e+06</td>\n",
       "      <td>3.248473e+05</td>\n",
       "      <td>2810.998540</td>\n",
       "    </tr>\n",
       "    <tr>\n",
       "      <th>std</th>\n",
       "      <td>28116.963795</td>\n",
       "      <td>4.026962e+08</td>\n",
       "      <td>2.282352e+07</td>\n",
       "      <td>27009.278301</td>\n",
       "      <td>28072.723212</td>\n",
       "      <td>15284.234092</td>\n",
       "      <td>16896.604136</td>\n",
       "      <td>1990.423203</td>\n",
       "      <td>455.282008</td>\n",
       "      <td>187.381745</td>\n",
       "      <td>136.286936</td>\n",
       "      <td>214.204124</td>\n",
       "      <td>3.699188e+06</td>\n",
       "      <td>2.915059e+06</td>\n",
       "      <td>2.440520e+05</td>\n",
       "      <td>2141.273185</td>\n",
       "    </tr>\n",
       "    <tr>\n",
       "      <th>min</th>\n",
       "      <td>601.000000</td>\n",
       "      <td>6.909400e+04</td>\n",
       "      <td>0.000000e+00</td>\n",
       "      <td>6804.000000</td>\n",
       "      <td>5252.000000</td>\n",
       "      <td>5600.000000</td>\n",
       "      <td>2003.000000</td>\n",
       "      <td>25.000000</td>\n",
       "      <td>10.000000</td>\n",
       "      <td>5.000000</td>\n",
       "      <td>5.000000</td>\n",
       "      <td>5.000000</td>\n",
       "      <td>8.700000e+04</td>\n",
       "      <td>2.300000e+04</td>\n",
       "      <td>5.000000e+03</td>\n",
       "      <td>25.000000</td>\n",
       "    </tr>\n",
       "    <tr>\n",
       "      <th>25%</th>\n",
       "      <td>27536.750000</td>\n",
       "      <td>2.567361e+06</td>\n",
       "      <td>0.000000e+00</td>\n",
       "      <td>45455.500000</td>\n",
       "      <td>35095.750000</td>\n",
       "      <td>36399.750000</td>\n",
       "      <td>7078.250000</td>\n",
       "      <td>1013.750000</td>\n",
       "      <td>205.000000</td>\n",
       "      <td>100.000000</td>\n",
       "      <td>50.000000</td>\n",
       "      <td>100.000000</td>\n",
       "      <td>1.928000e+06</td>\n",
       "      <td>1.365750e+06</td>\n",
       "      <td>1.270000e+05</td>\n",
       "      <td>1090.000000</td>\n",
       "    </tr>\n",
       "    <tr>\n",
       "      <th>50%</th>\n",
       "      <td>46170.000000</td>\n",
       "      <td>8.086629e+06</td>\n",
       "      <td>7.177800e+04</td>\n",
       "      <td>58284.000000</td>\n",
       "      <td>47701.500000</td>\n",
       "      <td>45668.500000</td>\n",
       "      <td>16822.000000</td>\n",
       "      <td>2160.000000</td>\n",
       "      <td>430.000000</td>\n",
       "      <td>210.000000</td>\n",
       "      <td>105.000000</td>\n",
       "      <td>205.000000</td>\n",
       "      <td>4.102000e+06</td>\n",
       "      <td>2.935500e+06</td>\n",
       "      <td>2.690000e+05</td>\n",
       "      <td>2320.000000</td>\n",
       "    </tr>\n",
       "    <tr>\n",
       "      <th>75%</th>\n",
       "      <td>73116.250000</td>\n",
       "      <td>5.912435e+07</td>\n",
       "      <td>7.635110e+05</td>\n",
       "      <td>77111.000000</td>\n",
       "      <td>65459.500000</td>\n",
       "      <td>56682.000000</td>\n",
       "      <td>30276.000000</td>\n",
       "      <td>3726.250000</td>\n",
       "      <td>775.000000</td>\n",
       "      <td>355.000000</td>\n",
       "      <td>200.000000</td>\n",
       "      <td>370.000000</td>\n",
       "      <td>7.046250e+06</td>\n",
       "      <td>5.256250e+06</td>\n",
       "      <td>4.640000e+05</td>\n",
       "      <td>4010.000000</td>\n",
       "    </tr>\n",
       "    <tr>\n",
       "      <th>max</th>\n",
       "      <td>99835.000000</td>\n",
       "      <td>1.563472e+10</td>\n",
       "      <td>1.396368e+09</td>\n",
       "      <td>200012.000000</td>\n",
       "      <td>228723.000000</td>\n",
       "      <td>103836.000000</td>\n",
       "      <td>115104.000000</td>\n",
       "      <td>37440.000000</td>\n",
       "      <td>3490.000000</td>\n",
       "      <td>1895.000000</td>\n",
       "      <td>1645.000000</td>\n",
       "      <td>1825.000000</td>\n",
       "      <td>6.248100e+07</td>\n",
       "      <td>5.826300e+07</td>\n",
       "      <td>2.126000e+06</td>\n",
       "      <td>38455.000000</td>\n",
       "    </tr>\n",
       "  </tbody>\n",
       "</table>\n",
       "</div>"
      ],
      "text/plain": [
       "           Zip_Code         ALand        AWater           Mean         Median  \\\n",
       "count  10956.000000  1.095600e+04  1.095600e+04   10956.000000   10956.000000   \n",
       "mean   48590.331690  9.697742e+07  2.714306e+06   64099.360442   53749.294268   \n",
       "std    28116.963795  4.026962e+08  2.282352e+07   27009.278301   28072.723212   \n",
       "min      601.000000  6.909400e+04  0.000000e+00    6804.000000    5252.000000   \n",
       "25%    27536.750000  2.567361e+06  0.000000e+00   45455.500000   35095.750000   \n",
       "50%    46170.000000  8.086629e+06  7.177800e+04   58284.000000   47701.500000   \n",
       "75%    73116.250000  5.912435e+07  7.635110e+05   77111.000000   65459.500000   \n",
       "max    99835.000000  1.563472e+10  1.396368e+09  200012.000000  228723.000000   \n",
       "\n",
       "               Stdev     Population  Retired_workers_number  Disabled workers  \\\n",
       "count   10956.000000   10956.000000            10956.000000      10956.000000   \n",
       "mean    47171.827583   20953.999726             2611.073841        553.692497   \n",
       "std     15284.234092   16896.604136             1990.423203        455.282008   \n",
       "min      5600.000000    2003.000000               25.000000         10.000000   \n",
       "25%     36399.750000    7078.250000             1013.750000        205.000000   \n",
       "50%     45668.500000   16822.000000             2160.000000        430.000000   \n",
       "75%     56682.000000   30276.000000             3726.250000        775.000000   \n",
       "max    103836.000000  115104.000000            37440.000000       3490.000000   \n",
       "\n",
       "       Widow(er)s_and_parents_number       Spouses      Children  \\\n",
       "count                   10956.000000  10956.000000  10956.000000   \n",
       "mean                      250.804126    147.632804    262.285049   \n",
       "std                       187.381745    136.286936    214.204124   \n",
       "min                         5.000000      5.000000      5.000000   \n",
       "25%                       100.000000     50.000000    100.000000   \n",
       "50%                       210.000000    105.000000    205.000000   \n",
       "75%                       355.000000    200.000000    370.000000   \n",
       "max                      1895.000000   1645.000000   1825.000000   \n",
       "\n",
       "       All beneficiaries  Retired workers  Widow(er)s and parents  \\\n",
       "count       1.095600e+04     1.095600e+04            1.095600e+04   \n",
       "mean        4.923120e+06     3.668255e+06            3.248473e+05   \n",
       "std         3.699188e+06     2.915059e+06            2.440520e+05   \n",
       "min         8.700000e+04     2.300000e+04            5.000000e+03   \n",
       "25%         1.928000e+06     1.365750e+06            1.270000e+05   \n",
       "50%         4.102000e+06     2.935500e+06            2.690000e+05   \n",
       "75%         7.046250e+06     5.256250e+06            4.640000e+05   \n",
       "max         6.248100e+07     5.826300e+07            2.126000e+06   \n",
       "\n",
       "       Number of OASDI beneficiaries aged 65 or older  \n",
       "count                                    10956.000000  \n",
       "mean                                      2810.998540  \n",
       "std                                       2141.273185  \n",
       "min                                         25.000000  \n",
       "25%                                       1090.000000  \n",
       "50%                                       2320.000000  \n",
       "75%                                       4010.000000  \n",
       "max                                      38455.000000  "
      ]
     },
     "execution_count": 49,
     "metadata": {},
     "output_type": "execute_result"
    }
   ],
   "source": [
    "df5.describe()"
   ]
  },
  {
   "cell_type": "code",
   "execution_count": 50,
   "metadata": {},
   "outputs": [],
   "source": [
    "df5 = pd.get_dummies(df5, columns=['Type'])"
   ]
  },
  {
   "cell_type": "code",
   "execution_count": null,
   "metadata": {},
   "outputs": [],
   "source": []
  }
 ],
 "metadata": {
  "kernelspec": {
   "display_name": "Python 3",
   "language": "python",
   "name": "python3"
  },
  "language_info": {
   "codemirror_mode": {
    "name": "ipython",
    "version": 3
   },
   "file_extension": ".py",
   "mimetype": "text/x-python",
   "name": "python",
   "nbconvert_exporter": "python",
   "pygments_lexer": "ipython3",
   "version": "3.7.1"
  }
 },
 "nbformat": 4,
 "nbformat_minor": 2
}
