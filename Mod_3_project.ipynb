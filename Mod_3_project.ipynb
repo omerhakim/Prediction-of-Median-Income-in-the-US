{
 "cells": [
  {
   "cell_type": "markdown",
   "metadata": {},
   "source": [
    "# Mod 3 Project - Projecting if a Zip Code in the US has Above/Under 49,000 USD Median Income\n"
   ]
  },
  {
   "cell_type": "code",
   "execution_count": 1,
   "metadata": {},
   "outputs": [],
   "source": [
    "#import libraries\n",
    "import pandas as pd\n",
    "import numpy as np\n",
    "import matplotlib.pyplot as plt\n",
    "import seaborn as sns\n",
    "from sklearn.model_selection import train_test_split\n",
    "from sklearn import metrics\n",
    "from sklearn.preprocessing import PolynomialFeatures\n",
    "from sklearn.preprocessing import StandardScaler\n",
    "import warnings\n",
    "warnings.filterwarnings('ignore')\n",
    "from sklearn.neighbors import KNeighborsClassifier\n",
    "from sklearn.tree import DecisionTreeClassifier\n",
    "from sklearn.linear_model import LogisticRegression\n",
    "from sklearn.feature_selection import SelectKBest, f_regression,mutual_info_regression\n",
    "from sklearn.metrics import precision_score, recall_score, accuracy_score, f1_score\n",
    "from sklearn.model_selection import GridSearchCV\n",
    "from sklearn.metrics import classification_report\n",
    "from sklearn.ensemble import BaggingClassifier, RandomForestClassifier\n",
    "import xgboost as xgb\n",
    "import os\n",
    "os.environ['KMP_DUPLICATE_LIB_OK']= 'True'"
   ]
  },
  {
   "cell_type": "markdown",
   "metadata": {},
   "source": [
    "## Importing and cleaning the data, merging Dataframes, EDA"
   ]
  },
  {
   "cell_type": "code",
   "execution_count": 2,
   "metadata": {},
   "outputs": [],
   "source": [
    "df = pd.read_csv('data_sets/mod3p1.csv', encoding='latin-1')"
   ]
  },
  {
   "cell_type": "code",
   "execution_count": 3,
   "metadata": {},
   "outputs": [
    {
     "name": "stdout",
     "output_type": "stream",
     "text": [
      "32526\n",
      "14803\n"
     ]
    }
   ],
   "source": [
    "#cheking the unique zip codes in the dataframe\n",
    "print (len(df))\n",
    "print (df['Zip_Code'].nunique())"
   ]
  },
  {
   "cell_type": "code",
   "execution_count": 4,
   "metadata": {
    "scrolled": true
   },
   "outputs": [
    {
     "data": {
      "text/html": [
       "<div>\n",
       "<style scoped>\n",
       "    .dataframe tbody tr th:only-of-type {\n",
       "        vertical-align: middle;\n",
       "    }\n",
       "\n",
       "    .dataframe tbody tr th {\n",
       "        vertical-align: top;\n",
       "    }\n",
       "\n",
       "    .dataframe thead th {\n",
       "        text-align: right;\n",
       "    }\n",
       "</style>\n",
       "<table border=\"1\" class=\"dataframe\">\n",
       "  <thead>\n",
       "    <tr style=\"text-align: right;\">\n",
       "      <th></th>\n",
       "      <th>id</th>\n",
       "      <th>State_Code</th>\n",
       "      <th>State_Name</th>\n",
       "      <th>State_ab</th>\n",
       "      <th>County</th>\n",
       "      <th>City</th>\n",
       "      <th>Place</th>\n",
       "      <th>Type</th>\n",
       "      <th>Primary</th>\n",
       "      <th>Zip_Code</th>\n",
       "      <th>Area_Code</th>\n",
       "      <th>ALand</th>\n",
       "      <th>AWater</th>\n",
       "      <th>Lat</th>\n",
       "      <th>Lon</th>\n",
       "      <th>Mean</th>\n",
       "      <th>Median</th>\n",
       "      <th>Stdev</th>\n",
       "      <th>sum_w</th>\n",
       "    </tr>\n",
       "  </thead>\n",
       "  <tbody>\n",
       "    <tr>\n",
       "      <th>32481</th>\n",
       "      <td>72026</td>\n",
       "      <td>72</td>\n",
       "      <td>Puerto Rico</td>\n",
       "      <td>PR</td>\n",
       "      <td>Adjuntas Municipio</td>\n",
       "      <td>Adjuntas</td>\n",
       "      <td>Adjuntas</td>\n",
       "      <td>Track</td>\n",
       "      <td>Track</td>\n",
       "      <td>601</td>\n",
       "      <td>787</td>\n",
       "      <td>42529236</td>\n",
       "      <td>210360</td>\n",
       "      <td>18.155582</td>\n",
       "      <td>-66.701046</td>\n",
       "      <td>24000</td>\n",
       "      <td>15004</td>\n",
       "      <td>29483</td>\n",
       "      <td>1243.880991</td>\n",
       "    </tr>\n",
       "    <tr>\n",
       "      <th>32519</th>\n",
       "      <td>7202946</td>\n",
       "      <td>72</td>\n",
       "      <td>Puerto Rico</td>\n",
       "      <td>PR</td>\n",
       "      <td>Adjuntas Municipio</td>\n",
       "      <td>Adjuntas</td>\n",
       "      <td>Adjuntas</td>\n",
       "      <td>Track</td>\n",
       "      <td>Track</td>\n",
       "      <td>601</td>\n",
       "      <td>787</td>\n",
       "      <td>44833906</td>\n",
       "      <td>90659</td>\n",
       "      <td>18.204166</td>\n",
       "      <td>-66.737830</td>\n",
       "      <td>19807</td>\n",
       "      <td>9378</td>\n",
       "      <td>21654</td>\n",
       "      <td>524.345149</td>\n",
       "    </tr>\n",
       "  </tbody>\n",
       "</table>\n",
       "</div>"
      ],
      "text/plain": [
       "            id  State_Code   State_Name State_ab              County  \\\n",
       "32481    72026          72  Puerto Rico       PR  Adjuntas Municipio   \n",
       "32519  7202946          72  Puerto Rico       PR  Adjuntas Municipio   \n",
       "\n",
       "           City     Place   Type Primary  Zip_Code Area_Code     ALand  \\\n",
       "32481  Adjuntas  Adjuntas  Track   Track       601       787  42529236   \n",
       "32519  Adjuntas  Adjuntas  Track   Track       601       787  44833906   \n",
       "\n",
       "       AWater        Lat        Lon   Mean  Median  Stdev        sum_w  \n",
       "32481  210360  18.155582 -66.701046  24000   15004  29483  1243.880991  \n",
       "32519   90659  18.204166 -66.737830  19807    9378  21654   524.345149  "
      ]
     },
     "execution_count": 4,
     "metadata": {},
     "output_type": "execute_result"
    }
   ],
   "source": [
    "#looking on example of duplication \n",
    "df.sort_values('Zip_Code',ascending=True).head(2)"
   ]
  },
  {
   "cell_type": "code",
   "execution_count": 5,
   "metadata": {},
   "outputs": [
    {
     "data": {
      "text/plain": [
       "14803"
      ]
     },
     "execution_count": 5,
     "metadata": {},
     "output_type": "execute_result"
    }
   ],
   "source": [
    "#droping duplicates\n",
    "df = df.drop_duplicates(subset='Zip_Code', keep='first')\n",
    "len(df)"
   ]
  },
  {
   "cell_type": "code",
   "execution_count": 6,
   "metadata": {},
   "outputs": [],
   "source": [
    "#droping columns which are not relevant or with to big variaty of items\n",
    "df = df.drop(['id','State_ab','Primary','Area_Code','Lat','Lon','County','State_Code','Place','sum_w','City'],axis = 1)"
   ]
  },
  {
   "cell_type": "code",
   "execution_count": 7,
   "metadata": {},
   "outputs": [
    {
     "data": {
      "text/html": [
       "<div>\n",
       "<style scoped>\n",
       "    .dataframe tbody tr th:only-of-type {\n",
       "        vertical-align: middle;\n",
       "    }\n",
       "\n",
       "    .dataframe tbody tr th {\n",
       "        vertical-align: top;\n",
       "    }\n",
       "\n",
       "    .dataframe thead th {\n",
       "        text-align: right;\n",
       "    }\n",
       "</style>\n",
       "<table border=\"1\" class=\"dataframe\">\n",
       "  <thead>\n",
       "    <tr style=\"text-align: right;\">\n",
       "      <th></th>\n",
       "      <th>State_Name</th>\n",
       "      <th>Type</th>\n",
       "      <th>Zip_Code</th>\n",
       "      <th>ALand</th>\n",
       "      <th>AWater</th>\n",
       "      <th>Mean</th>\n",
       "      <th>Median</th>\n",
       "      <th>Stdev</th>\n",
       "    </tr>\n",
       "  </thead>\n",
       "  <tbody>\n",
       "    <tr>\n",
       "      <th>0</th>\n",
       "      <td>Alabama</td>\n",
       "      <td>City</td>\n",
       "      <td>36611</td>\n",
       "      <td>10894952</td>\n",
       "      <td>909156</td>\n",
       "      <td>38773</td>\n",
       "      <td>30506</td>\n",
       "      <td>33101</td>\n",
       "    </tr>\n",
       "    <tr>\n",
       "      <th>1</th>\n",
       "      <td>Alabama</td>\n",
       "      <td>City</td>\n",
       "      <td>36048</td>\n",
       "      <td>26070325</td>\n",
       "      <td>23254</td>\n",
       "      <td>37725</td>\n",
       "      <td>19528</td>\n",
       "      <td>43789</td>\n",
       "    </tr>\n",
       "  </tbody>\n",
       "</table>\n",
       "</div>"
      ],
      "text/plain": [
       "  State_Name  Type  Zip_Code     ALand  AWater   Mean  Median  Stdev\n",
       "0    Alabama  City     36611  10894952  909156  38773   30506  33101\n",
       "1    Alabama  City     36048  26070325   23254  37725   19528  43789"
      ]
     },
     "execution_count": 7,
     "metadata": {},
     "output_type": "execute_result"
    }
   ],
   "source": [
    "df.head(2)"
   ]
  },
  {
   "cell_type": "code",
   "execution_count": 8,
   "metadata": {},
   "outputs": [
    {
     "name": "stdout",
     "output_type": "stream",
     "text": [
      "<class 'pandas.core.frame.DataFrame'>\n",
      "Int64Index: 14803 entries, 0 to 32483\n",
      "Data columns (total 8 columns):\n",
      "State_Name    14803 non-null object\n",
      "Type          14803 non-null object\n",
      "Zip_Code      14803 non-null int64\n",
      "ALand         14803 non-null int64\n",
      "AWater        14803 non-null int64\n",
      "Mean          14803 non-null int64\n",
      "Median        14803 non-null int64\n",
      "Stdev         14803 non-null int64\n",
      "dtypes: int64(6), object(2)\n",
      "memory usage: 1.0+ MB\n"
     ]
    }
   ],
   "source": [
    "#cheking the type of all columns\n",
    "df.info()"
   ]
  },
  {
   "cell_type": "code",
   "execution_count": 9,
   "metadata": {},
   "outputs": [],
   "source": [
    "#importing additioanl table which include the population for every zip code\n",
    "df1 = pd.read_csv('data_sets/pop-by-zip-code.csv')"
   ]
  },
  {
   "cell_type": "code",
   "execution_count": 10,
   "metadata": {},
   "outputs": [
    {
     "data": {
      "text/html": [
       "<div>\n",
       "<style scoped>\n",
       "    .dataframe tbody tr th:only-of-type {\n",
       "        vertical-align: middle;\n",
       "    }\n",
       "\n",
       "    .dataframe tbody tr th {\n",
       "        vertical-align: top;\n",
       "    }\n",
       "\n",
       "    .dataframe thead th {\n",
       "        text-align: right;\n",
       "    }\n",
       "</style>\n",
       "<table border=\"1\" class=\"dataframe\">\n",
       "  <thead>\n",
       "    <tr style=\"text-align: right;\">\n",
       "      <th></th>\n",
       "      <th>zip_code</th>\n",
       "      <th>y-2016</th>\n",
       "    </tr>\n",
       "  </thead>\n",
       "  <tbody>\n",
       "    <tr>\n",
       "      <th>0</th>\n",
       "      <td>601</td>\n",
       "      <td>17800</td>\n",
       "    </tr>\n",
       "    <tr>\n",
       "      <th>1</th>\n",
       "      <td>602</td>\n",
       "      <td>39716</td>\n",
       "    </tr>\n",
       "  </tbody>\n",
       "</table>\n",
       "</div>"
      ],
      "text/plain": [
       "   zip_code  y-2016\n",
       "0       601   17800\n",
       "1       602   39716"
      ]
     },
     "execution_count": 10,
     "metadata": {},
     "output_type": "execute_result"
    }
   ],
   "source": [
    "df1.head(2)"
   ]
  },
  {
   "cell_type": "code",
   "execution_count": 11,
   "metadata": {},
   "outputs": [
    {
     "name": "stdout",
     "output_type": "stream",
     "text": [
      "33120\n",
      "33120\n"
     ]
    }
   ],
   "source": [
    "#checking the number of unique values\n",
    "print (len(df1))\n",
    "print (df1['zip_code'].nunique())"
   ]
  },
  {
   "cell_type": "code",
   "execution_count": 12,
   "metadata": {},
   "outputs": [
    {
     "data": {
      "text/plain": [
       "322072436"
      ]
     },
     "execution_count": 12,
     "metadata": {},
     "output_type": "execute_result"
    }
   ],
   "source": [
    "#checking how many poeple live in the US\n",
    "df1['y-2016'].sum()"
   ]
  },
  {
   "cell_type": "code",
   "execution_count": 13,
   "metadata": {},
   "outputs": [
    {
     "data": {
      "text/html": [
       "<div>\n",
       "<style scoped>\n",
       "    .dataframe tbody tr th:only-of-type {\n",
       "        vertical-align: middle;\n",
       "    }\n",
       "\n",
       "    .dataframe tbody tr th {\n",
       "        vertical-align: top;\n",
       "    }\n",
       "\n",
       "    .dataframe thead th {\n",
       "        text-align: right;\n",
       "    }\n",
       "</style>\n",
       "<table border=\"1\" class=\"dataframe\">\n",
       "  <thead>\n",
       "    <tr style=\"text-align: right;\">\n",
       "      <th></th>\n",
       "      <th>Zip_Code</th>\n",
       "      <th>Population</th>\n",
       "    </tr>\n",
       "  </thead>\n",
       "  <tbody>\n",
       "    <tr>\n",
       "      <th>0</th>\n",
       "      <td>601</td>\n",
       "      <td>17800</td>\n",
       "    </tr>\n",
       "  </tbody>\n",
       "</table>\n",
       "</div>"
      ],
      "text/plain": [
       "   Zip_Code  Population\n",
       "0       601       17800"
      ]
     },
     "execution_count": 13,
     "metadata": {},
     "output_type": "execute_result"
    }
   ],
   "source": [
    "#renaming the columns before merging\n",
    "df1 = df1.rename(index=str, columns={\"zip_code\": \"Zip_Code\",'y-2016':'Population'})\n",
    "df1.head(1)"
   ]
  },
  {
   "cell_type": "code",
   "execution_count": 14,
   "metadata": {},
   "outputs": [
    {
     "data": {
      "image/png": "[encoded data removed]",
      "text/plain": [
       "<Figure size 720x360 with 1 Axes>"
      ]
     },
     "metadata": {
      "needs_background": "light"
     },
     "output_type": "display_data"
    }
   ],
   "source": [
    "#cheking the population\n",
    "plt.figure(figsize=(10, 5))\n",
    "df1.boxplot(column=['Population'])\n",
    "plt.show();"
   ]
  },
  {
   "cell_type": "code",
   "execution_count": 15,
   "metadata": {},
   "outputs": [
    {
     "data": {
      "text/plain": [
       "Zip_Code      10144\n",
       "Population    10144\n",
       "dtype: int64"
      ]
     },
     "execution_count": 15,
     "metadata": {},
     "output_type": "execute_result"
    }
   ],
   "source": [
    "df1[df1['Population']<1000].count()\n"
   ]
  },
  {
   "cell_type": "code",
   "execution_count": 16,
   "metadata": {},
   "outputs": [],
   "source": [
    "# I decided to drop zip codes with less than 1000 poeple\n",
    "df1 = df1[df1['Population']>1000]"
   ]
  },
  {
   "cell_type": "code",
   "execution_count": 17,
   "metadata": {},
   "outputs": [
    {
     "data": {
      "image/png": "[encoded data removed]",
      "text/plain": [
       "<Figure size 720x360 with 1 Axes>"
      ]
     },
     "metadata": {
      "needs_background": "light"
     },
     "output_type": "display_data"
    }
   ],
   "source": [
    "plt.figure(figsize=(10, 5))\n",
    "df1.boxplot(column=['Population'])\n",
    "plt.show();"
   ]
  },
  {
   "cell_type": "code",
   "execution_count": 18,
   "metadata": {},
   "outputs": [
    {
     "name": "stdout",
     "output_type": "stream",
     "text": [
      "<class 'pandas.core.frame.DataFrame'>\n",
      "Index: 22968 entries, 0 to 33119\n",
      "Data columns (total 2 columns):\n",
      "Zip_Code      22968 non-null int64\n",
      "Population    22968 non-null int64\n",
      "dtypes: int64(2)\n",
      "memory usage: 538.3+ KB\n"
     ]
    }
   ],
   "source": [
    "#cheking that the merging column (\"zip code\") is integer like in the other dataframe\n",
    "df1.info()"
   ]
  },
  {
   "cell_type": "code",
   "execution_count": 19,
   "metadata": {},
   "outputs": [],
   "source": [
    "#merging the dataframes\n",
    "df3 = pd.merge(df, df1, on='Zip_Code', how='inner')"
   ]
  },
  {
   "cell_type": "code",
   "execution_count": 20,
   "metadata": {},
   "outputs": [
    {
     "data": {
      "text/plain": [
       "13754"
      ]
     },
     "execution_count": 20,
     "metadata": {},
     "output_type": "execute_result"
    }
   ],
   "source": [
    "#inspecting the number of rows in the new merged DataFrame\n",
    "len(df3)"
   ]
  },
  {
   "cell_type": "code",
   "execution_count": 21,
   "metadata": {},
   "outputs": [
    {
     "data": {
      "text/plain": [
       "State_Name    0\n",
       "Type          0\n",
       "Zip_Code      0\n",
       "ALand         0\n",
       "AWater        0\n",
       "Mean          0\n",
       "Median        0\n",
       "Stdev         0\n",
       "Population    0\n",
       "dtype: int64"
      ]
     },
     "execution_count": 21,
     "metadata": {},
     "output_type": "execute_result"
    }
   ],
   "source": [
    "#cheking for null values\n",
    "df3.isnull().sum()"
   ]
  },
  {
   "cell_type": "code",
   "execution_count": 22,
   "metadata": {
    "scrolled": false
   },
   "outputs": [
    {
     "data": {
      "text/html": [
       "<div>\n",
       "<style scoped>\n",
       "    .dataframe tbody tr th:only-of-type {\n",
       "        vertical-align: middle;\n",
       "    }\n",
       "\n",
       "    .dataframe tbody tr th {\n",
       "        vertical-align: top;\n",
       "    }\n",
       "\n",
       "    .dataframe thead th {\n",
       "        text-align: right;\n",
       "    }\n",
       "</style>\n",
       "<table border=\"1\" class=\"dataframe\">\n",
       "  <thead>\n",
       "    <tr style=\"text-align: right;\">\n",
       "      <th></th>\n",
       "      <th>Number of beneficiaries with benefits in current-payment status and total monthly benefits, December 2017</th>\n",
       "      <th>Unnamed: 1</th>\n",
       "      <th>Unnamed: 2</th>\n",
       "      <th>Unnamed: 3</th>\n",
       "      <th>Unnamed: 4</th>\n",
       "      <th>Unnamed: 5</th>\n",
       "      <th>Unnamed: 6</th>\n",
       "      <th>Unnamed: 7</th>\n",
       "      <th>Unnamed: 8</th>\n",
       "      <th>Unnamed: 9</th>\n",
       "      <th>Unnamed: 10</th>\n",
       "      <th>Unnamed: 11</th>\n",
       "    </tr>\n",
       "  </thead>\n",
       "  <tbody>\n",
       "    <tr>\n",
       "      <th>0</th>\n",
       "      <td>State or area</td>\n",
       "      <td>ZIP Code</td>\n",
       "      <td>Number</td>\n",
       "      <td>NaN</td>\n",
       "      <td>NaN</td>\n",
       "      <td>NaN</td>\n",
       "      <td>NaN</td>\n",
       "      <td>NaN</td>\n",
       "      <td>Total monthly benefits\\n(thousands of dollars)</td>\n",
       "      <td>NaN</td>\n",
       "      <td>NaN</td>\n",
       "      <td>Number of OASDI beneficiaries aged 65 or older</td>\n",
       "    </tr>\n",
       "    <tr>\n",
       "      <th>1</th>\n",
       "      <td>NaN</td>\n",
       "      <td>NaN</td>\n",
       "      <td>Total</td>\n",
       "      <td>Retired workers</td>\n",
       "      <td>Disabled workers</td>\n",
       "      <td>Widow(er)s and parents</td>\n",
       "      <td>Spouses</td>\n",
       "      <td>Children</td>\n",
       "      <td>All beneficiaries</td>\n",
       "      <td>Retired workers</td>\n",
       "      <td>Widow(er)s and parents</td>\n",
       "      <td>NaN</td>\n",
       "    </tr>\n",
       "  </tbody>\n",
       "</table>\n",
       "</div>"
      ],
      "text/plain": [
       "  Number of beneficiaries with benefits in current-payment status and total monthly benefits, December 2017  \\\n",
       "0                                      State or area                                                          \n",
       "1                                                NaN                                                          \n",
       "\n",
       "  Unnamed: 1 Unnamed: 2       Unnamed: 3        Unnamed: 4  \\\n",
       "0   ZIP Code     Number              NaN               NaN   \n",
       "1        NaN      Total  Retired workers  Disabled workers   \n",
       "\n",
       "               Unnamed: 5 Unnamed: 6 Unnamed: 7  \\\n",
       "0                     NaN        NaN        NaN   \n",
       "1  Widow(er)s and parents    Spouses   Children   \n",
       "\n",
       "                                       Unnamed: 8       Unnamed: 9  \\\n",
       "0  Total monthly benefits\\n(thousands of dollars)              NaN   \n",
       "1                               All beneficiaries  Retired workers   \n",
       "\n",
       "              Unnamed: 10                                     Unnamed: 11  \n",
       "0                     NaN  Number of OASDI beneficiaries aged 65 or older  \n",
       "1  Widow(er)s and parents                                             NaN  "
      ]
     },
     "execution_count": 22,
     "metadata": {},
     "output_type": "execute_result"
    }
   ],
   "source": [
    "#import additioanl Dataframe with social security data\n",
    "df4=pd.read_excel('data_sets/tableAll.xlsx')\n",
    "df4.head(2)"
   ]
  },
  {
   "cell_type": "code",
   "execution_count": 23,
   "metadata": {},
   "outputs": [],
   "source": [
    "#droping columns which are totals of other columns\n",
    "df4 = df4.drop(['Unnamed: 2','Unnamed: 8'],axis = 1)"
   ]
  },
  {
   "cell_type": "code",
   "execution_count": 24,
   "metadata": {},
   "outputs": [],
   "source": [
    "#updating values of cells which later will be columns\n",
    "df4.at[1, 'Number of beneficiaries with benefits in current-payment status and total monthly benefits, December 2017'] = 'State or area'\n",
    "df4.at[1, 'Unnamed: 1'] = 'Zip_Code'\n",
    "df4.at[1, 'Unnamed: 11'] ='Number of OASDI beneficiaries aged 65 or older'\n",
    "df4.at[1,'Unnamed: 3'] = 'Retired_workers_number'\n",
    "df4.at[1,'Unnamed: 5'] = 'Widow(er)s_and_parents_number'"
   ]
  },
  {
   "cell_type": "code",
   "execution_count": 25,
   "metadata": {},
   "outputs": [
    {
     "data": {
      "text/html": [
       "<div>\n",
       "<style scoped>\n",
       "    .dataframe tbody tr th:only-of-type {\n",
       "        vertical-align: middle;\n",
       "    }\n",
       "\n",
       "    .dataframe tbody tr th {\n",
       "        vertical-align: top;\n",
       "    }\n",
       "\n",
       "    .dataframe thead th {\n",
       "        text-align: right;\n",
       "    }\n",
       "</style>\n",
       "<table border=\"1\" class=\"dataframe\">\n",
       "  <thead>\n",
       "    <tr style=\"text-align: right;\">\n",
       "      <th></th>\n",
       "      <th>Number of beneficiaries with benefits in current-payment status and total monthly benefits, December 2017</th>\n",
       "      <th>Unnamed: 1</th>\n",
       "      <th>Unnamed: 3</th>\n",
       "      <th>Unnamed: 4</th>\n",
       "      <th>Unnamed: 5</th>\n",
       "      <th>Unnamed: 6</th>\n",
       "      <th>Unnamed: 7</th>\n",
       "      <th>Unnamed: 9</th>\n",
       "      <th>Unnamed: 10</th>\n",
       "      <th>Unnamed: 11</th>\n",
       "    </tr>\n",
       "  </thead>\n",
       "  <tbody>\n",
       "    <tr>\n",
       "      <th>0</th>\n",
       "      <td>State or area</td>\n",
       "      <td>ZIP Code</td>\n",
       "      <td>NaN</td>\n",
       "      <td>NaN</td>\n",
       "      <td>NaN</td>\n",
       "      <td>NaN</td>\n",
       "      <td>NaN</td>\n",
       "      <td>NaN</td>\n",
       "      <td>NaN</td>\n",
       "      <td>Number of OASDI beneficiaries aged 65 or older</td>\n",
       "    </tr>\n",
       "    <tr>\n",
       "      <th>1</th>\n",
       "      <td>State or area</td>\n",
       "      <td>Zip_Code</td>\n",
       "      <td>Retired_workers_number</td>\n",
       "      <td>Disabled workers</td>\n",
       "      <td>Widow(er)s_and_parents_number</td>\n",
       "      <td>Spouses</td>\n",
       "      <td>Children</td>\n",
       "      <td>Retired workers</td>\n",
       "      <td>Widow(er)s and parents</td>\n",
       "      <td>Number of OASDI beneficiaries aged 65 or older</td>\n",
       "    </tr>\n",
       "  </tbody>\n",
       "</table>\n",
       "</div>"
      ],
      "text/plain": [
       "  Number of beneficiaries with benefits in current-payment status and total monthly benefits, December 2017  \\\n",
       "0                                      State or area                                                          \n",
       "1                                      State or area                                                          \n",
       "\n",
       "  Unnamed: 1              Unnamed: 3        Unnamed: 4  \\\n",
       "0   ZIP Code                     NaN               NaN   \n",
       "1   Zip_Code  Retired_workers_number  Disabled workers   \n",
       "\n",
       "                      Unnamed: 5 Unnamed: 6 Unnamed: 7       Unnamed: 9  \\\n",
       "0                            NaN        NaN        NaN              NaN   \n",
       "1  Widow(er)s_and_parents_number    Spouses   Children  Retired workers   \n",
       "\n",
       "              Unnamed: 10                                     Unnamed: 11  \n",
       "0                     NaN  Number of OASDI beneficiaries aged 65 or older  \n",
       "1  Widow(er)s and parents  Number of OASDI beneficiaries aged 65 or older  "
      ]
     },
     "execution_count": 25,
     "metadata": {},
     "output_type": "execute_result"
    }
   ],
   "source": [
    "#checking the update\n",
    "df4.head(2)"
   ]
  },
  {
   "cell_type": "code",
   "execution_count": 26,
   "metadata": {},
   "outputs": [
    {
     "data": {
      "text/html": [
       "<div>\n",
       "<style scoped>\n",
       "    .dataframe tbody tr th:only-of-type {\n",
       "        vertical-align: middle;\n",
       "    }\n",
       "\n",
       "    .dataframe tbody tr th {\n",
       "        vertical-align: top;\n",
       "    }\n",
       "\n",
       "    .dataframe thead th {\n",
       "        text-align: right;\n",
       "    }\n",
       "</style>\n",
       "<table border=\"1\" class=\"dataframe\">\n",
       "  <thead>\n",
       "    <tr style=\"text-align: right;\">\n",
       "      <th></th>\n",
       "      <th>State or area</th>\n",
       "      <th>Zip_Code</th>\n",
       "      <th>Retired_workers_number</th>\n",
       "      <th>Disabled workers</th>\n",
       "      <th>Widow(er)s_and_parents_number</th>\n",
       "      <th>Spouses</th>\n",
       "      <th>Children</th>\n",
       "      <th>Retired workers</th>\n",
       "      <th>Widow(er)s and parents</th>\n",
       "      <th>Number of OASDI beneficiaries aged 65 or older</th>\n",
       "    </tr>\n",
       "  </thead>\n",
       "  <tbody>\n",
       "    <tr>\n",
       "      <th>0</th>\n",
       "      <td>State or area</td>\n",
       "      <td>ZIP Code</td>\n",
       "      <td>NaN</td>\n",
       "      <td>NaN</td>\n",
       "      <td>NaN</td>\n",
       "      <td>NaN</td>\n",
       "      <td>NaN</td>\n",
       "      <td>NaN</td>\n",
       "      <td>NaN</td>\n",
       "      <td>Number of OASDI beneficiaries aged 65 or older</td>\n",
       "    </tr>\n",
       "    <tr>\n",
       "      <th>1</th>\n",
       "      <td>State or area</td>\n",
       "      <td>Zip_Code</td>\n",
       "      <td>Retired_workers_number</td>\n",
       "      <td>Disabled workers</td>\n",
       "      <td>Widow(er)s_and_parents_number</td>\n",
       "      <td>Spouses</td>\n",
       "      <td>Children</td>\n",
       "      <td>Retired workers</td>\n",
       "      <td>Widow(er)s and parents</td>\n",
       "      <td>Number of OASDI beneficiaries aged 65 or older</td>\n",
       "    </tr>\n",
       "  </tbody>\n",
       "</table>\n",
       "</div>"
      ],
      "text/plain": [
       "   State or area  Zip_Code  Retired_workers_number  Disabled workers  \\\n",
       "0  State or area  ZIP Code                     NaN               NaN   \n",
       "1  State or area  Zip_Code  Retired_workers_number  Disabled workers   \n",
       "\n",
       "   Widow(er)s_and_parents_number  Spouses  Children  Retired workers  \\\n",
       "0                            NaN      NaN       NaN              NaN   \n",
       "1  Widow(er)s_and_parents_number  Spouses  Children  Retired workers   \n",
       "\n",
       "   Widow(er)s and parents  Number of OASDI beneficiaries aged 65 or older  \n",
       "0                     NaN  Number of OASDI beneficiaries aged 65 or older  \n",
       "1  Widow(er)s and parents  Number of OASDI beneficiaries aged 65 or older  "
      ]
     },
     "execution_count": 26,
     "metadata": {},
     "output_type": "execute_result"
    }
   ],
   "source": [
    "#replacing the columns names with the values of line number 1\n",
    "df4.columns = df4.iloc[1].values\n",
    "df4.head(2)"
   ]
  },
  {
   "cell_type": "code",
   "execution_count": 27,
   "metadata": {},
   "outputs": [
    {
     "data": {
      "text/html": [
       "<div>\n",
       "<style scoped>\n",
       "    .dataframe tbody tr th:only-of-type {\n",
       "        vertical-align: middle;\n",
       "    }\n",
       "\n",
       "    .dataframe tbody tr th {\n",
       "        vertical-align: top;\n",
       "    }\n",
       "\n",
       "    .dataframe thead th {\n",
       "        text-align: right;\n",
       "    }\n",
       "</style>\n",
       "<table border=\"1\" class=\"dataframe\">\n",
       "  <thead>\n",
       "    <tr style=\"text-align: right;\">\n",
       "      <th></th>\n",
       "      <th>State or area</th>\n",
       "      <th>Zip_Code</th>\n",
       "      <th>Retired_workers_number</th>\n",
       "      <th>Disabled workers</th>\n",
       "      <th>Widow(er)s_and_parents_number</th>\n",
       "      <th>Spouses</th>\n",
       "      <th>Children</th>\n",
       "      <th>Retired workers</th>\n",
       "      <th>Widow(er)s and parents</th>\n",
       "      <th>Number of OASDI beneficiaries aged 65 or older</th>\n",
       "    </tr>\n",
       "  </thead>\n",
       "  <tbody>\n",
       "    <tr>\n",
       "      <th>2</th>\n",
       "      <td>Alabama</td>\n",
       "      <td>35004</td>\n",
       "      <td>1410</td>\n",
       "      <td>385</td>\n",
       "      <td>160</td>\n",
       "      <td>70</td>\n",
       "      <td>210</td>\n",
       "      <td>2070</td>\n",
       "      <td>218</td>\n",
       "      <td>1510</td>\n",
       "    </tr>\n",
       "  </tbody>\n",
       "</table>\n",
       "</div>"
      ],
      "text/plain": [
       "  State or area Zip_Code Retired_workers_number Disabled workers  \\\n",
       "2       Alabama    35004                   1410              385   \n",
       "\n",
       "  Widow(er)s_and_parents_number Spouses Children Retired workers  \\\n",
       "2                           160      70      210            2070   \n",
       "\n",
       "  Widow(er)s and parents Number of OASDI beneficiaries aged 65 or older  \n",
       "2                    218                                           1510  "
      ]
     },
     "execution_count": 27,
     "metadata": {},
     "output_type": "execute_result"
    }
   ],
   "source": [
    "#droping the first two lines\n",
    "df4 = df4.drop([0, 1])\n",
    "df4.head(1)"
   ]
  },
  {
   "cell_type": "code",
   "execution_count": 28,
   "metadata": {},
   "outputs": [
    {
     "name": "stdout",
     "output_type": "stream",
     "text": [
      "<class 'pandas.core.frame.DataFrame'>\n",
      "Int64Index: 37327 entries, 2 to 37328\n",
      "Data columns (total 10 columns):\n",
      "State or area                                     37324 non-null object\n",
      "Zip_Code                                          37320 non-null object\n",
      "Retired_workers_number                            37320 non-null object\n",
      "Disabled workers                                  37320 non-null object\n",
      "Widow(er)s_and_parents_number                     37320 non-null object\n",
      "Spouses                                           37320 non-null object\n",
      "Children                                          37320 non-null object\n",
      "Retired workers                                   37320 non-null object\n",
      "Widow(er)s and parents                            37320 non-null object\n",
      "Number of OASDI beneficiaries aged 65 or older    37320 non-null object\n",
      "dtypes: object(10)\n",
      "memory usage: 3.1+ MB\n"
     ]
    }
   ],
   "source": [
    "#we are checking the type of columns in the list\n",
    "df4.info()"
   ]
  },
  {
   "cell_type": "code",
   "execution_count": 29,
   "metadata": {},
   "outputs": [
    {
     "data": {
      "text/html": [
       "<div>\n",
       "<style scoped>\n",
       "    .dataframe tbody tr th:only-of-type {\n",
       "        vertical-align: middle;\n",
       "    }\n",
       "\n",
       "    .dataframe tbody tr th {\n",
       "        vertical-align: top;\n",
       "    }\n",
       "\n",
       "    .dataframe thead th {\n",
       "        text-align: right;\n",
       "    }\n",
       "</style>\n",
       "<table border=\"1\" class=\"dataframe\">\n",
       "  <thead>\n",
       "    <tr style=\"text-align: right;\">\n",
       "      <th></th>\n",
       "      <th>Zip_Code</th>\n",
       "      <th>Retired_workers_number</th>\n",
       "      <th>Disabled workers</th>\n",
       "      <th>Widow(er)s_and_parents_number</th>\n",
       "      <th>Spouses</th>\n",
       "      <th>Children</th>\n",
       "      <th>Retired workers</th>\n",
       "      <th>Widow(er)s and parents</th>\n",
       "      <th>Number of OASDI beneficiaries aged 65 or older</th>\n",
       "    </tr>\n",
       "  </thead>\n",
       "  <tbody>\n",
       "    <tr>\n",
       "      <th>2</th>\n",
       "      <td>35004</td>\n",
       "      <td>1410</td>\n",
       "      <td>385</td>\n",
       "      <td>160</td>\n",
       "      <td>70</td>\n",
       "      <td>210</td>\n",
       "      <td>2070</td>\n",
       "      <td>218</td>\n",
       "      <td>1510</td>\n",
       "    </tr>\n",
       "  </tbody>\n",
       "</table>\n",
       "</div>"
      ],
      "text/plain": [
       "  Zip_Code Retired_workers_number Disabled workers  \\\n",
       "2    35004                   1410              385   \n",
       "\n",
       "  Widow(er)s_and_parents_number Spouses Children Retired workers  \\\n",
       "2                           160      70      210            2070   \n",
       "\n",
       "  Widow(er)s and parents Number of OASDI beneficiaries aged 65 or older  \n",
       "2                    218                                           1510  "
      ]
     },
     "execution_count": 29,
     "metadata": {},
     "output_type": "execute_result"
    }
   ],
   "source": [
    "#droping column which exist in other dataframes\n",
    "df4 = df4.drop('State or area',axis =1)\n",
    "df4.head(1)"
   ]
  },
  {
   "cell_type": "code",
   "execution_count": 30,
   "metadata": {},
   "outputs": [
    {
     "data": {
      "text/plain": [
       "Zip_Code                                          7\n",
       "Retired_workers_number                            7\n",
       "Disabled workers                                  7\n",
       "Widow(er)s_and_parents_number                     7\n",
       "Spouses                                           7\n",
       "Children                                          7\n",
       "Retired workers                                   7\n",
       "Widow(er)s and parents                            7\n",
       "Number of OASDI beneficiaries aged 65 or older    7\n",
       "dtype: int64"
      ]
     },
     "execution_count": 30,
     "metadata": {},
     "output_type": "execute_result"
    }
   ],
   "source": [
    "#looking for null values\n",
    "df4.isnull().sum()"
   ]
  },
  {
   "cell_type": "code",
   "execution_count": 31,
   "metadata": {},
   "outputs": [
    {
     "data": {
      "text/plain": [
       "Zip_Code                                          0\n",
       "Retired_workers_number                            0\n",
       "Disabled workers                                  0\n",
       "Widow(er)s_and_parents_number                     0\n",
       "Spouses                                           0\n",
       "Children                                          0\n",
       "Retired workers                                   0\n",
       "Widow(er)s and parents                            0\n",
       "Number of OASDI beneficiaries aged 65 or older    0\n",
       "dtype: int64"
      ]
     },
     "execution_count": 31,
     "metadata": {},
     "output_type": "execute_result"
    }
   ],
   "source": [
    "#dataframe is relativly big so i decided to drop the null values\n",
    "df4.dropna(axis='rows',inplace=True)\n",
    "df4.isnull().sum()"
   ]
  },
  {
   "cell_type": "code",
   "execution_count": 32,
   "metadata": {},
   "outputs": [],
   "source": [
    "#changing the strings to integers\n",
    "for col in df4.columns:\n",
    "    df4[col] = df4[col].astype(int)\n",
    "    "
   ]
  },
  {
   "cell_type": "code",
   "execution_count": 33,
   "metadata": {},
   "outputs": [
    {
     "name": "stdout",
     "output_type": "stream",
     "text": [
      "<class 'pandas.core.frame.DataFrame'>\n",
      "Int64Index: 37320 entries, 2 to 37321\n",
      "Data columns (total 9 columns):\n",
      "Zip_Code                                          37320 non-null int64\n",
      "Retired_workers_number                            37320 non-null int64\n",
      "Disabled workers                                  37320 non-null int64\n",
      "Widow(er)s_and_parents_number                     37320 non-null int64\n",
      "Spouses                                           37320 non-null int64\n",
      "Children                                          37320 non-null int64\n",
      "Retired workers                                   37320 non-null int64\n",
      "Widow(er)s and parents                            37320 non-null int64\n",
      "Number of OASDI beneficiaries aged 65 or older    37320 non-null int64\n",
      "dtypes: int64(9)\n",
      "memory usage: 2.8 MB\n"
     ]
    }
   ],
   "source": [
    "df4.info()"
   ]
  },
  {
   "cell_type": "code",
   "execution_count": 34,
   "metadata": {},
   "outputs": [
    {
     "data": {
      "text/html": [
       "<div>\n",
       "<style scoped>\n",
       "    .dataframe tbody tr th:only-of-type {\n",
       "        vertical-align: middle;\n",
       "    }\n",
       "\n",
       "    .dataframe tbody tr th {\n",
       "        vertical-align: top;\n",
       "    }\n",
       "\n",
       "    .dataframe thead th {\n",
       "        text-align: right;\n",
       "    }\n",
       "</style>\n",
       "<table border=\"1\" class=\"dataframe\">\n",
       "  <thead>\n",
       "    <tr style=\"text-align: right;\">\n",
       "      <th></th>\n",
       "      <th>Zip_Code</th>\n",
       "      <th>Retired_workers_number</th>\n",
       "      <th>Disabled workers</th>\n",
       "      <th>Widow(er)s_and_parents_number</th>\n",
       "      <th>Spouses</th>\n",
       "      <th>Children</th>\n",
       "      <th>Retired workers</th>\n",
       "      <th>Widow(er)s and parents</th>\n",
       "      <th>Number of OASDI beneficiaries aged 65 or older</th>\n",
       "    </tr>\n",
       "  </thead>\n",
       "  <tbody>\n",
       "    <tr>\n",
       "      <th>Zip_Code</th>\n",
       "      <td>1.000000</td>\n",
       "      <td>-0.011399</td>\n",
       "      <td>-0.056829</td>\n",
       "      <td>-0.008655</td>\n",
       "      <td>0.032466</td>\n",
       "      <td>-0.029198</td>\n",
       "      <td>-0.018049</td>\n",
       "      <td>-0.007699</td>\n",
       "      <td>-0.010819</td>\n",
       "    </tr>\n",
       "    <tr>\n",
       "      <th>Retired_workers_number</th>\n",
       "      <td>-0.011399</td>\n",
       "      <td>1.000000</td>\n",
       "      <td>0.823089</td>\n",
       "      <td>0.946041</td>\n",
       "      <td>0.892991</td>\n",
       "      <td>0.824377</td>\n",
       "      <td>0.989924</td>\n",
       "      <td>0.961689</td>\n",
       "      <td>0.999088</td>\n",
       "    </tr>\n",
       "    <tr>\n",
       "      <th>Disabled workers</th>\n",
       "      <td>-0.056829</td>\n",
       "      <td>0.823089</td>\n",
       "      <td>1.000000</td>\n",
       "      <td>0.891936</td>\n",
       "      <td>0.720431</td>\n",
       "      <td>0.955947</td>\n",
       "      <td>0.766252</td>\n",
       "      <td>0.838595</td>\n",
       "      <td>0.822221</td>\n",
       "    </tr>\n",
       "    <tr>\n",
       "      <th>Widow(er)s_and_parents_number</th>\n",
       "      <td>-0.008655</td>\n",
       "      <td>0.946041</td>\n",
       "      <td>0.891936</td>\n",
       "      <td>1.000000</td>\n",
       "      <td>0.905113</td>\n",
       "      <td>0.888898</td>\n",
       "      <td>0.913930</td>\n",
       "      <td>0.983303</td>\n",
       "      <td>0.953183</td>\n",
       "    </tr>\n",
       "    <tr>\n",
       "      <th>Spouses</th>\n",
       "      <td>0.032466</td>\n",
       "      <td>0.892991</td>\n",
       "      <td>0.720431</td>\n",
       "      <td>0.905113</td>\n",
       "      <td>1.000000</td>\n",
       "      <td>0.753852</td>\n",
       "      <td>0.871829</td>\n",
       "      <td>0.895361</td>\n",
       "      <td>0.907647</td>\n",
       "    </tr>\n",
       "    <tr>\n",
       "      <th>Children</th>\n",
       "      <td>-0.029198</td>\n",
       "      <td>0.824377</td>\n",
       "      <td>0.955947</td>\n",
       "      <td>0.888898</td>\n",
       "      <td>0.753852</td>\n",
       "      <td>1.000000</td>\n",
       "      <td>0.775316</td>\n",
       "      <td>0.843401</td>\n",
       "      <td>0.825170</td>\n",
       "    </tr>\n",
       "    <tr>\n",
       "      <th>Retired workers</th>\n",
       "      <td>-0.018049</td>\n",
       "      <td>0.989924</td>\n",
       "      <td>0.766252</td>\n",
       "      <td>0.913930</td>\n",
       "      <td>0.871829</td>\n",
       "      <td>0.775316</td>\n",
       "      <td>1.000000</td>\n",
       "      <td>0.952623</td>\n",
       "      <td>0.988688</td>\n",
       "    </tr>\n",
       "    <tr>\n",
       "      <th>Widow(er)s and parents</th>\n",
       "      <td>-0.007699</td>\n",
       "      <td>0.961689</td>\n",
       "      <td>0.838595</td>\n",
       "      <td>0.983303</td>\n",
       "      <td>0.895361</td>\n",
       "      <td>0.843401</td>\n",
       "      <td>0.952623</td>\n",
       "      <td>1.000000</td>\n",
       "      <td>0.967595</td>\n",
       "    </tr>\n",
       "    <tr>\n",
       "      <th>Number of OASDI beneficiaries aged 65 or older</th>\n",
       "      <td>-0.010819</td>\n",
       "      <td>0.999088</td>\n",
       "      <td>0.822221</td>\n",
       "      <td>0.953183</td>\n",
       "      <td>0.907647</td>\n",
       "      <td>0.825170</td>\n",
       "      <td>0.988688</td>\n",
       "      <td>0.967595</td>\n",
       "      <td>1.000000</td>\n",
       "    </tr>\n",
       "  </tbody>\n",
       "</table>\n",
       "</div>"
      ],
      "text/plain": [
       "                                                Zip_Code  \\\n",
       "Zip_Code                                        1.000000   \n",
       "Retired_workers_number                         -0.011399   \n",
       "Disabled workers                               -0.056829   \n",
       "Widow(er)s_and_parents_number                  -0.008655   \n",
       "Spouses                                         0.032466   \n",
       "Children                                       -0.029198   \n",
       "Retired workers                                -0.018049   \n",
       "Widow(er)s and parents                         -0.007699   \n",
       "Number of OASDI beneficiaries aged 65 or older -0.010819   \n",
       "\n",
       "                                                Retired_workers_number  \\\n",
       "Zip_Code                                                     -0.011399   \n",
       "Retired_workers_number                                        1.000000   \n",
       "Disabled workers                                              0.823089   \n",
       "Widow(er)s_and_parents_number                                 0.946041   \n",
       "Spouses                                                       0.892991   \n",
       "Children                                                      0.824377   \n",
       "Retired workers                                               0.989924   \n",
       "Widow(er)s and parents                                        0.961689   \n",
       "Number of OASDI beneficiaries aged 65 or older                0.999088   \n",
       "\n",
       "                                                Disabled workers  \\\n",
       "Zip_Code                                               -0.056829   \n",
       "Retired_workers_number                                  0.823089   \n",
       "Disabled workers                                        1.000000   \n",
       "Widow(er)s_and_parents_number                           0.891936   \n",
       "Spouses                                                 0.720431   \n",
       "Children                                                0.955947   \n",
       "Retired workers                                         0.766252   \n",
       "Widow(er)s and parents                                  0.838595   \n",
       "Number of OASDI beneficiaries aged 65 or older          0.822221   \n",
       "\n",
       "                                                Widow(er)s_and_parents_number  \\\n",
       "Zip_Code                                                            -0.008655   \n",
       "Retired_workers_number                                               0.946041   \n",
       "Disabled workers                                                     0.891936   \n",
       "Widow(er)s_and_parents_number                                        1.000000   \n",
       "Spouses                                                              0.905113   \n",
       "Children                                                             0.888898   \n",
       "Retired workers                                                      0.913930   \n",
       "Widow(er)s and parents                                               0.983303   \n",
       "Number of OASDI beneficiaries aged 65 or older                       0.953183   \n",
       "\n",
       "                                                 Spouses  Children  \\\n",
       "Zip_Code                                        0.032466 -0.029198   \n",
       "Retired_workers_number                          0.892991  0.824377   \n",
       "Disabled workers                                0.720431  0.955947   \n",
       "Widow(er)s_and_parents_number                   0.905113  0.888898   \n",
       "Spouses                                         1.000000  0.753852   \n",
       "Children                                        0.753852  1.000000   \n",
       "Retired workers                                 0.871829  0.775316   \n",
       "Widow(er)s and parents                          0.895361  0.843401   \n",
       "Number of OASDI beneficiaries aged 65 or older  0.907647  0.825170   \n",
       "\n",
       "                                                Retired workers  \\\n",
       "Zip_Code                                              -0.018049   \n",
       "Retired_workers_number                                 0.989924   \n",
       "Disabled workers                                       0.766252   \n",
       "Widow(er)s_and_parents_number                          0.913930   \n",
       "Spouses                                                0.871829   \n",
       "Children                                               0.775316   \n",
       "Retired workers                                        1.000000   \n",
       "Widow(er)s and parents                                 0.952623   \n",
       "Number of OASDI beneficiaries aged 65 or older         0.988688   \n",
       "\n",
       "                                                Widow(er)s and parents  \\\n",
       "Zip_Code                                                     -0.007699   \n",
       "Retired_workers_number                                        0.961689   \n",
       "Disabled workers                                              0.838595   \n",
       "Widow(er)s_and_parents_number                                 0.983303   \n",
       "Spouses                                                       0.895361   \n",
       "Children                                                      0.843401   \n",
       "Retired workers                                               0.952623   \n",
       "Widow(er)s and parents                                        1.000000   \n",
       "Number of OASDI beneficiaries aged 65 or older                0.967595   \n",
       "\n",
       "                                                Number of OASDI beneficiaries aged 65 or older  \n",
       "Zip_Code                                                                             -0.010819  \n",
       "Retired_workers_number                                                                0.999088  \n",
       "Disabled workers                                                                      0.822221  \n",
       "Widow(er)s_and_parents_number                                                         0.953183  \n",
       "Spouses                                                                               0.907647  \n",
       "Children                                                                              0.825170  \n",
       "Retired workers                                                                       0.988688  \n",
       "Widow(er)s and parents                                                                0.967595  \n",
       "Number of OASDI beneficiaries aged 65 or older                                        1.000000  "
      ]
     },
     "execution_count": 34,
     "metadata": {},
     "output_type": "execute_result"
    }
   ],
   "source": [
    "df4.corr()"
   ]
  },
  {
   "cell_type": "code",
   "execution_count": 35,
   "metadata": {},
   "outputs": [],
   "source": [
    "#droping rows with very high multicolinearity\n",
    "df4 = df4.drop(['Retired workers', 'Widow(er)s and parents','Number of OASDI beneficiaries aged 65 or older'],axis = 1)"
   ]
  },
  {
   "cell_type": "code",
   "execution_count": 36,
   "metadata": {},
   "outputs": [
    {
     "data": {
      "image/png": "[encoded data removed]",
      "text/plain": [
       "<Figure size 1080x576 with 1 Axes>"
      ]
     },
     "metadata": {
      "needs_background": "light"
     },
     "output_type": "display_data"
    }
   ],
   "source": [
    "#looking how the data is spread\n",
    "list_for_box = list(df4.columns.values)\n",
    "list_for_box.pop(0)\n",
    "\n",
    "# Create a Box Whisker Plot of each column\n",
    "plt.figure(figsize=(15, 8))\n",
    "plt.boxplot([df4[col] for col in df4.columns if col!='Zip_Code' ])\n",
    "plt.title(\"Box Whisker Plot of Each Column in Dataset\")\n",
    "plt.xticks(range(len(df4.columns.values)), ['']+list_for_box, rotation=60)\n",
    "plt.show()"
   ]
  },
  {
   "cell_type": "code",
   "execution_count": 37,
   "metadata": {},
   "outputs": [
    {
     "data": {
      "text/plain": [
       "24452"
      ]
     },
     "execution_count": 37,
     "metadata": {},
     "output_type": "execute_result"
    }
   ],
   "source": [
    "#droping rows when some values equal to 0\n",
    "for col in df4.columns:\n",
    "    df4 = df4[df4[col] > 5]\n",
    "    \n",
    "len(df4)"
   ]
  },
  {
   "cell_type": "code",
   "execution_count": 38,
   "metadata": {},
   "outputs": [
    {
     "data": {
      "text/html": [
       "<div>\n",
       "<style scoped>\n",
       "    .dataframe tbody tr th:only-of-type {\n",
       "        vertical-align: middle;\n",
       "    }\n",
       "\n",
       "    .dataframe tbody tr th {\n",
       "        vertical-align: top;\n",
       "    }\n",
       "\n",
       "    .dataframe thead th {\n",
       "        text-align: right;\n",
       "    }\n",
       "</style>\n",
       "<table border=\"1\" class=\"dataframe\">\n",
       "  <thead>\n",
       "    <tr style=\"text-align: right;\">\n",
       "      <th></th>\n",
       "      <th>State_Name</th>\n",
       "      <th>Type</th>\n",
       "      <th>Zip_Code</th>\n",
       "      <th>ALand</th>\n",
       "      <th>AWater</th>\n",
       "      <th>Mean</th>\n",
       "      <th>Median</th>\n",
       "      <th>Stdev</th>\n",
       "      <th>Population</th>\n",
       "      <th>Retired_workers_number</th>\n",
       "      <th>Disabled workers</th>\n",
       "      <th>Widow(er)s_and_parents_number</th>\n",
       "      <th>Spouses</th>\n",
       "      <th>Children</th>\n",
       "    </tr>\n",
       "  </thead>\n",
       "  <tbody>\n",
       "    <tr>\n",
       "      <th>0</th>\n",
       "      <td>Alabama</td>\n",
       "      <td>City</td>\n",
       "      <td>36611</td>\n",
       "      <td>10894952</td>\n",
       "      <td>909156</td>\n",
       "      <td>38773</td>\n",
       "      <td>30506</td>\n",
       "      <td>33101</td>\n",
       "      <td>5955</td>\n",
       "      <td>735</td>\n",
       "      <td>325</td>\n",
       "      <td>130</td>\n",
       "      <td>40</td>\n",
       "      <td>125</td>\n",
       "    </tr>\n",
       "    <tr>\n",
       "      <th>1</th>\n",
       "      <td>Alabama</td>\n",
       "      <td>City</td>\n",
       "      <td>36048</td>\n",
       "      <td>26070325</td>\n",
       "      <td>23254</td>\n",
       "      <td>37725</td>\n",
       "      <td>19528</td>\n",
       "      <td>43789</td>\n",
       "      <td>1430</td>\n",
       "      <td>310</td>\n",
       "      <td>125</td>\n",
       "      <td>40</td>\n",
       "      <td>10</td>\n",
       "      <td>50</td>\n",
       "    </tr>\n",
       "  </tbody>\n",
       "</table>\n",
       "</div>"
      ],
      "text/plain": [
       "  State_Name  Type  Zip_Code     ALand  AWater   Mean  Median  Stdev  \\\n",
       "0    Alabama  City     36611  10894952  909156  38773   30506  33101   \n",
       "1    Alabama  City     36048  26070325   23254  37725   19528  43789   \n",
       "\n",
       "   Population  Retired_workers_number  Disabled workers  \\\n",
       "0        5955                     735               325   \n",
       "1        1430                     310               125   \n",
       "\n",
       "   Widow(er)s_and_parents_number  Spouses  Children  \n",
       "0                            130       40       125  \n",
       "1                             40       10        50  "
      ]
     },
     "execution_count": 38,
     "metadata": {},
     "output_type": "execute_result"
    }
   ],
   "source": [
    "#merging with data frame with financial and geographical data\n",
    "df5 = pd.merge(df3, df4, on='Zip_Code', how='inner')\n",
    "df5.head(2)"
   ]
  },
  {
   "cell_type": "code",
   "execution_count": 39,
   "metadata": {},
   "outputs": [
    {
     "name": "stdout",
     "output_type": "stream",
     "text": [
      "<class 'pandas.core.frame.DataFrame'>\n",
      "Int64Index: 13528 entries, 0 to 13527\n",
      "Data columns (total 14 columns):\n",
      "State_Name                       13528 non-null object\n",
      "Type                             13528 non-null object\n",
      "Zip_Code                         13528 non-null int64\n",
      "ALand                            13528 non-null int64\n",
      "AWater                           13528 non-null int64\n",
      "Mean                             13528 non-null int64\n",
      "Median                           13528 non-null int64\n",
      "Stdev                            13528 non-null int64\n",
      "Population                       13528 non-null int64\n",
      "Retired_workers_number           13528 non-null int64\n",
      "Disabled workers                 13528 non-null int64\n",
      "Widow(er)s_and_parents_number    13528 non-null int64\n",
      "Spouses                          13528 non-null int64\n",
      "Children                         13528 non-null int64\n",
      "dtypes: int64(12), object(2)\n",
      "memory usage: 1.5+ MB\n"
     ]
    }
   ],
   "source": [
    "df5.info()"
   ]
  },
  {
   "cell_type": "code",
   "execution_count": 40,
   "metadata": {},
   "outputs": [
    {
     "data": {
      "text/html": [
       "<div>\n",
       "<style scoped>\n",
       "    .dataframe tbody tr th:only-of-type {\n",
       "        vertical-align: middle;\n",
       "    }\n",
       "\n",
       "    .dataframe tbody tr th {\n",
       "        vertical-align: top;\n",
       "    }\n",
       "\n",
       "    .dataframe thead th {\n",
       "        text-align: right;\n",
       "    }\n",
       "</style>\n",
       "<table border=\"1\" class=\"dataframe\">\n",
       "  <thead>\n",
       "    <tr style=\"text-align: right;\">\n",
       "      <th></th>\n",
       "      <th>zip</th>\n",
       "      <th>lat</th>\n",
       "      <th>lng</th>\n",
       "      <th>city</th>\n",
       "      <th>state_id</th>\n",
       "      <th>state_name</th>\n",
       "      <th>zcta</th>\n",
       "      <th>parent_zcta</th>\n",
       "      <th>population</th>\n",
       "      <th>density</th>\n",
       "      <th>county_fips</th>\n",
       "      <th>county_name</th>\n",
       "      <th>all_county_weights</th>\n",
       "      <th>imprecise</th>\n",
       "      <th>military</th>\n",
       "      <th>timezone</th>\n",
       "    </tr>\n",
       "  </thead>\n",
       "  <tbody>\n",
       "    <tr>\n",
       "      <th>0</th>\n",
       "      <td>601</td>\n",
       "      <td>18.1800</td>\n",
       "      <td>-66.7522</td>\n",
       "      <td>Adjuntas</td>\n",
       "      <td>PR</td>\n",
       "      <td>Puerto Rico</td>\n",
       "      <td>True</td>\n",
       "      <td>NaN</td>\n",
       "      <td>18570</td>\n",
       "      <td>111.4</td>\n",
       "      <td>72001</td>\n",
       "      <td>Adjuntas</td>\n",
       "      <td>{'72001':99.43,'72141':0.57}</td>\n",
       "      <td>False</td>\n",
       "      <td>False</td>\n",
       "      <td>America/Puerto_Rico</td>\n",
       "    </tr>\n",
       "    <tr>\n",
       "      <th>1</th>\n",
       "      <td>602</td>\n",
       "      <td>18.3607</td>\n",
       "      <td>-67.1752</td>\n",
       "      <td>Aguada</td>\n",
       "      <td>PR</td>\n",
       "      <td>Puerto Rico</td>\n",
       "      <td>True</td>\n",
       "      <td>NaN</td>\n",
       "      <td>41520</td>\n",
       "      <td>523.7</td>\n",
       "      <td>72003</td>\n",
       "      <td>Aguada</td>\n",
       "      <td>{'72003':100}</td>\n",
       "      <td>False</td>\n",
       "      <td>False</td>\n",
       "      <td>America/Puerto_Rico</td>\n",
       "    </tr>\n",
       "    <tr>\n",
       "      <th>2</th>\n",
       "      <td>603</td>\n",
       "      <td>18.4544</td>\n",
       "      <td>-67.1220</td>\n",
       "      <td>Aguadilla</td>\n",
       "      <td>PR</td>\n",
       "      <td>Puerto Rico</td>\n",
       "      <td>True</td>\n",
       "      <td>NaN</td>\n",
       "      <td>54689</td>\n",
       "      <td>667.9</td>\n",
       "      <td>72005</td>\n",
       "      <td>Aguadilla</td>\n",
       "      <td>{'72005':100}</td>\n",
       "      <td>False</td>\n",
       "      <td>False</td>\n",
       "      <td>America/Puerto_Rico</td>\n",
       "    </tr>\n",
       "  </tbody>\n",
       "</table>\n",
       "</div>"
      ],
      "text/plain": [
       "   zip      lat      lng       city state_id   state_name  zcta  parent_zcta  \\\n",
       "0  601  18.1800 -66.7522   Adjuntas       PR  Puerto Rico  True          NaN   \n",
       "1  602  18.3607 -67.1752     Aguada       PR  Puerto Rico  True          NaN   \n",
       "2  603  18.4544 -67.1220  Aguadilla       PR  Puerto Rico  True          NaN   \n",
       "\n",
       "   population  density  county_fips county_name            all_county_weights  \\\n",
       "0       18570    111.4        72001    Adjuntas  {'72001':99.43,'72141':0.57}   \n",
       "1       41520    523.7        72003      Aguada                 {'72003':100}   \n",
       "2       54689    667.9        72005   Aguadilla                 {'72005':100}   \n",
       "\n",
       "   imprecise  military             timezone  \n",
       "0      False     False  America/Puerto_Rico  \n",
       "1      False     False  America/Puerto_Rico  \n",
       "2      False     False  America/Puerto_Rico  "
      ]
     },
     "execution_count": 40,
     "metadata": {},
     "output_type": "execute_result"
    }
   ],
   "source": [
    "#import one more dataframe to have also data about density in each zip code\n",
    "df_denst = pd.read_csv('data_sets/uszips.csv')\n",
    "df_denst.head(3)"
   ]
  },
  {
   "cell_type": "code",
   "execution_count": 41,
   "metadata": {},
   "outputs": [
    {
     "data": {
      "text/html": [
       "<div>\n",
       "<style scoped>\n",
       "    .dataframe tbody tr th:only-of-type {\n",
       "        vertical-align: middle;\n",
       "    }\n",
       "\n",
       "    .dataframe tbody tr th {\n",
       "        vertical-align: top;\n",
       "    }\n",
       "\n",
       "    .dataframe thead th {\n",
       "        text-align: right;\n",
       "    }\n",
       "</style>\n",
       "<table border=\"1\" class=\"dataframe\">\n",
       "  <thead>\n",
       "    <tr style=\"text-align: right;\">\n",
       "      <th></th>\n",
       "      <th>zip</th>\n",
       "      <th>density</th>\n",
       "    </tr>\n",
       "  </thead>\n",
       "  <tbody>\n",
       "    <tr>\n",
       "      <th>0</th>\n",
       "      <td>601</td>\n",
       "      <td>111.4</td>\n",
       "    </tr>\n",
       "    <tr>\n",
       "      <th>1</th>\n",
       "      <td>602</td>\n",
       "      <td>523.7</td>\n",
       "    </tr>\n",
       "  </tbody>\n",
       "</table>\n",
       "</div>"
      ],
      "text/plain": [
       "   zip  density\n",
       "0  601    111.4\n",
       "1  602    523.7"
      ]
     },
     "execution_count": 41,
     "metadata": {},
     "output_type": "execute_result"
    }
   ],
   "source": [
    "#keeping only the zip code column (for the merging) and the density column\n",
    "df_denst = df_denst[['zip','density']]\n",
    "df_denst.head(2)"
   ]
  },
  {
   "cell_type": "code",
   "execution_count": 42,
   "metadata": {},
   "outputs": [],
   "source": [
    "#renaming column in order to merge with df5\n",
    "df_denst = df_denst.rename(index=str, columns={\"zip\": \"Zip_Code\"})"
   ]
  },
  {
   "cell_type": "code",
   "execution_count": 43,
   "metadata": {},
   "outputs": [
    {
     "name": "stdout",
     "output_type": "stream",
     "text": [
      "<class 'pandas.core.frame.DataFrame'>\n",
      "Index: 33099 entries, 0 to 33098\n",
      "Data columns (total 2 columns):\n",
      "Zip_Code    33099 non-null int64\n",
      "density     33099 non-null float64\n",
      "dtypes: float64(1), int64(1)\n",
      "memory usage: 775.8+ KB\n"
     ]
    }
   ],
   "source": [
    "#checking that the colum of zip code is integer (like in df5)\n",
    "df_denst.info()"
   ]
  },
  {
   "cell_type": "code",
   "execution_count": 44,
   "metadata": {},
   "outputs": [
    {
     "data": {
      "text/html": [
       "<div>\n",
       "<style scoped>\n",
       "    .dataframe tbody tr th:only-of-type {\n",
       "        vertical-align: middle;\n",
       "    }\n",
       "\n",
       "    .dataframe tbody tr th {\n",
       "        vertical-align: top;\n",
       "    }\n",
       "\n",
       "    .dataframe thead th {\n",
       "        text-align: right;\n",
       "    }\n",
       "</style>\n",
       "<table border=\"1\" class=\"dataframe\">\n",
       "  <thead>\n",
       "    <tr style=\"text-align: right;\">\n",
       "      <th></th>\n",
       "      <th>State_Name</th>\n",
       "      <th>Type</th>\n",
       "      <th>Zip_Code</th>\n",
       "      <th>ALand</th>\n",
       "      <th>AWater</th>\n",
       "      <th>Mean</th>\n",
       "      <th>Median</th>\n",
       "      <th>Stdev</th>\n",
       "      <th>Population</th>\n",
       "      <th>Retired_workers_number</th>\n",
       "      <th>Disabled workers</th>\n",
       "      <th>Widow(er)s_and_parents_number</th>\n",
       "      <th>Spouses</th>\n",
       "      <th>Children</th>\n",
       "      <th>density</th>\n",
       "    </tr>\n",
       "  </thead>\n",
       "  <tbody>\n",
       "    <tr>\n",
       "      <th>0</th>\n",
       "      <td>Alabama</td>\n",
       "      <td>City</td>\n",
       "      <td>36611</td>\n",
       "      <td>10894952</td>\n",
       "      <td>909156</td>\n",
       "      <td>38773</td>\n",
       "      <td>30506</td>\n",
       "      <td>33101</td>\n",
       "      <td>5955</td>\n",
       "      <td>735</td>\n",
       "      <td>325</td>\n",
       "      <td>130</td>\n",
       "      <td>40</td>\n",
       "      <td>125</td>\n",
       "      <td>496.2</td>\n",
       "    </tr>\n",
       "    <tr>\n",
       "      <th>1</th>\n",
       "      <td>Alabama</td>\n",
       "      <td>City</td>\n",
       "      <td>36048</td>\n",
       "      <td>26070325</td>\n",
       "      <td>23254</td>\n",
       "      <td>37725</td>\n",
       "      <td>19528</td>\n",
       "      <td>43789</td>\n",
       "      <td>1430</td>\n",
       "      <td>310</td>\n",
       "      <td>125</td>\n",
       "      <td>40</td>\n",
       "      <td>10</td>\n",
       "      <td>50</td>\n",
       "      <td>5.3</td>\n",
       "    </tr>\n",
       "  </tbody>\n",
       "</table>\n",
       "</div>"
      ],
      "text/plain": [
       "  State_Name  Type  Zip_Code     ALand  AWater   Mean  Median  Stdev  \\\n",
       "0    Alabama  City     36611  10894952  909156  38773   30506  33101   \n",
       "1    Alabama  City     36048  26070325   23254  37725   19528  43789   \n",
       "\n",
       "   Population  Retired_workers_number  Disabled workers  \\\n",
       "0        5955                     735               325   \n",
       "1        1430                     310               125   \n",
       "\n",
       "   Widow(er)s_and_parents_number  Spouses  Children  density  \n",
       "0                            130       40       125    496.2  \n",
       "1                             40       10        50      5.3  "
      ]
     },
     "execution_count": 44,
     "metadata": {},
     "output_type": "execute_result"
    }
   ],
   "source": [
    "#merging with df5\n",
    "df5 = pd.merge(df5, df_denst, on='Zip_Code', how='inner')\n",
    "df5.head(2)"
   ]
  },
  {
   "cell_type": "code",
   "execution_count": 45,
   "metadata": {},
   "outputs": [
    {
     "data": {
      "image/png": "[encoded data removed]",
      "text/plain": [
       "<Figure size 1440x720 with 1 Axes>"
      ]
     },
     "metadata": {
      "needs_background": "light"
     },
     "output_type": "display_data"
    }
   ],
   "source": [
    "#inspecting median, average and standard deviation\n",
    "plt.figure(figsize=(20, 10))\n",
    "boxplot = df5.boxplot(column=['Mean', 'Median','Stdev'])\n",
    "plt.show();"
   ]
  },
  {
   "cell_type": "code",
   "execution_count": 46,
   "metadata": {},
   "outputs": [
    {
     "data": {
      "text/plain": [
       "13528"
      ]
     },
     "execution_count": 46,
     "metadata": {},
     "output_type": "execute_result"
    }
   ],
   "source": [
    "len(df5)"
   ]
  },
  {
   "cell_type": "code",
   "execution_count": 47,
   "metadata": {},
   "outputs": [],
   "source": [
    "#erasing values of Median= 300,000 which are mistakes and zip codes with less than 1000 poeple\n",
    "df5 = df5[df5.Median != 300000]\n",
    "df5 = df5[df5.Median>1000]"
   ]
  },
  {
   "cell_type": "code",
   "execution_count": 48,
   "metadata": {},
   "outputs": [
    {
     "data": {
      "text/plain": [
       "11620"
      ]
     },
     "execution_count": 48,
     "metadata": {},
     "output_type": "execute_result"
    }
   ],
   "source": [
    "len(df5)"
   ]
  },
  {
   "cell_type": "code",
   "execution_count": 49,
   "metadata": {},
   "outputs": [
    {
     "data": {
      "image/png": "[encoded data removed]",
      "text/plain": [
       "<Figure size 576x360 with 1 Axes>"
      ]
     },
     "metadata": {
      "needs_background": "light"
     },
     "output_type": "display_data"
    }
   ],
   "source": [
    "plt.figure(figsize=(8,5 ))\n",
    "boxplot = df5.boxplot(column=['Mean', 'Median'])\n",
    "plt.show();"
   ]
  },
  {
   "cell_type": "code",
   "execution_count": 50,
   "metadata": {
    "scrolled": true
   },
   "outputs": [
    {
     "data": {
      "text/html": [
       "<div>\n",
       "<style scoped>\n",
       "    .dataframe tbody tr th:only-of-type {\n",
       "        vertical-align: middle;\n",
       "    }\n",
       "\n",
       "    .dataframe tbody tr th {\n",
       "        vertical-align: top;\n",
       "    }\n",
       "\n",
       "    .dataframe thead th {\n",
       "        text-align: right;\n",
       "    }\n",
       "</style>\n",
       "<table border=\"1\" class=\"dataframe\">\n",
       "  <thead>\n",
       "    <tr style=\"text-align: right;\">\n",
       "      <th></th>\n",
       "      <th>State_Name</th>\n",
       "      <th>Type</th>\n",
       "      <th>Zip_Code</th>\n",
       "      <th>ALand</th>\n",
       "      <th>AWater</th>\n",
       "      <th>Mean</th>\n",
       "      <th>Median</th>\n",
       "      <th>Stdev</th>\n",
       "      <th>Population</th>\n",
       "      <th>Retired_workers_number</th>\n",
       "      <th>Disabled workers</th>\n",
       "      <th>Widow(er)s_and_parents_number</th>\n",
       "      <th>Spouses</th>\n",
       "      <th>Children</th>\n",
       "      <th>density</th>\n",
       "    </tr>\n",
       "  </thead>\n",
       "  <tbody>\n",
       "    <tr>\n",
       "      <th>0</th>\n",
       "      <td>Alabama</td>\n",
       "      <td>City</td>\n",
       "      <td>36611</td>\n",
       "      <td>10894952</td>\n",
       "      <td>909156</td>\n",
       "      <td>38773</td>\n",
       "      <td>30506</td>\n",
       "      <td>33101</td>\n",
       "      <td>5955</td>\n",
       "      <td>735</td>\n",
       "      <td>325</td>\n",
       "      <td>130</td>\n",
       "      <td>40</td>\n",
       "      <td>125</td>\n",
       "      <td>496.2</td>\n",
       "    </tr>\n",
       "    <tr>\n",
       "      <th>1</th>\n",
       "      <td>Alabama</td>\n",
       "      <td>City</td>\n",
       "      <td>36048</td>\n",
       "      <td>26070325</td>\n",
       "      <td>23254</td>\n",
       "      <td>37725</td>\n",
       "      <td>19528</td>\n",
       "      <td>43789</td>\n",
       "      <td>1430</td>\n",
       "      <td>310</td>\n",
       "      <td>125</td>\n",
       "      <td>40</td>\n",
       "      <td>10</td>\n",
       "      <td>50</td>\n",
       "      <td>5.3</td>\n",
       "    </tr>\n",
       "  </tbody>\n",
       "</table>\n",
       "</div>"
      ],
      "text/plain": [
       "  State_Name  Type  Zip_Code     ALand  AWater   Mean  Median  Stdev  \\\n",
       "0    Alabama  City     36611  10894952  909156  38773   30506  33101   \n",
       "1    Alabama  City     36048  26070325   23254  37725   19528  43789   \n",
       "\n",
       "   Population  Retired_workers_number  Disabled workers  \\\n",
       "0        5955                     735               325   \n",
       "1        1430                     310               125   \n",
       "\n",
       "   Widow(er)s_and_parents_number  Spouses  Children  density  \n",
       "0                            130       40       125    496.2  \n",
       "1                             40       10        50      5.3  "
      ]
     },
     "execution_count": 50,
     "metadata": {},
     "output_type": "execute_result"
    }
   ],
   "source": [
    "df5.head(2)"
   ]
  },
  {
   "cell_type": "code",
   "execution_count": 51,
   "metadata": {
    "scrolled": true
   },
   "outputs": [
    {
     "data": {
      "image/png": "[encoded data removed]",
      "text/plain": [
       "<Figure size 432x288 with 1 Axes>"
      ]
     },
     "metadata": {
      "needs_background": "light"
     },
     "output_type": "display_data"
    }
   ],
   "source": [
    "#Checking the distribution of the Median and Mean\n",
    "sns.distplot(df5['Median']);\n",
    "sns.distplot(df5['Mean']);"
   ]
  },
  {
   "cell_type": "code",
   "execution_count": 52,
   "metadata": {},
   "outputs": [
    {
     "data": {
      "image/png": "[encoded data removed]",
      "text/plain": [
       "<Figure size 1080x1440 with 16 Axes>"
      ]
     },
     "metadata": {
      "needs_background": "light"
     },
     "output_type": "display_data"
    }
   ],
   "source": [
    "fig = plt.figure(figsize=(15,20))\n",
    "ax = fig.gca()\n",
    "df5.hist(ax=ax);"
   ]
  },
  {
   "cell_type": "markdown",
   "metadata": {},
   "source": [
    "Median and Mean distrinution is similar. I decided to work with the Median."
   ]
  },
  {
   "cell_type": "code",
   "execution_count": 53,
   "metadata": {},
   "outputs": [
    {
     "data": {
      "text/plain": [
       "Track           9548\n",
       "City             807\n",
       "CDP              543\n",
       "Town             318\n",
       "Village          284\n",
       "Borough           95\n",
       "Community         14\n",
       "Urban              8\n",
       "County             2\n",
       "Municipality       1\n",
       "Name: Type, dtype: int64"
      ]
     },
     "execution_count": 53,
     "metadata": {},
     "output_type": "execute_result"
    }
   ],
   "source": [
    "#Checking which kind of classifications the zip codes have\n",
    "df5['Type'].value_counts()"
   ]
  },
  {
   "cell_type": "code",
   "execution_count": 54,
   "metadata": {},
   "outputs": [],
   "source": [
    "#assign values with small values counts to other similiar values\n",
    "df5['Type'] = df5['Type'].replace(['Municipality', 'County'], 'Community')\n",
    "df5['Type'] = df5['Type'].replace(['Urban'], 'City')"
   ]
  },
  {
   "cell_type": "code",
   "execution_count": 55,
   "metadata": {},
   "outputs": [
    {
     "data": {
      "text/plain": [
       "Track        9548\n",
       "City          815\n",
       "CDP           543\n",
       "Town          318\n",
       "Village       284\n",
       "Borough        95\n",
       "Community      17\n",
       "Name: Type, dtype: int64"
      ]
     },
     "execution_count": 55,
     "metadata": {},
     "output_type": "execute_result"
    }
   ],
   "source": [
    "df5['Type'].value_counts()"
   ]
  },
  {
   "cell_type": "code",
   "execution_count": 56,
   "metadata": {
    "scrolled": true
   },
   "outputs": [
    {
     "data": {
      "text/html": [
       "<div>\n",
       "<style scoped>\n",
       "    .dataframe tbody tr th:only-of-type {\n",
       "        vertical-align: middle;\n",
       "    }\n",
       "\n",
       "    .dataframe tbody tr th {\n",
       "        vertical-align: top;\n",
       "    }\n",
       "\n",
       "    .dataframe thead th {\n",
       "        text-align: right;\n",
       "    }\n",
       "</style>\n",
       "<table border=\"1\" class=\"dataframe\">\n",
       "  <thead>\n",
       "    <tr style=\"text-align: right;\">\n",
       "      <th></th>\n",
       "      <th>Zip_Code</th>\n",
       "      <th>ALand</th>\n",
       "      <th>AWater</th>\n",
       "      <th>Mean</th>\n",
       "      <th>Median</th>\n",
       "      <th>Stdev</th>\n",
       "      <th>Population</th>\n",
       "      <th>Retired_workers_number</th>\n",
       "      <th>Disabled workers</th>\n",
       "      <th>Widow(er)s_and_parents_number</th>\n",
       "      <th>Spouses</th>\n",
       "      <th>Children</th>\n",
       "      <th>density</th>\n",
       "    </tr>\n",
       "  </thead>\n",
       "  <tbody>\n",
       "    <tr>\n",
       "      <th>count</th>\n",
       "      <td>11620.000000</td>\n",
       "      <td>1.162000e+04</td>\n",
       "      <td>1.162000e+04</td>\n",
       "      <td>11620.000000</td>\n",
       "      <td>11620.000000</td>\n",
       "      <td>11620.000000</td>\n",
       "      <td>11620.000000</td>\n",
       "      <td>11620.000000</td>\n",
       "      <td>11620.000000</td>\n",
       "      <td>11620.000000</td>\n",
       "      <td>11620.000000</td>\n",
       "      <td>11620.000000</td>\n",
       "      <td>11620.000000</td>\n",
       "    </tr>\n",
       "    <tr>\n",
       "      <th>mean</th>\n",
       "      <td>48898.890103</td>\n",
       "      <td>1.217729e+08</td>\n",
       "      <td>3.073862e+06</td>\n",
       "      <td>63595.035112</td>\n",
       "      <td>53263.228227</td>\n",
       "      <td>46915.822375</td>\n",
       "      <td>19828.621429</td>\n",
       "      <td>2477.926850</td>\n",
       "      <td>525.301635</td>\n",
       "      <td>238.198795</td>\n",
       "      <td>140.240103</td>\n",
       "      <td>248.698795</td>\n",
       "      <td>902.856558</td>\n",
       "    </tr>\n",
       "    <tr>\n",
       "      <th>std</th>\n",
       "      <td>27908.066422</td>\n",
       "      <td>6.484929e+08</td>\n",
       "      <td>2.317899e+07</td>\n",
       "      <td>26564.874206</td>\n",
       "      <td>27592.104233</td>\n",
       "      <td>15098.199318</td>\n",
       "      <td>17026.341719</td>\n",
       "      <td>2007.081888</td>\n",
       "      <td>456.906433</td>\n",
       "      <td>189.034663</td>\n",
       "      <td>135.714308</td>\n",
       "      <td>215.206309</td>\n",
       "      <td>2526.763826</td>\n",
       "    </tr>\n",
       "    <tr>\n",
       "      <th>min</th>\n",
       "      <td>601.000000</td>\n",
       "      <td>6.909400e+04</td>\n",
       "      <td>0.000000e+00</td>\n",
       "      <td>6804.000000</td>\n",
       "      <td>5252.000000</td>\n",
       "      <td>5600.000000</td>\n",
       "      <td>1002.000000</td>\n",
       "      <td>35.000000</td>\n",
       "      <td>10.000000</td>\n",
       "      <td>10.000000</td>\n",
       "      <td>10.000000</td>\n",
       "      <td>10.000000</td>\n",
       "      <td>0.200000</td>\n",
       "    </tr>\n",
       "    <tr>\n",
       "      <th>25%</th>\n",
       "      <td>27842.750000</td>\n",
       "      <td>2.577235e+06</td>\n",
       "      <td>0.000000e+00</td>\n",
       "      <td>45446.000000</td>\n",
       "      <td>35094.750000</td>\n",
       "      <td>36358.750000</td>\n",
       "      <td>5828.000000</td>\n",
       "      <td>855.000000</td>\n",
       "      <td>175.000000</td>\n",
       "      <td>85.000000</td>\n",
       "      <td>45.000000</td>\n",
       "      <td>85.000000</td>\n",
       "      <td>27.100000</td>\n",
       "    </tr>\n",
       "    <tr>\n",
       "      <th>50%</th>\n",
       "      <td>46952.500000</td>\n",
       "      <td>8.634226e+06</td>\n",
       "      <td>7.824600e+04</td>\n",
       "      <td>57901.000000</td>\n",
       "      <td>47281.500000</td>\n",
       "      <td>45304.000000</td>\n",
       "      <td>15393.000000</td>\n",
       "      <td>1995.000000</td>\n",
       "      <td>400.000000</td>\n",
       "      <td>195.000000</td>\n",
       "      <td>100.000000</td>\n",
       "      <td>190.000000</td>\n",
       "      <td>143.700000</td>\n",
       "    </tr>\n",
       "    <tr>\n",
       "      <th>75%</th>\n",
       "      <td>73031.000000</td>\n",
       "      <td>7.130567e+07</td>\n",
       "      <td>8.814038e+05</td>\n",
       "      <td>76192.250000</td>\n",
       "      <td>64521.500000</td>\n",
       "      <td>56089.250000</td>\n",
       "      <td>29410.000000</td>\n",
       "      <td>3615.000000</td>\n",
       "      <td>750.000000</td>\n",
       "      <td>345.000000</td>\n",
       "      <td>195.000000</td>\n",
       "      <td>355.000000</td>\n",
       "      <td>967.475000</td>\n",
       "    </tr>\n",
       "    <tr>\n",
       "      <th>max</th>\n",
       "      <td>99926.000000</td>\n",
       "      <td>4.685105e+10</td>\n",
       "      <td>1.396368e+09</td>\n",
       "      <td>200012.000000</td>\n",
       "      <td>228723.000000</td>\n",
       "      <td>103836.000000</td>\n",
       "      <td>115104.000000</td>\n",
       "      <td>37440.000000</td>\n",
       "      <td>3490.000000</td>\n",
       "      <td>1895.000000</td>\n",
       "      <td>1645.000000</td>\n",
       "      <td>1825.000000</td>\n",
       "      <td>55636.000000</td>\n",
       "    </tr>\n",
       "  </tbody>\n",
       "</table>\n",
       "</div>"
      ],
      "text/plain": [
       "           Zip_Code         ALand        AWater           Mean         Median  \\\n",
       "count  11620.000000  1.162000e+04  1.162000e+04   11620.000000   11620.000000   \n",
       "mean   48898.890103  1.217729e+08  3.073862e+06   63595.035112   53263.228227   \n",
       "std    27908.066422  6.484929e+08  2.317899e+07   26564.874206   27592.104233   \n",
       "min      601.000000  6.909400e+04  0.000000e+00    6804.000000    5252.000000   \n",
       "25%    27842.750000  2.577235e+06  0.000000e+00   45446.000000   35094.750000   \n",
       "50%    46952.500000  8.634226e+06  7.824600e+04   57901.000000   47281.500000   \n",
       "75%    73031.000000  7.130567e+07  8.814038e+05   76192.250000   64521.500000   \n",
       "max    99926.000000  4.685105e+10  1.396368e+09  200012.000000  228723.000000   \n",
       "\n",
       "               Stdev     Population  Retired_workers_number  Disabled workers  \\\n",
       "count   11620.000000   11620.000000            11620.000000      11620.000000   \n",
       "mean    46915.822375   19828.621429             2477.926850        525.301635   \n",
       "std     15098.199318   17026.341719             2007.081888        456.906433   \n",
       "min      5600.000000    1002.000000               35.000000         10.000000   \n",
       "25%     36358.750000    5828.000000              855.000000        175.000000   \n",
       "50%     45304.000000   15393.000000             1995.000000        400.000000   \n",
       "75%     56089.250000   29410.000000             3615.000000        750.000000   \n",
       "max    103836.000000  115104.000000            37440.000000       3490.000000   \n",
       "\n",
       "       Widow(er)s_and_parents_number       Spouses      Children       density  \n",
       "count                   11620.000000  11620.000000  11620.000000  11620.000000  \n",
       "mean                      238.198795    140.240103    248.698795    902.856558  \n",
       "std                       189.034663    135.714308    215.206309   2526.763826  \n",
       "min                        10.000000     10.000000     10.000000      0.200000  \n",
       "25%                        85.000000     45.000000     85.000000     27.100000  \n",
       "50%                       195.000000    100.000000    190.000000    143.700000  \n",
       "75%                       345.000000    195.000000    355.000000    967.475000  \n",
       "max                      1895.000000   1645.000000   1825.000000  55636.000000  "
      ]
     },
     "execution_count": 56,
     "metadata": {},
     "output_type": "execute_result"
    }
   ],
   "source": [
    "#inspecting the data to define better the limit(over/under) for my terget value\n",
    "df5.describe()"
   ]
  },
  {
   "cell_type": "code",
   "execution_count": 57,
   "metadata": {},
   "outputs": [
    {
     "data": {
      "text/html": [
       "<div>\n",
       "<style scoped>\n",
       "    .dataframe tbody tr th:only-of-type {\n",
       "        vertical-align: middle;\n",
       "    }\n",
       "\n",
       "    .dataframe tbody tr th {\n",
       "        vertical-align: top;\n",
       "    }\n",
       "\n",
       "    .dataframe thead th {\n",
       "        text-align: right;\n",
       "    }\n",
       "</style>\n",
       "<table border=\"1\" class=\"dataframe\">\n",
       "  <thead>\n",
       "    <tr style=\"text-align: right;\">\n",
       "      <th></th>\n",
       "      <th>Zip_Code</th>\n",
       "      <th>ALand</th>\n",
       "      <th>AWater</th>\n",
       "      <th>Mean</th>\n",
       "      <th>Median</th>\n",
       "      <th>Stdev</th>\n",
       "      <th>Population</th>\n",
       "      <th>Retired_workers_number</th>\n",
       "      <th>Disabled workers</th>\n",
       "      <th>Widow(er)s_and_parents_number</th>\n",
       "      <th>Spouses</th>\n",
       "      <th>Children</th>\n",
       "      <th>density</th>\n",
       "    </tr>\n",
       "  </thead>\n",
       "  <tbody>\n",
       "    <tr>\n",
       "      <th>Zip_Code</th>\n",
       "      <td>1.000000</td>\n",
       "      <td>0.093387</td>\n",
       "      <td>0.032178</td>\n",
       "      <td>-0.043356</td>\n",
       "      <td>-0.040745</td>\n",
       "      <td>-0.044514</td>\n",
       "      <td>0.090920</td>\n",
       "      <td>0.010924</td>\n",
       "      <td>-0.076884</td>\n",
       "      <td>0.014172</td>\n",
       "      <td>0.078645</td>\n",
       "      <td>-0.032465</td>\n",
       "      <td>-0.095341</td>\n",
       "    </tr>\n",
       "    <tr>\n",
       "      <th>ALand</th>\n",
       "      <td>0.093387</td>\n",
       "      <td>1.000000</td>\n",
       "      <td>0.235712</td>\n",
       "      <td>-0.033061</td>\n",
       "      <td>-0.036589</td>\n",
       "      <td>-0.013141</td>\n",
       "      <td>-0.141413</td>\n",
       "      <td>-0.135646</td>\n",
       "      <td>-0.123368</td>\n",
       "      <td>-0.133146</td>\n",
       "      <td>-0.116303</td>\n",
       "      <td>-0.124639</td>\n",
       "      <td>-0.063469</td>\n",
       "    </tr>\n",
       "    <tr>\n",
       "      <th>AWater</th>\n",
       "      <td>0.032178</td>\n",
       "      <td>0.235712</td>\n",
       "      <td>1.000000</td>\n",
       "      <td>-0.001876</td>\n",
       "      <td>-0.008212</td>\n",
       "      <td>0.017212</td>\n",
       "      <td>-0.089957</td>\n",
       "      <td>-0.080468</td>\n",
       "      <td>-0.077442</td>\n",
       "      <td>-0.083171</td>\n",
       "      <td>-0.071131</td>\n",
       "      <td>-0.079468</td>\n",
       "      <td>-0.040525</td>\n",
       "    </tr>\n",
       "    <tr>\n",
       "      <th>Mean</th>\n",
       "      <td>-0.043356</td>\n",
       "      <td>-0.033061</td>\n",
       "      <td>-0.001876</td>\n",
       "      <td>1.000000</td>\n",
       "      <td>0.966368</td>\n",
       "      <td>0.866530</td>\n",
       "      <td>0.112485</td>\n",
       "      <td>0.130151</td>\n",
       "      <td>-0.213564</td>\n",
       "      <td>-0.014557</td>\n",
       "      <td>0.161611</td>\n",
       "      <td>-0.128807</td>\n",
       "      <td>0.061715</td>\n",
       "    </tr>\n",
       "    <tr>\n",
       "      <th>Median</th>\n",
       "      <td>-0.040745</td>\n",
       "      <td>-0.036589</td>\n",
       "      <td>-0.008212</td>\n",
       "      <td>0.966368</td>\n",
       "      <td>1.000000</td>\n",
       "      <td>0.745395</td>\n",
       "      <td>0.108220</td>\n",
       "      <td>0.120634</td>\n",
       "      <td>-0.201189</td>\n",
       "      <td>-0.013993</td>\n",
       "      <td>0.156108</td>\n",
       "      <td>-0.116764</td>\n",
       "      <td>0.045884</td>\n",
       "    </tr>\n",
       "    <tr>\n",
       "      <th>Stdev</th>\n",
       "      <td>-0.044514</td>\n",
       "      <td>-0.013141</td>\n",
       "      <td>0.017212</td>\n",
       "      <td>0.866530</td>\n",
       "      <td>0.745395</td>\n",
       "      <td>1.000000</td>\n",
       "      <td>0.087153</td>\n",
       "      <td>0.113521</td>\n",
       "      <td>-0.202200</td>\n",
       "      <td>-0.019135</td>\n",
       "      <td>0.138860</td>\n",
       "      <td>-0.139466</td>\n",
       "      <td>0.098155</td>\n",
       "    </tr>\n",
       "    <tr>\n",
       "      <th>Population</th>\n",
       "      <td>0.090920</td>\n",
       "      <td>-0.141413</td>\n",
       "      <td>-0.089957</td>\n",
       "      <td>0.112485</td>\n",
       "      <td>0.108220</td>\n",
       "      <td>0.087153</td>\n",
       "      <td>1.000000</td>\n",
       "      <td>0.837513</td>\n",
       "      <td>0.745716</td>\n",
       "      <td>0.827185</td>\n",
       "      <td>0.806333</td>\n",
       "      <td>0.807201</td>\n",
       "      <td>0.377862</td>\n",
       "    </tr>\n",
       "    <tr>\n",
       "      <th>Retired_workers_number</th>\n",
       "      <td>0.010924</td>\n",
       "      <td>-0.135646</td>\n",
       "      <td>-0.080468</td>\n",
       "      <td>0.130151</td>\n",
       "      <td>0.120634</td>\n",
       "      <td>0.113521</td>\n",
       "      <td>0.837513</td>\n",
       "      <td>1.000000</td>\n",
       "      <td>0.710973</td>\n",
       "      <td>0.906487</td>\n",
       "      <td>0.827059</td>\n",
       "      <td>0.721956</td>\n",
       "      <td>0.228234</td>\n",
       "    </tr>\n",
       "    <tr>\n",
       "      <th>Disabled workers</th>\n",
       "      <td>-0.076884</td>\n",
       "      <td>-0.123368</td>\n",
       "      <td>-0.077442</td>\n",
       "      <td>-0.213564</td>\n",
       "      <td>-0.201189</td>\n",
       "      <td>-0.202200</td>\n",
       "      <td>0.745716</td>\n",
       "      <td>0.710973</td>\n",
       "      <td>1.000000</td>\n",
       "      <td>0.825200</td>\n",
       "      <td>0.570766</td>\n",
       "      <td>0.940874</td>\n",
       "      <td>0.220768</td>\n",
       "    </tr>\n",
       "    <tr>\n",
       "      <th>Widow(er)s_and_parents_number</th>\n",
       "      <td>0.014172</td>\n",
       "      <td>-0.133146</td>\n",
       "      <td>-0.083171</td>\n",
       "      <td>-0.014557</td>\n",
       "      <td>-0.013993</td>\n",
       "      <td>-0.019135</td>\n",
       "      <td>0.827185</td>\n",
       "      <td>0.906487</td>\n",
       "      <td>0.825200</td>\n",
       "      <td>1.000000</td>\n",
       "      <td>0.851390</td>\n",
       "      <td>0.829357</td>\n",
       "      <td>0.193111</td>\n",
       "    </tr>\n",
       "    <tr>\n",
       "      <th>Spouses</th>\n",
       "      <td>0.078645</td>\n",
       "      <td>-0.116303</td>\n",
       "      <td>-0.071131</td>\n",
       "      <td>0.161611</td>\n",
       "      <td>0.156108</td>\n",
       "      <td>0.138860</td>\n",
       "      <td>0.806333</td>\n",
       "      <td>0.827059</td>\n",
       "      <td>0.570766</td>\n",
       "      <td>0.851390</td>\n",
       "      <td>1.000000</td>\n",
       "      <td>0.626010</td>\n",
       "      <td>0.281736</td>\n",
       "    </tr>\n",
       "    <tr>\n",
       "      <th>Children</th>\n",
       "      <td>-0.032465</td>\n",
       "      <td>-0.124639</td>\n",
       "      <td>-0.079468</td>\n",
       "      <td>-0.128807</td>\n",
       "      <td>-0.116764</td>\n",
       "      <td>-0.139466</td>\n",
       "      <td>0.807201</td>\n",
       "      <td>0.721956</td>\n",
       "      <td>0.940874</td>\n",
       "      <td>0.829357</td>\n",
       "      <td>0.626010</td>\n",
       "      <td>1.000000</td>\n",
       "      <td>0.203855</td>\n",
       "    </tr>\n",
       "    <tr>\n",
       "      <th>density</th>\n",
       "      <td>-0.095341</td>\n",
       "      <td>-0.063469</td>\n",
       "      <td>-0.040525</td>\n",
       "      <td>0.061715</td>\n",
       "      <td>0.045884</td>\n",
       "      <td>0.098155</td>\n",
       "      <td>0.377862</td>\n",
       "      <td>0.228234</td>\n",
       "      <td>0.220768</td>\n",
       "      <td>0.193111</td>\n",
       "      <td>0.281736</td>\n",
       "      <td>0.203855</td>\n",
       "      <td>1.000000</td>\n",
       "    </tr>\n",
       "  </tbody>\n",
       "</table>\n",
       "</div>"
      ],
      "text/plain": [
       "                               Zip_Code     ALand    AWater      Mean  \\\n",
       "Zip_Code                       1.000000  0.093387  0.032178 -0.043356   \n",
       "ALand                          0.093387  1.000000  0.235712 -0.033061   \n",
       "AWater                         0.032178  0.235712  1.000000 -0.001876   \n",
       "Mean                          -0.043356 -0.033061 -0.001876  1.000000   \n",
       "Median                        -0.040745 -0.036589 -0.008212  0.966368   \n",
       "Stdev                         -0.044514 -0.013141  0.017212  0.866530   \n",
       "Population                     0.090920 -0.141413 -0.089957  0.112485   \n",
       "Retired_workers_number         0.010924 -0.135646 -0.080468  0.130151   \n",
       "Disabled workers              -0.076884 -0.123368 -0.077442 -0.213564   \n",
       "Widow(er)s_and_parents_number  0.014172 -0.133146 -0.083171 -0.014557   \n",
       "Spouses                        0.078645 -0.116303 -0.071131  0.161611   \n",
       "Children                      -0.032465 -0.124639 -0.079468 -0.128807   \n",
       "density                       -0.095341 -0.063469 -0.040525  0.061715   \n",
       "\n",
       "                                 Median     Stdev  Population  \\\n",
       "Zip_Code                      -0.040745 -0.044514    0.090920   \n",
       "ALand                         -0.036589 -0.013141   -0.141413   \n",
       "AWater                        -0.008212  0.017212   -0.089957   \n",
       "Mean                           0.966368  0.866530    0.112485   \n",
       "Median                         1.000000  0.745395    0.108220   \n",
       "Stdev                          0.745395  1.000000    0.087153   \n",
       "Population                     0.108220  0.087153    1.000000   \n",
       "Retired_workers_number         0.120634  0.113521    0.837513   \n",
       "Disabled workers              -0.201189 -0.202200    0.745716   \n",
       "Widow(er)s_and_parents_number -0.013993 -0.019135    0.827185   \n",
       "Spouses                        0.156108  0.138860    0.806333   \n",
       "Children                      -0.116764 -0.139466    0.807201   \n",
       "density                        0.045884  0.098155    0.377862   \n",
       "\n",
       "                               Retired_workers_number  Disabled workers  \\\n",
       "Zip_Code                                     0.010924         -0.076884   \n",
       "ALand                                       -0.135646         -0.123368   \n",
       "AWater                                      -0.080468         -0.077442   \n",
       "Mean                                         0.130151         -0.213564   \n",
       "Median                                       0.120634         -0.201189   \n",
       "Stdev                                        0.113521         -0.202200   \n",
       "Population                                   0.837513          0.745716   \n",
       "Retired_workers_number                       1.000000          0.710973   \n",
       "Disabled workers                             0.710973          1.000000   \n",
       "Widow(er)s_and_parents_number                0.906487          0.825200   \n",
       "Spouses                                      0.827059          0.570766   \n",
       "Children                                     0.721956          0.940874   \n",
       "density                                      0.228234          0.220768   \n",
       "\n",
       "                               Widow(er)s_and_parents_number   Spouses  \\\n",
       "Zip_Code                                            0.014172  0.078645   \n",
       "ALand                                              -0.133146 -0.116303   \n",
       "AWater                                             -0.083171 -0.071131   \n",
       "Mean                                               -0.014557  0.161611   \n",
       "Median                                             -0.013993  0.156108   \n",
       "Stdev                                              -0.019135  0.138860   \n",
       "Population                                          0.827185  0.806333   \n",
       "Retired_workers_number                              0.906487  0.827059   \n",
       "Disabled workers                                    0.825200  0.570766   \n",
       "Widow(er)s_and_parents_number                       1.000000  0.851390   \n",
       "Spouses                                             0.851390  1.000000   \n",
       "Children                                            0.829357  0.626010   \n",
       "density                                             0.193111  0.281736   \n",
       "\n",
       "                               Children   density  \n",
       "Zip_Code                      -0.032465 -0.095341  \n",
       "ALand                         -0.124639 -0.063469  \n",
       "AWater                        -0.079468 -0.040525  \n",
       "Mean                          -0.128807  0.061715  \n",
       "Median                        -0.116764  0.045884  \n",
       "Stdev                         -0.139466  0.098155  \n",
       "Population                     0.807201  0.377862  \n",
       "Retired_workers_number         0.721956  0.228234  \n",
       "Disabled workers               0.940874  0.220768  \n",
       "Widow(er)s_and_parents_number  0.829357  0.193111  \n",
       "Spouses                        0.626010  0.281736  \n",
       "Children                       1.000000  0.203855  \n",
       "density                        0.203855  1.000000  "
      ]
     },
     "execution_count": 57,
     "metadata": {},
     "output_type": "execute_result"
    }
   ],
   "source": [
    "df5.corr()"
   ]
  },
  {
   "cell_type": "markdown",
   "metadata": {},
   "source": [
    "## Feature Engineering"
   ]
  },
  {
   "cell_type": "code",
   "execution_count": 58,
   "metadata": {},
   "outputs": [],
   "source": [
    "#get dummies for the verbal features\n",
    "df5 = pd.get_dummies(df5, columns=['Type'])\n",
    "df5 = pd.get_dummies(df5, columns=['State_Name'])"
   ]
  },
  {
   "cell_type": "code",
   "execution_count": 59,
   "metadata": {},
   "outputs": [],
   "source": [
    "#reset index in order to loop over the columns\n",
    "df5.reset_index(drop=True, inplace = True)"
   ]
  },
  {
   "cell_type": "code",
   "execution_count": 60,
   "metadata": {},
   "outputs": [
    {
     "data": {
      "text/html": [
       "<div>\n",
       "<style scoped>\n",
       "    .dataframe tbody tr th:only-of-type {\n",
       "        vertical-align: middle;\n",
       "    }\n",
       "\n",
       "    .dataframe tbody tr th {\n",
       "        vertical-align: top;\n",
       "    }\n",
       "\n",
       "    .dataframe thead th {\n",
       "        text-align: right;\n",
       "    }\n",
       "</style>\n",
       "<table border=\"1\" class=\"dataframe\">\n",
       "  <thead>\n",
       "    <tr style=\"text-align: right;\">\n",
       "      <th></th>\n",
       "      <th>Zip_Code</th>\n",
       "      <th>ALand</th>\n",
       "      <th>AWater</th>\n",
       "      <th>Mean</th>\n",
       "      <th>Median</th>\n",
       "      <th>Stdev</th>\n",
       "      <th>Population</th>\n",
       "      <th>Retired_workers_number</th>\n",
       "      <th>Disabled workers</th>\n",
       "      <th>Widow(er)s_and_parents_number</th>\n",
       "      <th>...</th>\n",
       "      <th>State_Name_South Dakota</th>\n",
       "      <th>State_Name_Tennessee</th>\n",
       "      <th>State_Name_Texas</th>\n",
       "      <th>State_Name_Utah</th>\n",
       "      <th>State_Name_Vermont</th>\n",
       "      <th>State_Name_Virginia</th>\n",
       "      <th>State_Name_Washington</th>\n",
       "      <th>State_Name_West Virginia</th>\n",
       "      <th>State_Name_Wisconsin</th>\n",
       "      <th>State_Name_Wyoming</th>\n",
       "    </tr>\n",
       "  </thead>\n",
       "  <tbody>\n",
       "    <tr>\n",
       "      <th>0</th>\n",
       "      <td>36611</td>\n",
       "      <td>10894952</td>\n",
       "      <td>909156</td>\n",
       "      <td>38773</td>\n",
       "      <td>30506</td>\n",
       "      <td>33101</td>\n",
       "      <td>5955</td>\n",
       "      <td>735</td>\n",
       "      <td>325</td>\n",
       "      <td>130</td>\n",
       "      <td>...</td>\n",
       "      <td>0</td>\n",
       "      <td>0</td>\n",
       "      <td>0</td>\n",
       "      <td>0</td>\n",
       "      <td>0</td>\n",
       "      <td>0</td>\n",
       "      <td>0</td>\n",
       "      <td>0</td>\n",
       "      <td>0</td>\n",
       "      <td>0</td>\n",
       "    </tr>\n",
       "    <tr>\n",
       "      <th>1</th>\n",
       "      <td>36048</td>\n",
       "      <td>26070325</td>\n",
       "      <td>23254</td>\n",
       "      <td>37725</td>\n",
       "      <td>19528</td>\n",
       "      <td>43789</td>\n",
       "      <td>1430</td>\n",
       "      <td>310</td>\n",
       "      <td>125</td>\n",
       "      <td>40</td>\n",
       "      <td>...</td>\n",
       "      <td>0</td>\n",
       "      <td>0</td>\n",
       "      <td>0</td>\n",
       "      <td>0</td>\n",
       "      <td>0</td>\n",
       "      <td>0</td>\n",
       "      <td>0</td>\n",
       "      <td>0</td>\n",
       "      <td>0</td>\n",
       "      <td>0</td>\n",
       "    </tr>\n",
       "  </tbody>\n",
       "</table>\n",
       "<p>2 rows × 72 columns</p>\n",
       "</div>"
      ],
      "text/plain": [
       "   Zip_Code     ALand  AWater   Mean  Median  Stdev  Population  \\\n",
       "0     36611  10894952  909156  38773   30506  33101        5955   \n",
       "1     36048  26070325   23254  37725   19528  43789        1430   \n",
       "\n",
       "   Retired_workers_number  Disabled workers  Widow(er)s_and_parents_number  \\\n",
       "0                     735               325                            130   \n",
       "1                     310               125                             40   \n",
       "\n",
       "   ...  State_Name_South Dakota  State_Name_Tennessee  State_Name_Texas  \\\n",
       "0  ...                        0                     0                 0   \n",
       "1  ...                        0                     0                 0   \n",
       "\n",
       "   State_Name_Utah  State_Name_Vermont  State_Name_Virginia  \\\n",
       "0                0                   0                    0   \n",
       "1                0                   0                    0   \n",
       "\n",
       "   State_Name_Washington  State_Name_West Virginia  State_Name_Wisconsin  \\\n",
       "0                      0                         0                     0   \n",
       "1                      0                         0                     0   \n",
       "\n",
       "   State_Name_Wyoming  \n",
       "0                   0  \n",
       "1                   0  \n",
       "\n",
       "[2 rows x 72 columns]"
      ]
     },
     "execution_count": 60,
     "metadata": {},
     "output_type": "execute_result"
    }
   ],
   "source": [
    "df5.head(2)"
   ]
  },
  {
   "cell_type": "code",
   "execution_count": 61,
   "metadata": {},
   "outputs": [],
   "source": [
    "#numpy is much faster than regular loop over the column. The number 49,000 was chosen to split around the half\n",
    "df5['Median_Target'] = np.where(df5['Median']>49000,1,0)"
   ]
  },
  {
   "cell_type": "code",
   "execution_count": 62,
   "metadata": {},
   "outputs": [
    {
     "data": {
      "text/plain": [
       "0    6167\n",
       "1    5453\n",
       "Name: Median_Target, dtype: int64"
      ]
     },
     "execution_count": 62,
     "metadata": {},
     "output_type": "execute_result"
    }
   ],
   "source": [
    "df5.Median_Target.value_counts()"
   ]
  },
  {
   "cell_type": "code",
   "execution_count": 63,
   "metadata": {},
   "outputs": [],
   "source": [
    "#seperating target from table\n",
    "Target = df5['Median_Target']"
   ]
  },
  {
   "cell_type": "code",
   "execution_count": 64,
   "metadata": {},
   "outputs": [
    {
     "data": {
      "text/html": [
       "<div>\n",
       "<style scoped>\n",
       "    .dataframe tbody tr th:only-of-type {\n",
       "        vertical-align: middle;\n",
       "    }\n",
       "\n",
       "    .dataframe tbody tr th {\n",
       "        vertical-align: top;\n",
       "    }\n",
       "\n",
       "    .dataframe thead th {\n",
       "        text-align: right;\n",
       "    }\n",
       "</style>\n",
       "<table border=\"1\" class=\"dataframe\">\n",
       "  <thead>\n",
       "    <tr style=\"text-align: right;\">\n",
       "      <th></th>\n",
       "      <th>ALand</th>\n",
       "      <th>AWater</th>\n",
       "      <th>Population</th>\n",
       "      <th>Retired_workers_number</th>\n",
       "      <th>Disabled workers</th>\n",
       "      <th>Widow(er)s_and_parents_number</th>\n",
       "      <th>Spouses</th>\n",
       "      <th>Children</th>\n",
       "      <th>density</th>\n",
       "      <th>Type_Borough</th>\n",
       "      <th>...</th>\n",
       "      <th>State_Name_South Dakota</th>\n",
       "      <th>State_Name_Tennessee</th>\n",
       "      <th>State_Name_Texas</th>\n",
       "      <th>State_Name_Utah</th>\n",
       "      <th>State_Name_Vermont</th>\n",
       "      <th>State_Name_Virginia</th>\n",
       "      <th>State_Name_Washington</th>\n",
       "      <th>State_Name_West Virginia</th>\n",
       "      <th>State_Name_Wisconsin</th>\n",
       "      <th>State_Name_Wyoming</th>\n",
       "    </tr>\n",
       "  </thead>\n",
       "  <tbody>\n",
       "    <tr>\n",
       "      <th>0</th>\n",
       "      <td>10894952</td>\n",
       "      <td>909156</td>\n",
       "      <td>5955</td>\n",
       "      <td>735</td>\n",
       "      <td>325</td>\n",
       "      <td>130</td>\n",
       "      <td>40</td>\n",
       "      <td>125</td>\n",
       "      <td>496.2</td>\n",
       "      <td>0</td>\n",
       "      <td>...</td>\n",
       "      <td>0</td>\n",
       "      <td>0</td>\n",
       "      <td>0</td>\n",
       "      <td>0</td>\n",
       "      <td>0</td>\n",
       "      <td>0</td>\n",
       "      <td>0</td>\n",
       "      <td>0</td>\n",
       "      <td>0</td>\n",
       "      <td>0</td>\n",
       "    </tr>\n",
       "  </tbody>\n",
       "</table>\n",
       "<p>1 rows × 68 columns</p>\n",
       "</div>"
      ],
      "text/plain": [
       "      ALand  AWater  Population  Retired_workers_number  Disabled workers  \\\n",
       "0  10894952  909156        5955                     735               325   \n",
       "\n",
       "   Widow(er)s_and_parents_number  Spouses  Children  density  Type_Borough  \\\n",
       "0                            130       40       125    496.2             0   \n",
       "\n",
       "   ...  State_Name_South Dakota  State_Name_Tennessee  State_Name_Texas  \\\n",
       "0  ...                        0                     0                 0   \n",
       "\n",
       "   State_Name_Utah  State_Name_Vermont  State_Name_Virginia  \\\n",
       "0                0                   0                    0   \n",
       "\n",
       "   State_Name_Washington  State_Name_West Virginia  State_Name_Wisconsin  \\\n",
       "0                      0                         0                     0   \n",
       "\n",
       "   State_Name_Wyoming  \n",
       "0                   0  \n",
       "\n",
       "[1 rows x 68 columns]"
      ]
     },
     "execution_count": 64,
     "metadata": {},
     "output_type": "execute_result"
    }
   ],
   "source": [
    "#droping target and columns with too high correlation\n",
    "df5 = df5.drop([\"Zip_Code\",'Median','Mean','Stdev','Median_Target'],axis=1)\n",
    "df5.head(1)"
   ]
  },
  {
   "cell_type": "code",
   "execution_count": 65,
   "metadata": {},
   "outputs": [
    {
     "data": {
      "text/plain": [
       "(11620, 68)"
      ]
     },
     "execution_count": 65,
     "metadata": {},
     "output_type": "execute_result"
    }
   ],
   "source": [
    "df5.shape"
   ]
  },
  {
   "cell_type": "code",
   "execution_count": 66,
   "metadata": {},
   "outputs": [
    {
     "name": "stdout",
     "output_type": "stream",
     "text": [
      "(9296, 68)\n",
      "(2324, 68)\n",
      "(9296,)\n",
      "(2324,)\n"
     ]
    }
   ],
   "source": [
    "#running some test for logistic regression before starting feature ingineering\n",
    "X_train_b, X_test_b, y_train_b, y_test_b = train_test_split(df5, Target, test_size=0.2)\n",
    "print(X_train_b.shape)\n",
    "print(X_test_b.shape)\n",
    "print(y_train_b.shape)\n",
    "print(y_test_b.shape)"
   ]
  },
  {
   "cell_type": "code",
   "execution_count": 67,
   "metadata": {},
   "outputs": [],
   "source": [
    "#creating function to print matrics results\n",
    "def print_metrics(labels, preds):\n",
    "    print(\"Precision Score: {}\".format(precision_score(labels, preds)))\n",
    "    print(\"Recall Score: {}\".format(recall_score(labels, preds)))\n",
    "    print(\"Accuracy Score: {}\".format(accuracy_score(labels, preds)))\n",
    "    print(\"F1 Score: {}\".format(f1_score(labels, preds)))"
   ]
  },
  {
   "cell_type": "code",
   "execution_count": 68,
   "metadata": {},
   "outputs": [
    {
     "name": "stdout",
     "output_type": "stream",
     "text": [
      "baseline Logistic\n",
      "-------------------\n",
      "Precision Score: 0.504424778761062\n",
      "Recall Score: 0.05413105413105413\n",
      "Accuracy Score: 0.5473321858864028\n",
      "F1 Score: 0.09777015437392796\n",
      "-------------------\n",
      "True Positives: 57\n",
      "True Negatives: 1215\n",
      "False Positives: 56\n",
      "False Negatives: 996\n"
     ]
    }
   ],
   "source": [
    "#baseline logistic before feature ingineering\n",
    "print('baseline Logistic')\n",
    "print('-------------------')\n",
    "lm = LogisticRegression()\n",
    "lm.fit(X_train_b, y_train_b)\n",
    "test_preds = lm.predict(X_test_b)\n",
    "print_metrics(y_test_b, test_preds)\n",
    "\n",
    "print('-------------------')\n",
    "confusion = metrics.confusion_matrix(y_test_b, test_preds)\n",
    "TP = confusion[1][1]\n",
    "TN = confusion[0][0]\n",
    "FP = confusion[0][1]\n",
    "FN = confusion[1][0]\n",
    "\n",
    "print ('True Positives:', TP)\n",
    "print ('True Negatives:', TN)\n",
    "print ('False Positives:', FP)\n",
    "print ('False Negatives:', FN)"
   ]
  },
  {
   "cell_type": "code",
   "execution_count": 69,
   "metadata": {},
   "outputs": [],
   "source": [
    "#create polynomial features and interaction terms\n",
    "poly = PolynomialFeatures(degree=2)\n",
    "poly.fit(df5)\n",
    "column_names = poly.get_feature_names(df5.columns)\n",
    "feature_poly= pd.DataFrame(poly.transform(df5), columns=column_names)"
   ]
  },
  {
   "cell_type": "code",
   "execution_count": 70,
   "metadata": {},
   "outputs": [
    {
     "data": {
      "text/plain": [
       "(11620, 2415)"
      ]
     },
     "execution_count": 70,
     "metadata": {},
     "output_type": "execute_result"
    }
   ],
   "source": [
    "feature_poly.shape"
   ]
  },
  {
   "cell_type": "code",
   "execution_count": 71,
   "metadata": {},
   "outputs": [
    {
     "name": "stdout",
     "output_type": "stream",
     "text": [
      "(9296, 2415)\n",
      "(2324, 2415)\n",
      "(9296,)\n",
      "(2324,)\n"
     ]
    }
   ],
   "source": [
    "#splitting the data before scaling\n",
    "X_train, X_test, y_train, y_test = train_test_split(feature_poly, Target, test_size=0.2)\n",
    "print(X_train.shape)\n",
    "print(X_test.shape)\n",
    "print(y_train.shape)\n",
    "print(y_test.shape)"
   ]
  },
  {
   "cell_type": "code",
   "execution_count": 72,
   "metadata": {},
   "outputs": [],
   "source": [
    "#scale data\n",
    "sc=StandardScaler()\n",
    "#firt model to training data - not testing data\n",
    "X_train_scaled= sc.fit_transform(X_train)\n",
    "X_test_scaled = sc.transform(X_test)"
   ]
  },
  {
   "cell_type": "code",
   "execution_count": 73,
   "metadata": {},
   "outputs": [],
   "source": [
    "#renaming the columns (names lost during scaling)\n",
    "X_train_scaled = pd.DataFrame(X_train_scaled, columns = X_train.columns)\n",
    "X_test_scaled = pd.DataFrame(X_test_scaled, columns = X_test.columns)"
   ]
  },
  {
   "cell_type": "markdown",
   "metadata": {},
   "source": [
    "## Feature Selection"
   ]
  },
  {
   "cell_type": "code",
   "execution_count": 74,
   "metadata": {},
   "outputs": [
    {
     "data": {
      "text/plain": [
       "SelectKBest(k=50, score_func=<function f_regression at 0x1a1bfaeb70>)"
      ]
     },
     "execution_count": 74,
     "metadata": {},
     "output_type": "execute_result"
    }
   ],
   "source": [
    "#Use F test for feature Selection\n",
    "selector = SelectKBest(f_regression, k=50)\n",
    "selector.fit(X_train_scaled, y_train)"
   ]
  },
  {
   "cell_type": "code",
   "execution_count": 75,
   "metadata": {},
   "outputs": [],
   "source": [
    "#creating new data frames with only the selected 50 columns\n",
    "selected_columns = X_train_scaled.columns[selector.get_support()]\n",
    "removed_columns = X_train_scaled.columns[~selector.get_support()]\n",
    "X_train_scaled = X_train_scaled[selected_columns]\n",
    "X_test_scaled = X_test_scaled[selected_columns]\n"
   ]
  },
  {
   "cell_type": "code",
   "execution_count": 76,
   "metadata": {},
   "outputs": [
    {
     "data": {
      "text/plain": [
       "Index(['Population', 'Retired_workers_number', 'Disabled workers', 'Spouses',\n",
       "       'Children', 'State_Name_Alabama', 'State_Name_California',\n",
       "       'State_Name_Connecticut', 'State_Name_Maryland',\n",
       "       'State_Name_Massachusetts', 'State_Name_New Jersey',\n",
       "       'State_Name_New York', 'State_Name_Puerto Rico',\n",
       "       'Population Retired_workers_number', 'Population Spouses',\n",
       "       'Population Type_Track', 'Population State_Name_New Jersey',\n",
       "       'Population State_Name_Puerto Rico', 'Retired_workers_number^2',\n",
       "       'Retired_workers_number Spouses', 'Retired_workers_number Type_Track',\n",
       "       'Retired_workers_number State_Name_California',\n",
       "       'Retired_workers_number State_Name_New Jersey', 'Disabled workers^2',\n",
       "       'Disabled workers Widow(er)s_and_parents_number',\n",
       "       'Disabled workers Children', 'Disabled workers Type_Track',\n",
       "       'Disabled workers State_Name_Puerto Rico',\n",
       "       'Widow(er)s_and_parents_number State_Name_New Jersey',\n",
       "       'Widow(er)s_and_parents_number State_Name_Puerto Rico',\n",
       "       'Spouses Type_Track', 'Spouses State_Name_California',\n",
       "       'Spouses State_Name_New Jersey', 'Spouses State_Name_Puerto Rico',\n",
       "       'Children^2', 'Children Type_Track', 'Children State_Name_Puerto Rico',\n",
       "       'Type_Track State_Name_California', 'Type_Track State_Name_Connecticut',\n",
       "       'Type_Track State_Name_Massachusetts',\n",
       "       'Type_Track State_Name_New Jersey', 'Type_Track State_Name_New York',\n",
       "       'State_Name_Alabama^2', 'State_Name_California^2',\n",
       "       'State_Name_Connecticut^2', 'State_Name_Maryland^2',\n",
       "       'State_Name_Massachusetts^2', 'State_Name_New Jersey^2',\n",
       "       'State_Name_New York^2', 'State_Name_Puerto Rico^2'],\n",
       "      dtype='object')"
      ]
     },
     "execution_count": 76,
     "metadata": {},
     "output_type": "execute_result"
    }
   ],
   "source": [
    "#inspecting the selected columns\n",
    "X_test_scaled.columns"
   ]
  },
  {
   "cell_type": "markdown",
   "metadata": {},
   "source": [
    "## Model Fitting and Hyperparameter Tuning"
   ]
  },
  {
   "cell_type": "markdown",
   "metadata": {},
   "source": [
    "### Logistic Regression"
   ]
  },
  {
   "cell_type": "code",
   "execution_count": 137,
   "metadata": {},
   "outputs": [
    {
     "name": "stdout",
     "output_type": "stream",
     "text": [
      "Baseline Logistic\n",
      "-------------------\n",
      "Precision Score: 0.7219069239500567\n",
      "Recall Score: 0.5916279069767442\n",
      "Accuracy Score: 0.7056798623063684\n",
      "F1 Score: 0.6503067484662577\n",
      "-------------------\n",
      "True Positives: 636\n",
      "True Negatives: 1004\n",
      "False Positives: 245\n",
      "False Negatives: 439\n"
     ]
    }
   ],
   "source": [
    "#baseline logistic \n",
    "print('Baseline Logistic')\n",
    "print('-------------------')\n",
    "lm = LogisticRegression()\n",
    "lm.fit(X_train_scaled, y_train)\n",
    "test_preds = lm.predict(X_test_scaled)\n",
    "print_metrics(y_test, test_preds)\n",
    "\n",
    "print('-------------------')\n",
    "confusion = metrics.confusion_matrix(y_test, test_preds)\n",
    "TP = confusion[1][1]\n",
    "TN = confusion[0][0]\n",
    "FP = confusion[0][1]\n",
    "FN = confusion[1][0]\n",
    "\n",
    "print ('True Positives:', TP)\n",
    "print ('True Negatives:', TN)\n",
    "print ('False Positives:', FP)\n",
    "print ('False Negatives:', FN)"
   ]
  },
  {
   "cell_type": "code",
   "execution_count": 138,
   "metadata": {},
   "outputs": [
    {
     "name": "stdout",
     "output_type": "stream",
     "text": [
      "0.7098752151462995\n",
      "{'C': 1, 'fit_intercept': False, 'penalty': 'l1'}\n",
      "LogisticRegression(C=1, class_weight=None, dual=False, fit_intercept=False,\n",
      "          intercept_scaling=1, max_iter=100, multi_class='warn', n_jobs=-1,\n",
      "          penalty='l1', random_state=None, solver='warn', tol=0.0001,\n",
      "          verbose=0, warm_start=False)\n"
     ]
    }
   ],
   "source": [
    "#Hyperparameter Tuning \n",
    "grid_params_lr = [{'penalty': ['l1', 'l2'], \n",
    "                    'C' : [0.001,0.01,0.1,1,2,5,10],'fit_intercept':[True,False]}] \n",
    "\n",
    "# 'fit_intercept': [True,False]\n",
    "gs_lr = GridSearchCV(estimator=LogisticRegression(n_jobs=-1),\n",
    "                    param_grid=grid_params_lr,\n",
    "                    scoring='accuracy',\n",
    "                    cv=5)\n",
    "gs_lr.fit(X_train_scaled, y_train)\n",
    "# examine the best model\n",
    "\n",
    "# Single best score achieved across all params (min_samples_split)\n",
    "print(gs_lr.best_score_)\n",
    "\n",
    "# Dictionary containing the parameters (min_samples_split) used to generate that score\n",
    "print(gs_lr.best_params_)\n",
    "\n",
    "# Actual model object fit with those best parameters\n",
    "# Shows default parameters that we did not specify\n",
    "print(gs_lr.best_estimator_)"
   ]
  },
  {
   "cell_type": "code",
   "execution_count": null,
   "metadata": {},
   "outputs": [],
   "source": []
  },
  {
   "cell_type": "code",
   "execution_count": 140,
   "metadata": {},
   "outputs": [
    {
     "name": "stdout",
     "output_type": "stream",
     "text": [
      "Improved Logistic\n",
      "-------------------\n",
      "Precision Score: 0.7098121085594989\n",
      "Recall Score: 0.6325581395348837\n",
      "Accuracy Score: 0.7104130808950087\n",
      "F1 Score: 0.6689621249385145\n",
      "-------------------\n",
      "True Positives: 680\n",
      "True Negatives: 971\n",
      "False Positives: 278\n",
      "False Negatives: 395\n"
     ]
    }
   ],
   "source": [
    "#improved logistic after Hyperparameter Tuning\n",
    "print('Improved Logistic')\n",
    "print('-------------------')\n",
    "lm = LogisticRegression(penalty='l1',C=1, fit_intercept=False)\n",
    "lm.fit(X_train_scaled, y_train)\n",
    "test_preds = lm.predict(X_test_scaled)\n",
    "print_metrics(y_test, test_preds)\n",
    "\n",
    "print('-------------------')\n",
    "confusion = metrics.confusion_matrix(y_test, test_preds)\n",
    "TP = confusion[1][1]\n",
    "TN = confusion[0][0]\n",
    "FP = confusion[0][1]\n",
    "FN = confusion[1][0]\n",
    "\n",
    "print ('True Positives:', TP)\n",
    "print ('True Negatives:', TN)\n",
    "print ('False Positives:', FP)\n",
    "print ('False Negatives:', FN)"
   ]
  },
  {
   "cell_type": "code",
   "execution_count": 141,
   "metadata": {},
   "outputs": [
    {
     "data": {
      "image/png": "[encoded data removed]",
      "text/plain": [
       "<Figure size 432x288 with 1 Axes>"
      ]
     },
     "metadata": {
      "needs_background": "light"
     },
     "output_type": "display_data"
    }
   ],
   "source": [
    "lim = list(zip(X_train_scaled.columns,lm.coef_[0]))\n",
    "lim = pd.DataFrame(lim, columns = ['Coef','Val'])\n",
    "lim = lim.sort_values(['Val'], ascending = False)\n",
    "lim1 = lim[abs(lim.Val) >0.2]\n",
    "lim1.plot.bar(x='Coef',y='Val');"
   ]
  },
  {
   "cell_type": "markdown",
   "metadata": {},
   "source": [
    "### Decision Tree Classifier"
   ]
  },
  {
   "cell_type": "code",
   "execution_count": 142,
   "metadata": {},
   "outputs": [
    {
     "name": "stdout",
     "output_type": "stream",
     "text": [
      "baseline Decision Tree\n",
      "-------------------\n",
      "Precision Score: 0.586239396795476\n",
      "Recall Score: 0.5786046511627907\n",
      "Accuracy Score: 0.6161790017211703\n",
      "F1 Score: 0.5823970037453183\n",
      "-------------------\n",
      "True Positives: 622\n",
      "True Negatives: 810\n",
      "False Positives: 439\n",
      "False Negatives: 453\n"
     ]
    }
   ],
   "source": [
    "#baseline Decision Tree \n",
    "print('baseline Decision Tree')\n",
    "print('-------------------')\n",
    "dtr = DecisionTreeClassifier()\n",
    "dtr.fit(X_train_scaled, y_train)\n",
    "test_preds = dtr.predict(X_test_scaled)\n",
    "print_metrics(y_test, test_preds)\n",
    "\n",
    "print('-------------------')\n",
    "confusion = metrics.confusion_matrix(y_test, test_preds)\n",
    "TP = confusion[1][1]\n",
    "TN = confusion[0][0]\n",
    "FP = confusion[0][1]\n",
    "FN = confusion[1][0]\n",
    "\n",
    "print ('True Positives:', TP)\n",
    "print ('True Negatives:', TN)\n",
    "print ('False Positives:', FP)\n",
    "print ('False Negatives:', FN)"
   ]
  },
  {
   "cell_type": "code",
   "execution_count": 143,
   "metadata": {},
   "outputs": [
    {
     "name": "stdout",
     "output_type": "stream",
     "text": [
      "0.6967512908777969\n",
      "{'criterion': 'entropy', 'max_depth': 9, 'min_samples_leaf': 55}\n",
      "DecisionTreeClassifier(class_weight=None, criterion='entropy', max_depth=9,\n",
      "            max_features=None, max_leaf_nodes=None,\n",
      "            min_impurity_decrease=0.0, min_impurity_split=None,\n",
      "            min_samples_leaf=55, min_samples_split=2,\n",
      "            min_weight_fraction_leaf=0.0, presort=False, random_state=None,\n",
      "            splitter='best')\n"
     ]
    }
   ],
   "source": [
    "#Hyperparameter Tuning\n",
    "grid_params_dt = [{'criterion': ['gini','entropy'], \n",
    "                    'min_samples_leaf' : range(5,100,10),\n",
    "                    'max_depth': range(2,20,1)}] \n",
    "\n",
    "gs_dt = GridSearchCV(estimator=DecisionTreeClassifier(),\n",
    "                    param_grid=grid_params_dt,\n",
    "                    scoring='accuracy',\n",
    "                    cv=5,n_jobs= -1)\n",
    "gs_dt.fit(X_train_scaled, y_train)\n",
    "# examine the best model\n",
    "\n",
    "# Single best score achieved across all params\n",
    "print(gs_dt.best_score_)\n",
    "\n",
    "# Dictionary containing the parameters used to generate that score\n",
    "print(gs_dt.best_params_)\n",
    "\n",
    "# Shows default parameters that we did not specify\n",
    "print(gs_dt.best_estimator_)"
   ]
  },
  {
   "cell_type": "code",
   "execution_count": 144,
   "metadata": {},
   "outputs": [
    {
     "name": "stdout",
     "output_type": "stream",
     "text": [
      "improved Decision Tree\n",
      "-------------------\n",
      "Precision Score: 0.6892307692307692\n",
      "Recall Score: 0.6251162790697674\n",
      "Accuracy Score: 0.6962134251290878\n",
      "F1 Score: 0.655609756097561\n",
      "-------------------\n",
      "True Positives: 672\n",
      "True Negatives: 946\n",
      "False Positives: 303\n",
      "False Negatives: 403\n"
     ]
    }
   ],
   "source": [
    "#improved Decision Tree \n",
    "print('improved Decision Tree')\n",
    "print('-------------------')\n",
    "dtr = DecisionTreeClassifier(criterion='entropy',max_depth= 9, min_samples_leaf=55 )\n",
    "dtr.fit(X_train_scaled, y_train)\n",
    "test_preds = dtr.predict(X_test_scaled)\n",
    "print_metrics(y_test, test_preds)\n",
    "\n",
    "print('-------------------')\n",
    "confusion = metrics.confusion_matrix(y_test, test_preds)\n",
    "TP = confusion[1][1]\n",
    "TN = confusion[0][0]\n",
    "FP = confusion[0][1]\n",
    "FN = confusion[1][0]\n",
    "\n",
    "print ('True Positives:', TP)\n",
    "print ('True Negatives:', TN)\n",
    "print ('False Positives:', FP)\n",
    "print ('False Negatives:', FN)"
   ]
  },
  {
   "cell_type": "code",
   "execution_count": 145,
   "metadata": {},
   "outputs": [
    {
     "data": {
      "text/html": [
       "<div>\n",
       "<style scoped>\n",
       "    .dataframe tbody tr th:only-of-type {\n",
       "        vertical-align: middle;\n",
       "    }\n",
       "\n",
       "    .dataframe tbody tr th {\n",
       "        vertical-align: top;\n",
       "    }\n",
       "\n",
       "    .dataframe thead th {\n",
       "        text-align: right;\n",
       "    }\n",
       "</style>\n",
       "<table border=\"1\" class=\"dataframe\">\n",
       "  <thead>\n",
       "    <tr style=\"text-align: right;\">\n",
       "      <th></th>\n",
       "      <th>Coef</th>\n",
       "      <th>Val</th>\n",
       "      <th>Left</th>\n",
       "      <th>Right</th>\n",
       "    </tr>\n",
       "  </thead>\n",
       "  <tbody>\n",
       "    <tr>\n",
       "      <th>216</th>\n",
       "      <td>Disabled workers</td>\n",
       "      <td>3.006972</td>\n",
       "      <td>217</td>\n",
       "      <td>232</td>\n",
       "    </tr>\n",
       "    <tr>\n",
       "      <th>205</th>\n",
       "      <td>Spouses</td>\n",
       "      <td>2.211673</td>\n",
       "      <td>206</td>\n",
       "      <td>215</td>\n",
       "    </tr>\n",
       "    <tr>\n",
       "      <th>218</th>\n",
       "      <td>Spouses</td>\n",
       "      <td>1.877754</td>\n",
       "      <td>219</td>\n",
       "      <td>224</td>\n",
       "    </tr>\n",
       "    <tr>\n",
       "      <th>225</th>\n",
       "      <td>Population</td>\n",
       "      <td>1.848534</td>\n",
       "      <td>226</td>\n",
       "      <td>227</td>\n",
       "    </tr>\n",
       "    <tr>\n",
       "      <th>217</th>\n",
       "      <td>Population Retired_workers_number</td>\n",
       "      <td>1.790469</td>\n",
       "      <td>218</td>\n",
       "      <td>225</td>\n",
       "    </tr>\n",
       "    <tr>\n",
       "      <th>232</th>\n",
       "      <td>Retired_workers_number</td>\n",
       "      <td>1.662703</td>\n",
       "      <td>233</td>\n",
       "      <td>234</td>\n",
       "    </tr>\n",
       "    <tr>\n",
       "      <th>210</th>\n",
       "      <td>Retired_workers_number</td>\n",
       "      <td>1.376067</td>\n",
       "      <td>211</td>\n",
       "      <td>214</td>\n",
       "    </tr>\n",
       "    <tr>\n",
       "      <th>221</th>\n",
       "      <td>Disabled workers^2</td>\n",
       "      <td>1.300880</td>\n",
       "      <td>222</td>\n",
       "      <td>223</td>\n",
       "    </tr>\n",
       "    <tr>\n",
       "      <th>159</th>\n",
       "      <td>Population Retired_workers_number</td>\n",
       "      <td>1.059731</td>\n",
       "      <td>160</td>\n",
       "      <td>169</td>\n",
       "    </tr>\n",
       "    <tr>\n",
       "      <th>227</th>\n",
       "      <td>Retired_workers_number^2</td>\n",
       "      <td>1.051831</td>\n",
       "      <td>228</td>\n",
       "      <td>229</td>\n",
       "    </tr>\n",
       "  </tbody>\n",
       "</table>\n",
       "</div>"
      ],
      "text/plain": [
       "                                  Coef       Val  Left  Right\n",
       "216                   Disabled workers  3.006972   217    232\n",
       "205                            Spouses  2.211673   206    215\n",
       "218                            Spouses  1.877754   219    224\n",
       "225                         Population  1.848534   226    227\n",
       "217  Population Retired_workers_number  1.790469   218    225\n",
       "232             Retired_workers_number  1.662703   233    234\n",
       "210             Retired_workers_number  1.376067   211    214\n",
       "221                 Disabled workers^2  1.300880   222    223\n",
       "159  Population Retired_workers_number  1.059731   160    169\n",
       "227           Retired_workers_number^2  1.051831   228    229"
      ]
     },
     "execution_count": 145,
     "metadata": {},
     "output_type": "execute_result"
    }
   ],
   "source": [
    "\n",
    "dtr1 = list(zip(X_train_scaled.columns[dtr.tree_.feature],dtr.tree_.threshold,dtr.tree_.children_left,dtr.tree_.children_right ))\n",
    "dtr1 = pd.DataFrame(dtr1,columns = ['Coef','Val','Left','Right'])\n",
    "dtr1 = dtr1[dtr1['Val'] >0]\n",
    "dtr2 = dtr1.sort_values(['Val'], ascending = False)\n",
    "dtr2.head(10)"
   ]
  },
  {
   "cell_type": "markdown",
   "metadata": {},
   "source": [
    "### K Neighbors Classifier"
   ]
  },
  {
   "cell_type": "code",
   "execution_count": 146,
   "metadata": {},
   "outputs": [
    {
     "name": "stdout",
     "output_type": "stream",
     "text": [
      "baseline KNN\n",
      "-------------------\n",
      "Precision Score: 0.6733716475095786\n",
      "Recall Score: 0.653953488372093\n",
      "Accuracy Score: 0.6932013769363167\n",
      "F1 Score: 0.6635205285512034\n",
      "-------------------\n",
      "True Positives: 703\n",
      "True Negatives: 908\n",
      "False Positives: 341\n",
      "False Negatives: 372\n"
     ]
    }
   ],
   "source": [
    "#baseline KNN \n",
    "print('baseline KNN')\n",
    "print('-------------------')\n",
    "knn = KNeighborsClassifier()\n",
    "knn.fit(X_train_scaled, y_train)\n",
    "y_preds = knn.predict(X_test_scaled)\n",
    "print_metrics(y_test, y_preds)\n",
    "print('-------------------')\n",
    "confusion = metrics.confusion_matrix(y_test, y_preds)\n",
    "TP = confusion[1][1]\n",
    "TN = confusion[0][0]\n",
    "FP = confusion[0][1]\n",
    "FN = confusion[1][0]\n",
    "\n",
    "print ('True Positives:', TP)\n",
    "print ('True Negatives:', TN)\n",
    "print ('False Positives:', FP)\n",
    "print ('False Negatives:', FN)"
   ]
  },
  {
   "cell_type": "code",
   "execution_count": 147,
   "metadata": {},
   "outputs": [
    {
     "name": "stdout",
     "output_type": "stream",
     "text": [
      "0.7198795180722891\n",
      "10\n",
      "[0.6351118760757315, 0.6557659208261618, 0.6807228915662651, 0.6790017211703959, 0.6932013769363167, 0.6944922547332186, 0.7022375215146299, 0.7112736660929432, 0.7155765920826161, 0.7198795180722891, 0.7185886402753873, 0.7155765920826161, 0.7121342512908778, 0.7086919104991394]\n"
     ]
    }
   ],
   "source": [
    "#find best k\n",
    "k_range = list(range(1,15))\n",
    "k_scores = []\n",
    "best_score = 0\n",
    "best_k = 0\n",
    "for k in k_range:\n",
    "    knn = KNeighborsClassifier(n_neighbors=k,n_jobs=-1)\n",
    "    knn.fit(X_train_scaled, y_train)\n",
    "    y_predict = knn.predict(X_test_scaled)\n",
    "    score = metrics.accuracy_score(y_test, y_predict)\n",
    "    k_scores.append(score)\n",
    "    if score > best_score:\n",
    "        best_score = score\n",
    "        best_k = k\n",
    "        \n",
    "print(best_score)\n",
    "print(best_k)\n",
    "print(k_scores)\n"
   ]
  },
  {
   "cell_type": "code",
   "execution_count": 181,
   "metadata": {},
   "outputs": [
    {
     "name": "stdout",
     "output_type": "stream",
     "text": [
      "0.7057874354561101\n",
      "{'p': 1, 'weights': 'uniform'}\n",
      "KNeighborsClassifier(algorithm='auto', leaf_size=30, metric='minkowski',\n",
      "           metric_params=None, n_jobs=-1, n_neighbors=10, p=1,\n",
      "           weights='uniform')\n"
     ]
    }
   ],
   "source": [
    "#Hyperparameter Tuning\n",
    "grid_params_KNN = [{'p': [1,2],\n",
    "                    'weights': ['uniform']}] \n",
    "\n",
    "gs_KNN = GridSearchCV(estimator=KNeighborsClassifier(n_neighbors=10,n_jobs=-1),\n",
    "                           param_grid=grid_params_KNN,\n",
    "                           scoring='accuracy',\n",
    "                           cv=5)\n",
    "gs_KNN.fit(X_train_scaled, y_train)\n",
    "# examine the best model\n",
    "\n",
    "# Single best score achieved across all params\n",
    "print(gs_KNN.best_score_)\n",
    "\n",
    "# Dictionary containing the parameters used to generate that score\n",
    "print(gs_KNN.best_params_)\n",
    "\n",
    "\n",
    "# Shows default parameters that we did not specify\n",
    "print(gs_KNN.best_estimator_)\n"
   ]
  },
  {
   "cell_type": "code",
   "execution_count": 182,
   "metadata": {},
   "outputs": [
    {
     "name": "stdout",
     "output_type": "stream",
     "text": [
      "Improved KNN\n",
      "-------------------\n",
      "Precision Score: 0.7345132743362832\n",
      "Recall Score: 0.6176744186046511\n",
      "Accuracy Score: 0.7198795180722891\n",
      "F1 Score: 0.6710459828196059\n",
      "-------------------\n",
      "True Positives: 664\n",
      "True Negatives: 1009\n",
      "False Positives: 240\n",
      "False Negatives: 411\n"
     ]
    }
   ],
   "source": [
    "#improved KNN \n",
    "print('Improved KNN')\n",
    "print('-------------------')\n",
    "knn = KNeighborsClassifier(n_neighbors=10)\n",
    "knn.fit(X_train_scaled, y_train)\n",
    "y_preds = knn.predict(X_test_scaled)\n",
    "print_metrics(y_test, y_preds)\n",
    "print('-------------------')\n",
    "confusion = metrics.confusion_matrix(y_test, y_preds)\n",
    "TP = confusion[1][1]\n",
    "TN = confusion[0][0]\n",
    "FP = confusion[0][1]\n",
    "FN = confusion[1][0]\n",
    "\n",
    "print ('True Positives:', TP)\n",
    "print ('True Negatives:', TN)\n",
    "print ('False Positives:', FP)\n",
    "print ('False Negatives:', FN)"
   ]
  },
  {
   "cell_type": "markdown",
   "metadata": {},
   "source": [
    "### XGBoost Classifier"
   ]
  },
  {
   "cell_type": "code",
   "execution_count": 157,
   "metadata": {},
   "outputs": [
    {
     "name": "stdout",
     "output_type": "stream",
     "text": [
      "Baseline XGB\n",
      "-------------------\n",
      "Precision Score: 0.7304526748971193\n",
      "Recall Score: 0.6604651162790698\n",
      "Accuracy Score: 0.7302065404475043\n",
      "F1 Score: 0.6936980947728384\n",
      "-------------------\n",
      "True Positives: 710\n",
      "True Negatives: 987\n",
      "False Positives: 262\n",
      "False Negatives: 365\n"
     ]
    }
   ],
   "source": [
    "#baseline XGB\n",
    "print('Baseline XGB')\n",
    "print('-------------------')\n",
    "clf = xgb.XGBClassifier()\n",
    "clf.fit(X_train_scaled, y_train)\n",
    "training_preds = clf.predict(X_train_scaled)\n",
    "val_preds = clf.predict(X_test_scaled)\n",
    "print_metrics(y_test, val_preds)\n",
    "print('-------------------')\n",
    "confusion = metrics.confusion_matrix(y_test, val_preds)\n",
    "TP = confusion[1][1]\n",
    "TN = confusion[0][0]\n",
    "FP = confusion[0][1]\n",
    "FN = confusion[1][0]\n",
    "\n",
    "print ('True Positives:', TP)\n",
    "print ('True Negatives:', TN)\n",
    "print ('False Positives:', FP)\n",
    "print ('False Negatives:', FN)"
   ]
  },
  {
   "cell_type": "code",
   "execution_count": 164,
   "metadata": {},
   "outputs": [],
   "source": [
    "param_grid = {\n",
    "    \"learning_rate\": [0.1,0.2],\n",
    "    'max_depth': [5,10],\n",
    "    'min_child_weight': [5,10],\n",
    "    'subsample': [0.7,0.8],\n",
    "    'n_estimators': [5,20,30,40,50,100],\n",
    "}"
   ]
  },
  {
   "cell_type": "code",
   "execution_count": 167,
   "metadata": {},
   "outputs": [
    {
     "name": "stdout",
     "output_type": "stream",
     "text": [
      "Grid Search found the following optimal parameters: \n",
      "learning_rate: 0.2\n",
      "max_depth: 5\n",
      "min_child_weight: 10\n",
      "n_estimators: 50\n",
      "subsample: 0.8\n"
     ]
    }
   ],
   "source": [
    "#Hyperparameter Tuning\n",
    "grid_clf = GridSearchCV(clf,param_grid,scoring='accuracy',cv=7, n_jobs=-1)\n",
    "grid_clf.fit(X_train_scaled, y_train)\n",
    "\n",
    "best_parameters = grid_clf.best_params_\n",
    "\n",
    "print(\"Grid Search found the following optimal parameters: \")\n",
    "for param_name in sorted(best_parameters.keys()):\n",
    "    print(\"%s: %r\" % (param_name, best_parameters[param_name]))"
   ]
  },
  {
   "cell_type": "code",
   "execution_count": 177,
   "metadata": {},
   "outputs": [
    {
     "name": "stdout",
     "output_type": "stream",
     "text": [
      "Improved XGB\n",
      "-------------------\n",
      "Precision Score: 0.7245804540967423\n",
      "Recall Score: 0.6827906976744186\n",
      "Accuracy Score: 0.7332185886402753\n",
      "F1 Score: 0.7030651340996169\n",
      "Improved XGB\n",
      "-------------------\n",
      "True Positives: 734\n",
      "True Negatives: 970\n",
      "False Positives: 279\n",
      "False Negatives: 341\n"
     ]
    }
   ],
   "source": [
    "print('Improved XGB')\n",
    "print('-------------------')\n",
    "clf = xgb.XGBClassifier(learning_rate= 0.2, max_depth=5,subsample= 0.8,min_child_weight = 10,n_estimators = 50)\n",
    "clf.fit(X_train_scaled, y_train)\n",
    "training_preds = clf.predict(X_train_scaled)\n",
    "val_preds = clf.predict(X_test_scaled)\n",
    "print_metrics(y_test, val_preds)\n",
    "print ('Improved XGB')\n",
    "print('-------------------')\n",
    "confusion = metrics.confusion_matrix(y_test, val_preds)\n",
    "TP = confusion[1][1]\n",
    "TN = confusion[0][0]\n",
    "FP = confusion[0][1]\n",
    "FN = confusion[1][0]\n",
    "\n",
    "print ('True Positives:', TP)\n",
    "print ('True Negatives:', TN)\n",
    "print ('False Positives:', FP)\n",
    "print ('False Negatives:', FN)"
   ]
  },
  {
   "cell_type": "markdown",
   "metadata": {},
   "source": [
    "### Random Forest Classifier"
   ]
  },
  {
   "cell_type": "code",
   "execution_count": 169,
   "metadata": {},
   "outputs": [
    {
     "name": "stdout",
     "output_type": "stream",
     "text": [
      "Baseline Random Forest\n",
      "-------------------\n",
      "Precision Score: 0.7079741379310345\n",
      "Recall Score: 0.6111627906976744\n",
      "Accuracy Score: 0.7035283993115319\n",
      "F1 Score: 0.6560159760359461\n",
      "-------------------\n",
      "True Positives: 657\n",
      "True Negatives: 978\n",
      "False Positives: 271\n",
      "False Negatives: 418\n"
     ]
    }
   ],
   "source": [
    "print('Baseline Random Forest')\n",
    "print('-------------------')\n",
    "forest = RandomForestClassifier(n_jobs=-1)\n",
    "forest.fit(X_train_scaled, y_train)\n",
    "training_preds = forest.predict(X_train_scaled)\n",
    "val_preds = forest.predict(X_test_scaled)\n",
    "print_metrics(y_test, val_preds)\n",
    "print('-------------------')\n",
    "confusion = metrics.confusion_matrix(y_test, val_preds)\n",
    "TP = confusion[1][1]\n",
    "TN = confusion[0][0]\n",
    "FP = confusion[0][1]\n",
    "FN = confusion[1][0]\n",
    "\n",
    "print ('True Positives:', TP)\n",
    "print ('True Negatives:', TN)\n",
    "print ('False Positives:', FP)\n",
    "print ('False Negatives:', FN)"
   ]
  },
  {
   "cell_type": "code",
   "execution_count": 172,
   "metadata": {},
   "outputs": [
    {
     "name": "stdout",
     "output_type": "stream",
     "text": [
      "Fitting 5 folds for each of 36 candidates, totalling 180 fits\n"
     ]
    },
    {
     "name": "stderr",
     "output_type": "stream",
     "text": [
      "[Parallel(n_jobs=-1)]: Using backend LokyBackend with 4 concurrent workers.\n",
      "[Parallel(n_jobs=-1)]: Done  42 tasks      | elapsed:  2.0min\n",
      "[Parallel(n_jobs=-1)]: Done 180 out of 180 | elapsed:  9.3min finished\n"
     ]
    },
    {
     "name": "stdout",
     "output_type": "stream",
     "text": [
      "0.7210628227194492\n",
      "{'bootstrap': True, 'max_depth': 100, 'max_features': 3, 'min_samples_leaf': 3, 'min_samples_split': 12, 'n_estimators': 1000}\n",
      "RandomForestClassifier(bootstrap=True, class_weight=None, criterion='gini',\n",
      "            max_depth=100, max_features=3, max_leaf_nodes=None,\n",
      "            min_impurity_decrease=0.0, min_impurity_split=None,\n",
      "            min_samples_leaf=3, min_samples_split=12,\n",
      "            min_weight_fraction_leaf=0.0, n_estimators=1000, n_jobs=None,\n",
      "            oob_score=False, random_state=None, verbose=0,\n",
      "            warm_start=False)\n"
     ]
    }
   ],
   "source": [
    "param_grid_forest= {\n",
    "    'bootstrap': [True],\n",
    "    'max_depth': [100, 110],\n",
    "    'max_features': [2, 3],\n",
    "    'min_samples_leaf': [3, 4, 5],\n",
    "    'min_samples_split': [8, 10, 12],\n",
    "    'n_estimators': [100,200,1000]\n",
    "}\n",
    "\n",
    "gs_forest = GridSearchCV(estimator=RandomForestClassifier(),\n",
    "                    param_grid=param_grid_forest,\n",
    "                    scoring='accuracy',\n",
    "                    cv=5,n_jobs=-1,verbose = 1)\n",
    "gs_forest.fit(X_train_scaled, y_train)\n",
    "# examine the best model\n",
    "\n",
    "# Single best score achieved across all params (min_samples_split)\n",
    "print(gs_forest.best_score_)\n",
    "\n",
    "# Dictionary containing the parameters (min_samples_split) used to generate that score\n",
    "print(gs_forest.best_params_)\n",
    "\n",
    "# Actual model object fit with those best parameters\n",
    "# Shows default parameters that we did not specify\n",
    "print(gs_forest.best_estimator_)"
   ]
  },
  {
   "cell_type": "code",
   "execution_count": 173,
   "metadata": {},
   "outputs": [
    {
     "name": "stdout",
     "output_type": "stream",
     "text": [
      "Improved Random Forest\n",
      "-------------------\n",
      "Precision Score: 0.7248459958932238\n",
      "Recall Score: 0.6567441860465116\n",
      "Accuracy Score: 0.7259036144578314\n",
      "F1 Score: 0.6891166422645194\n",
      "-------------------\n",
      "True Positives: 706\n",
      "True Negatives: 981\n",
      "False Positives: 268\n",
      "False Negatives: 369\n"
     ]
    }
   ],
   "source": [
    "print('Improved Random Forest')\n",
    "print('-------------------')\n",
    "forest = RandomForestClassifier(bootstrap= True, max_depth= 100, max_features= 3, min_samples_leaf=3, min_samples_split= 12, n_estimators= 1000,n_jobs=-1)\n",
    "forest.fit(X_train_scaled, y_train)\n",
    "training_preds = forest.predict(X_train_scaled)\n",
    "val_preds = forest.predict(X_test_scaled)\n",
    "print_metrics(y_test, val_preds)\n",
    "print('-------------------')\n",
    "confusion = metrics.confusion_matrix(y_test, val_preds)\n",
    "TP = confusion[1][1]\n",
    "TN = confusion[0][0]\n",
    "FP = confusion[0][1]\n",
    "FN = confusion[1][0]\n",
    "\n",
    "print ('True Positives:', TP)\n",
    "print ('True Negatives:', TN)\n",
    "print ('False Positives:', FP)\n",
    "print ('False Negatives:', FN)"
   ]
  },
  {
   "cell_type": "code",
   "execution_count": 174,
   "metadata": {},
   "outputs": [
    {
     "data": {
      "text/html": [
       "<div>\n",
       "<style scoped>\n",
       "    .dataframe tbody tr th:only-of-type {\n",
       "        vertical-align: middle;\n",
       "    }\n",
       "\n",
       "    .dataframe tbody tr th {\n",
       "        vertical-align: top;\n",
       "    }\n",
       "\n",
       "    .dataframe thead th {\n",
       "        text-align: right;\n",
       "    }\n",
       "</style>\n",
       "<table border=\"1\" class=\"dataframe\">\n",
       "  <thead>\n",
       "    <tr style=\"text-align: right;\">\n",
       "      <th></th>\n",
       "      <th>importance</th>\n",
       "    </tr>\n",
       "  </thead>\n",
       "  <tbody>\n",
       "    <tr>\n",
       "      <th>Disabled workers</th>\n",
       "      <td>0.072668</td>\n",
       "    </tr>\n",
       "    <tr>\n",
       "      <th>Disabled workers^2</th>\n",
       "      <td>0.071132</td>\n",
       "    </tr>\n",
       "    <tr>\n",
       "      <th>Disabled workers Widow(er)s_and_parents_number</th>\n",
       "      <td>0.063880</td>\n",
       "    </tr>\n",
       "    <tr>\n",
       "      <th>Disabled workers Children</th>\n",
       "      <td>0.060331</td>\n",
       "    </tr>\n",
       "    <tr>\n",
       "      <th>Population Retired_workers_number</th>\n",
       "      <td>0.056059</td>\n",
       "    </tr>\n",
       "    <tr>\n",
       "      <th>Disabled workers Type_Track</th>\n",
       "      <td>0.055902</td>\n",
       "    </tr>\n",
       "    <tr>\n",
       "      <th>Population</th>\n",
       "      <td>0.054914</td>\n",
       "    </tr>\n",
       "    <tr>\n",
       "      <th>Population Spouses</th>\n",
       "      <td>0.053950</td>\n",
       "    </tr>\n",
       "    <tr>\n",
       "      <th>Retired_workers_number Spouses</th>\n",
       "      <td>0.052079</td>\n",
       "    </tr>\n",
       "    <tr>\n",
       "      <th>Retired_workers_number^2</th>\n",
       "      <td>0.050517</td>\n",
       "    </tr>\n",
       "  </tbody>\n",
       "</table>\n",
       "</div>"
      ],
      "text/plain": [
       "                                                importance\n",
       "Disabled workers                                  0.072668\n",
       "Disabled workers^2                                0.071132\n",
       "Disabled workers Widow(er)s_and_parents_number    0.063880\n",
       "Disabled workers Children                         0.060331\n",
       "Population Retired_workers_number                 0.056059\n",
       "Disabled workers Type_Track                       0.055902\n",
       "Population                                        0.054914\n",
       "Population Spouses                                0.053950\n",
       "Retired_workers_number Spouses                    0.052079\n",
       "Retired_workers_number^2                          0.050517"
      ]
     },
     "execution_count": 174,
     "metadata": {},
     "output_type": "execute_result"
    }
   ],
   "source": [
    "feature_importance = pd.DataFrame(forest.feature_importances_, index=X_train_scaled.columns, columns=['importance']).sort_values('importance',ascending=False)\n",
    "feature_importance.head(10)"
   ]
  },
  {
   "cell_type": "markdown",
   "metadata": {},
   "source": [
    "## Models Evaluation"
   ]
  },
  {
   "cell_type": "code",
   "execution_count": 190,
   "metadata": {},
   "outputs": [],
   "source": [
    "results = {\"Logistic\":[0.693,0.709,0.710],\"Decision_Tree\":[0.616,0.696,0.696] ,\"KNN\":[0.693,0.705,0.719],\"XGB\":[0.730,0.769,0.733],\"Random_Forest\":[0.703,0.721,0.725] }"
   ]
  },
  {
   "cell_type": "code",
   "execution_count": 191,
   "metadata": {},
   "outputs": [
    {
     "data": {
      "text/html": [
       "<div>\n",
       "<style scoped>\n",
       "    .dataframe tbody tr th:only-of-type {\n",
       "        vertical-align: middle;\n",
       "    }\n",
       "\n",
       "    .dataframe tbody tr th {\n",
       "        vertical-align: top;\n",
       "    }\n",
       "\n",
       "    .dataframe thead th {\n",
       "        text-align: right;\n",
       "    }\n",
       "</style>\n",
       "<table border=\"1\" class=\"dataframe\">\n",
       "  <thead>\n",
       "    <tr style=\"text-align: right;\">\n",
       "      <th></th>\n",
       "      <th>Baseline</th>\n",
       "      <th>Best_Training</th>\n",
       "      <th>Best_Testing</th>\n",
       "    </tr>\n",
       "  </thead>\n",
       "  <tbody>\n",
       "    <tr>\n",
       "      <th>Logistic</th>\n",
       "      <td>0.693</td>\n",
       "      <td>0.709</td>\n",
       "      <td>0.710</td>\n",
       "    </tr>\n",
       "    <tr>\n",
       "      <th>Decision_Tree</th>\n",
       "      <td>0.616</td>\n",
       "      <td>0.696</td>\n",
       "      <td>0.696</td>\n",
       "    </tr>\n",
       "    <tr>\n",
       "      <th>KNN</th>\n",
       "      <td>0.693</td>\n",
       "      <td>0.705</td>\n",
       "      <td>0.719</td>\n",
       "    </tr>\n",
       "    <tr>\n",
       "      <th>XGB</th>\n",
       "      <td>0.730</td>\n",
       "      <td>0.769</td>\n",
       "      <td>0.733</td>\n",
       "    </tr>\n",
       "    <tr>\n",
       "      <th>Random_Forest</th>\n",
       "      <td>0.703</td>\n",
       "      <td>0.721</td>\n",
       "      <td>0.725</td>\n",
       "    </tr>\n",
       "  </tbody>\n",
       "</table>\n",
       "</div>"
      ],
      "text/plain": [
       "               Baseline  Best_Training  Best_Testing\n",
       "Logistic          0.693          0.709         0.710\n",
       "Decision_Tree     0.616          0.696         0.696\n",
       "KNN               0.693          0.705         0.719\n",
       "XGB               0.730          0.769         0.733\n",
       "Random_Forest     0.703          0.721         0.725"
      ]
     },
     "execution_count": 191,
     "metadata": {},
     "output_type": "execute_result"
    }
   ],
   "source": [
    "comparison = pd.DataFrame.from_dict(results, orient='index',columns=['Baseline', 'Best_Training', 'Best_Testing'])\n",
    "comparison "
   ]
  },
  {
   "cell_type": "code",
   "execution_count": 192,
   "metadata": {},
   "outputs": [
    {
     "data": {
      "text/html": [
       "<div>\n",
       "<style scoped>\n",
       "    .dataframe tbody tr th:only-of-type {\n",
       "        vertical-align: middle;\n",
       "    }\n",
       "\n",
       "    .dataframe tbody tr th {\n",
       "        vertical-align: top;\n",
       "    }\n",
       "\n",
       "    .dataframe thead th {\n",
       "        text-align: right;\n",
       "    }\n",
       "</style>\n",
       "<table border=\"1\" class=\"dataframe\">\n",
       "  <thead>\n",
       "    <tr style=\"text-align: right;\">\n",
       "      <th></th>\n",
       "      <th>Baseline</th>\n",
       "      <th>Best_Training</th>\n",
       "      <th>Best_Testing</th>\n",
       "    </tr>\n",
       "  </thead>\n",
       "  <tbody>\n",
       "    <tr>\n",
       "      <th>XGB</th>\n",
       "      <td>0.730</td>\n",
       "      <td>0.769</td>\n",
       "      <td>0.733</td>\n",
       "    </tr>\n",
       "    <tr>\n",
       "      <th>Random_Forest</th>\n",
       "      <td>0.703</td>\n",
       "      <td>0.721</td>\n",
       "      <td>0.725</td>\n",
       "    </tr>\n",
       "    <tr>\n",
       "      <th>KNN</th>\n",
       "      <td>0.693</td>\n",
       "      <td>0.705</td>\n",
       "      <td>0.719</td>\n",
       "    </tr>\n",
       "    <tr>\n",
       "      <th>Logistic</th>\n",
       "      <td>0.693</td>\n",
       "      <td>0.709</td>\n",
       "      <td>0.710</td>\n",
       "    </tr>\n",
       "    <tr>\n",
       "      <th>Decision_Tree</th>\n",
       "      <td>0.616</td>\n",
       "      <td>0.696</td>\n",
       "      <td>0.696</td>\n",
       "    </tr>\n",
       "  </tbody>\n",
       "</table>\n",
       "</div>"
      ],
      "text/plain": [
       "               Baseline  Best_Training  Best_Testing\n",
       "XGB               0.730          0.769         0.733\n",
       "Random_Forest     0.703          0.721         0.725\n",
       "KNN               0.693          0.705         0.719\n",
       "Logistic          0.693          0.709         0.710\n",
       "Decision_Tree     0.616          0.696         0.696"
      ]
     },
     "execution_count": 192,
     "metadata": {},
     "output_type": "execute_result"
    }
   ],
   "source": [
    "comparison = comparison.sort_values('Best_Testing',ascending=False)\n",
    "comparison"
   ]
  },
  {
   "cell_type": "code",
   "execution_count": 193,
   "metadata": {},
   "outputs": [],
   "source": [
    "comparison_testing = comparison[['Baseline','Best_Testing']]"
   ]
  },
  {
   "cell_type": "code",
   "execution_count": 194,
   "metadata": {},
   "outputs": [
    {
     "data": {
      "text/html": [
       "<div>\n",
       "<style scoped>\n",
       "    .dataframe tbody tr th:only-of-type {\n",
       "        vertical-align: middle;\n",
       "    }\n",
       "\n",
       "    .dataframe tbody tr th {\n",
       "        vertical-align: top;\n",
       "    }\n",
       "\n",
       "    .dataframe thead th {\n",
       "        text-align: right;\n",
       "    }\n",
       "</style>\n",
       "<table border=\"1\" class=\"dataframe\">\n",
       "  <thead>\n",
       "    <tr style=\"text-align: right;\">\n",
       "      <th></th>\n",
       "      <th>XGB</th>\n",
       "      <th>Random_Forest</th>\n",
       "      <th>KNN</th>\n",
       "      <th>Logistic</th>\n",
       "      <th>Decision_Tree</th>\n",
       "    </tr>\n",
       "  </thead>\n",
       "  <tbody>\n",
       "    <tr>\n",
       "      <th>Baseline</th>\n",
       "      <td>0.730</td>\n",
       "      <td>0.703</td>\n",
       "      <td>0.693</td>\n",
       "      <td>0.693</td>\n",
       "      <td>0.616</td>\n",
       "    </tr>\n",
       "    <tr>\n",
       "      <th>Best_Training</th>\n",
       "      <td>0.769</td>\n",
       "      <td>0.721</td>\n",
       "      <td>0.705</td>\n",
       "      <td>0.709</td>\n",
       "      <td>0.696</td>\n",
       "    </tr>\n",
       "    <tr>\n",
       "      <th>Best_Testing</th>\n",
       "      <td>0.733</td>\n",
       "      <td>0.725</td>\n",
       "      <td>0.719</td>\n",
       "      <td>0.710</td>\n",
       "      <td>0.696</td>\n",
       "    </tr>\n",
       "  </tbody>\n",
       "</table>\n",
       "</div>"
      ],
      "text/plain": [
       "                 XGB  Random_Forest    KNN  Logistic  Decision_Tree\n",
       "Baseline       0.730          0.703  0.693     0.693          0.616\n",
       "Best_Training  0.769          0.721  0.705     0.709          0.696\n",
       "Best_Testing   0.733          0.725  0.719     0.710          0.696"
      ]
     },
     "execution_count": 194,
     "metadata": {},
     "output_type": "execute_result"
    }
   ],
   "source": [
    "lines = comparison.transpose()\n",
    "lines"
   ]
  },
  {
   "cell_type": "code",
   "execution_count": 195,
   "metadata": {},
   "outputs": [
    {
     "data": {
      "image/png": "[encoded data removed]",
      "text/plain": [
       "<Figure size 432x288 with 1 Axes>"
      ]
     },
     "metadata": {
      "needs_background": "light"
     },
     "output_type": "display_data"
    }
   ],
   "source": [
    "evaluation = lines.plot.line()"
   ]
  },
  {
   "cell_type": "code",
   "execution_count": 196,
   "metadata": {},
   "outputs": [
    {
     "data": {
      "image/png": "[encoded data removed]",
      "text/plain": [
       "<Figure size 432x288 with 1 Axes>"
      ]
     },
     "metadata": {
      "needs_background": "light"
     },
     "output_type": "display_data"
    }
   ],
   "source": [
    "new_lines = comparison_testing.transpose()\n",
    "evaluation2 = new_lines.plot.line()"
   ]
  },
  {
   "cell_type": "markdown",
   "metadata": {},
   "source": [
    "## Final Model"
   ]
  },
  {
   "cell_type": "markdown",
   "metadata": {},
   "source": [
    "## The model with the best result was the XGBoost model with 0.73 Accuracy"
   ]
  },
  {
   "cell_type": "code",
   "execution_count": null,
   "metadata": {},
   "outputs": [],
   "source": []
  }
 ],
 "metadata": {
  "kernelspec": {
   "display_name": "Python 3",
   "language": "python",
   "name": "python3"
  },
  "language_info": {
   "codemirror_mode": {
    "name": "ipython",
    "version": 3
   },
   "file_extension": ".py",
   "mimetype": "text/x-python",
   "name": "python",
   "nbconvert_exporter": "python",
   "pygments_lexer": "ipython3",
   "version": "3.7.3"
  }
 },
 "nbformat": 4,
 "nbformat_minor": 2
}
